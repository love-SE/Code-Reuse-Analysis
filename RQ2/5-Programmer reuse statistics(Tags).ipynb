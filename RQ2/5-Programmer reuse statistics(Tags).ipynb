{
 "cells": [
  {
   "cell_type": "code",
   "execution_count": 1,
   "outputs": [],
   "source": [
    "from datetime import datetime\n",
    "import time\n",
    "import os\n",
    "from tqdm import tqdm\n",
    "import pandas as pd\n",
    "import re\n",
    "import matplotlib.pyplot as plt"
   ],
   "metadata": {
    "collapsed": false,
    "pycharm": {
     "name": "#%%\n"
    }
   }
  },
  {
   "cell_type": "code",
   "execution_count": 2,
   "outputs": [],
   "source": [
    "path_dict = {0:'./1/', 1:'./2/', 2:'./3-5/',\n",
    "             3:'./6-15/', 4:'./16-100/', 5:'./100/'}\n"
   ],
   "metadata": {
    "collapsed": false,
    "pycharm": {
     "name": "#%%\n"
    }
   }
  },
  {
   "cell_type": "code",
   "execution_count": 3,
   "outputs": [
    {
     "name": "stdout",
     "output_type": "stream",
     "text": [
      "<class 'pandas.core.frame.DataFrame'>\n",
      "RangeIndex: 148 entries, 0 to 147\n",
      "Data columns (total 7 columns):\n",
      " #   Column         Non-Null Count  Dtype  \n",
      "---  ------         --------------  -----  \n",
      " 0   CreationDate   148 non-null    object \n",
      " 1   Title          148 non-null    object \n",
      " 2   Tags           148 non-null    object \n",
      " 3   Score          148 non-null    int64  \n",
      " 4   AnswerCount    148 non-null    int64  \n",
      " 5   CommentCount   148 non-null    int64  \n",
      " 6   FavoriteCount  26 non-null     float64\n",
      "dtypes: float64(1), int64(3), object(3)\n",
      "memory usage: 8.2+ KB\n",
      "None\n",
      "<class 'pandas.core.frame.DataFrame'>\n",
      "RangeIndex: 137 entries, 0 to 136\n",
      "Data columns (total 7 columns):\n",
      " #   Column         Non-Null Count  Dtype  \n",
      "---  ------         --------------  -----  \n",
      " 0   CreationDate   137 non-null    object \n",
      " 1   Title          137 non-null    object \n",
      " 2   Tags           137 non-null    object \n",
      " 3   Score          137 non-null    int64  \n",
      " 4   AnswerCount    137 non-null    int64  \n",
      " 5   CommentCount   137 non-null    int64  \n",
      " 6   FavoriteCount  31 non-null     float64\n",
      "dtypes: float64(1), int64(3), object(3)\n",
      "memory usage: 7.6+ KB\n",
      "None\n",
      "<class 'pandas.core.frame.DataFrame'>\n",
      "RangeIndex: 337 entries, 0 to 336\n",
      "Data columns (total 7 columns):\n",
      " #   Column         Non-Null Count  Dtype  \n",
      "---  ------         --------------  -----  \n",
      " 0   CreationDate   337 non-null    object \n",
      " 1   Title          337 non-null    object \n",
      " 2   Tags           337 non-null    object \n",
      " 3   Score          337 non-null    int64  \n",
      " 4   AnswerCount    337 non-null    int64  \n",
      " 5   CommentCount   337 non-null    int64  \n",
      " 6   FavoriteCount  61 non-null     float64\n",
      "dtypes: float64(1), int64(3), object(3)\n",
      "memory usage: 18.6+ KB\n",
      "None\n",
      "<class 'pandas.core.frame.DataFrame'>\n",
      "RangeIndex: 740 entries, 0 to 739\n",
      "Data columns (total 7 columns):\n",
      " #   Column         Non-Null Count  Dtype  \n",
      "---  ------         --------------  -----  \n",
      " 0   CreationDate   740 non-null    object \n",
      " 1   Title          740 non-null    object \n",
      " 2   Tags           740 non-null    object \n",
      " 3   Score          740 non-null    int64  \n",
      " 4   AnswerCount    740 non-null    int64  \n",
      " 5   CommentCount   740 non-null    int64  \n",
      " 6   FavoriteCount  155 non-null    float64\n",
      "dtypes: float64(1), int64(3), object(3)\n",
      "memory usage: 40.6+ KB\n",
      "None\n",
      "<class 'pandas.core.frame.DataFrame'>\n",
      "RangeIndex: 2051 entries, 0 to 2050\n",
      "Data columns (total 7 columns):\n",
      " #   Column         Non-Null Count  Dtype  \n",
      "---  ------         --------------  -----  \n",
      " 0   CreationDate   2051 non-null   object \n",
      " 1   Title          2051 non-null   object \n",
      " 2   Tags           2051 non-null   object \n",
      " 3   Score          2051 non-null   int64  \n",
      " 4   AnswerCount    2051 non-null   int64  \n",
      " 5   CommentCount   2051 non-null   int64  \n",
      " 6   FavoriteCount  454 non-null    float64\n",
      "dtypes: float64(1), int64(3), object(3)\n",
      "memory usage: 112.3+ KB\n",
      "None\n",
      "<class 'pandas.core.frame.DataFrame'>\n",
      "RangeIndex: 4818 entries, 0 to 4817\n",
      "Data columns (total 7 columns):\n",
      " #   Column         Non-Null Count  Dtype  \n",
      "---  ------         --------------  -----  \n",
      " 0   CreationDate   4818 non-null   object \n",
      " 1   Title          4818 non-null   object \n",
      " 2   Tags           4818 non-null   object \n",
      " 3   Score          4818 non-null   int64  \n",
      " 4   AnswerCount    4818 non-null   int64  \n",
      " 5   CommentCount   4818 non-null   int64  \n",
      " 6   FavoriteCount  1122 non-null   float64\n",
      "dtypes: float64(1), int64(3), object(3)\n",
      "memory usage: 263.6+ KB\n",
      "None\n"
     ]
    }
   ],
   "source": [
    "df_list = []\n",
    "for i in range(6):\n",
    "    df = pd.read_excel(path_dict[i]+'so details.xlsx')\n",
    "    print(df.info())\n",
    "    df_list.append(df)\n"
   ],
   "metadata": {
    "collapsed": false,
    "pycharm": {
     "name": "#%%\n"
    }
   }
  },
  {
   "cell_type": "code",
   "execution_count": 4,
   "outputs": [],
   "source": [
    "df1, df2, df3, df4, df5, df6 = df_list\n"
   ],
   "metadata": {
    "collapsed": false,
    "pycharm": {
     "name": "#%%\n"
    }
   }
  },
  {
   "cell_type": "code",
   "execution_count": 5,
   "outputs": [],
   "source": [
    "df1['Tags'][0].split(' ')\n",
    "Tags = [[],[],[],[],[],[]]\n",
    "for idx, temp_df in enumerate(df_list):\n",
    "    for i in range(len(temp_df)):\n",
    "        Tags[idx].extend(temp_df['Tags'][i].split(' '))\n",
    "\n"
   ],
   "metadata": {
    "collapsed": false,
    "pycharm": {
     "name": "#%%\n"
    }
   }
  },
  {
   "cell_type": "code",
   "execution_count": 6,
   "outputs": [],
   "source": [
    "tag_dict_list = [dict(),dict(),dict(),dict(),dict(),dict()]\n",
    "for idx, tag in enumerate(Tags):\n",
    "    for t in tag:\n",
    "        if t in tag_dict_list[idx].keys():\n",
    "            tag_dict_list[idx][t] += 1\n",
    "        else:\n",
    "            tag_dict_list[idx][t] = 0\n",
    "\n",
    "\n"
   ],
   "metadata": {
    "collapsed": false,
    "pycharm": {
     "name": "#%%\n"
    }
   }
  },
  {
   "cell_type": "code",
   "execution_count": 7,
   "outputs": [
    {
     "data": {
      "text/plain": "{'java': 136,\n 'algorithm': 0,\n 'arrays': 3,\n 'global-variables': 0,\n 'android': 21,\n 'xml': 4,\n 'arraylist': 3,\n 'android-spinner': 0,\n 'count': 0,\n 'generics': 2,\n 'methods': 0,\n 'interface': 1,\n 'implements': 0,\n 'jaxb': 0,\n 'converter': 0,\n 'eclipse': 6,\n 'lucene': 0,\n 'multithreading': 3,\n 'rx-java': 1,\n 'rx-binding': 0,\n 'sql': 1,\n 'jpa': 1,\n 'spring-batch': 0,\n 'nuodb': 0,\n 'datetime': 1,\n 'jodatime': 0,\n 'utc': 0,\n 'post': 0,\n 'woocommerce': 0,\n 'get': 0,\n 'https': 0,\n 'gsoap': 0,\n 'symbolic-math': 0,\n 'algebra': 0,\n 'calculus': 0,\n 'unit-testing': 0,\n 'netbeans-platform': 0,\n 'java-8': 1,\n 'java-stream': 1,\n 'optional': 0,\n 'graphics': 0,\n '2d': 0,\n 'lwjgl': 0,\n 'hashmap': 0,\n 'nested': 0,\n 'httpsurlconnection': 0,\n 'mysql': 5,\n 'database': 0,\n 'hibernate': 1,\n 'php': 1,\n 'character': 0,\n 'linux': 1,\n 'maven': 3,\n 'ubuntu': 0,\n 'openjdk': 0,\n 'jetty': 0,\n 'embedded-jetty': 0,\n 'spark-java': 0,\n 'selenium': 0,\n 'serialization': 0,\n 'jackson': 1,\n 'file': 2,\n 'text': 0,\n 'replace': 0,\n 'transpose': 0,\n 'exception': 1,\n 'runtime': 0,\n 'lang': 0,\n 'ms-access': 0,\n 'ms-access-2007': 0,\n 'object': 0,\n 'file-io': 0,\n 'types': 0,\n 'null': 0,\n 'comparison': 0,\n 'jakarta-ee': 2,\n 'ejb': 1,\n 'csv': 0,\n 'streaming': 0,\n 'sax': 0,\n 'spring': 7,\n 'dependency-injection': 0,\n 'jexl': 0,\n 'swing': 6,\n 'jframe': 2,\n 'jpanel': 0,\n 'string': 1,\n 'substring': 0,\n 'kubernetes': 0,\n 'google-kubernetes-engine': 0,\n 'for-loop': 0,\n 'java.util.scanner': 0,\n 'joptionpane': 0,\n 'tomcat': 1,\n 'download': 0,\n 'json': 2,\n 'regex': 0,\n 'sms': 0,\n 'sendmessage': 0,\n 'elasticsearch': 0,\n 'spring-data-elasticsearch': 0,\n 'jtextarea': 0,\n 'aop': 1,\n 'aspectj': 1,\n 'java-ee-6': 0,\n 'pointcut': 0,\n 'javascript': 2,\n 'jsp': 2,\n 'liferay': 0,\n 'applet': 0,\n 'deployjava': 0,\n 'orm': 0,\n 'h2': 0,\n 'h2db': 0,\n 'processing': 1,\n 'if-statement': 0,\n 'switch-statement': 0,\n 'list': 0,\n 'spring-mvc': 2,\n 'vaadin': 0,\n 'user-input': 0,\n 'aspect': 0,\n 'loops': 0,\n 'scope': 0,\n 'initialization': 0,\n 'do-while': 0,\n 'oop': 0,\n 'abstract-class': 1,\n 'html': 0,\n 'image': 0,\n 'jeditorpane': 0,\n 'amazon-web-services': 2,\n 'android-studio': 2,\n 'eclipse-rcp': 0,\n 'jbutton': 0,\n 'jsoup': 0,\n 'char': 0,\n 'android-listview': 0,\n 'unchecked-cast': 0,\n 'mongodb': 0,\n 'javabeans': 0,\n 'oracle': 0,\n 'gradle': 1,\n 'ojdbc': 0,\n 'bluej': 0,\n 'google-app-engine': 1,\n 'blobstore': 0,\n 'concurrency': 0,\n 'executorservice': 0,\n 'executor': 0,\n 'serial-port': 0,\n 'amazon-s3': 1,\n 'configuration': 0,\n 'responsiveness': 0,\n 'static': 0,\n 'singleton': 0,\n 'threadpoolexecutor': 0,\n 'non-static': 0,\n 'servlets': 1,\n 'opencsv': 0,\n 'jboss': 3,\n 'wildfly': 1,\n 'class': 0,\n 'comparable': 0,\n 'connection-pooling': 0,\n 'stdout': 0,\n 'intellij-idea': 0,\n 'classnotfoundexception': 0,\n 'spring-boot': 0,\n 'garbage-collection': 0,\n 'ucanaccess': 0,\n 'pointers': 0,\n 'linked-list': 0,\n 'rmi': 0,\n 'jndi': 0,\n 'producer-consumer': 0,\n 'blockingqueue': 0,\n 'email': 0,\n 'jboss6.x': 0,\n 'android-activity': 0,\n 'jar': 0,\n 'classpath': 0,\n 'manifest': 0,\n 'javafx': 0,\n 'fxml': 0,\n 'apache-poi': 0,\n 'jenkins': 0,\n 'sockets': 0,\n 'port': 0,\n 'jquery': 0,\n 'rabbitmq': 0,\n 'amqp': 0,\n 'mqtt': 0,\n 'iot': 0,\n 'paho': 0,\n 'hivemq': 0,\n 'haskell': 0,\n 'control-structure': 0,\n 'google-cloud-platform': 0,\n 'google-cloud-datastore': 0,\n 'parsing': 0,\n 'xtext': 0,\n 'firebase': 0,\n 'firebase-storage': 0,\n 'pentaho': 0,\n 'data-warehouse': 0,\n 'variable-declaration': 0,\n 'collections': 0,\n 'type-safety': 0,\n 'parametric-polymorphism': 0,\n 'listview': 0,\n 'adapter': 0,\n 'hadoop': 0,\n 'hdfs': 0,\n 'guava': 0,\n 'jackson-modules': 0,\n 'aws-lambda': 0}"
     },
     "execution_count": 7,
     "metadata": {},
     "output_type": "execute_result"
    }
   ],
   "source": [
    "tag_dict_list[1]\n"
   ],
   "metadata": {
    "collapsed": false,
    "pycharm": {
     "name": "#%%\n"
    }
   }
  },
  {
   "cell_type": "code",
   "execution_count": 8,
   "outputs": [],
   "source": [
    "tag_dict1, tag_dict2, tag_dict3, tag_dict4, tag_dict5, tag_dict6 = tag_dict_list\n"
   ],
   "metadata": {
    "collapsed": false,
    "pycharm": {
     "name": "#%%\n"
    }
   }
  },
  {
   "cell_type": "code",
   "execution_count": 9,
   "outputs": [
    {
     "data": {
      "text/plain": "[('android', 28),\n ('maven', 6),\n ('arrays', 5),\n ('spring-boot', 4),\n ('hibernate', 4)]"
     },
     "execution_count": 9,
     "metadata": {},
     "output_type": "execute_result"
    }
   ],
   "source": [
    "sorted(tag_dict1.items(), key=lambda x: x[1],reverse=True)[1:6]\n"
   ],
   "metadata": {
    "collapsed": false,
    "pycharm": {
     "name": "#%%\n"
    }
   }
  },
  {
   "cell_type": "code",
   "execution_count": 10,
   "outputs": [
    {
     "data": {
      "text/plain": "[('android', 21), ('spring', 7), ('eclipse', 6), ('swing', 6), ('mysql', 5)]"
     },
     "execution_count": 10,
     "metadata": {},
     "output_type": "execute_result"
    }
   ],
   "source": [
    "sorted(tag_dict2.items(), key=lambda x: x[1],reverse=True)[1:6]"
   ],
   "metadata": {
    "collapsed": false,
    "pycharm": {
     "name": "#%%\n"
    }
   }
  },
  {
   "cell_type": "code",
   "execution_count": 11,
   "outputs": [
    {
     "data": {
      "text/plain": "[('android', 46),\n ('spring', 23),\n ('hibernate', 10),\n ('eclipse', 10),\n ('multithreading', 9)]"
     },
     "execution_count": 11,
     "metadata": {},
     "output_type": "execute_result"
    }
   ],
   "source": [
    "sorted(tag_dict3.items(), key=lambda x: x[1],reverse=True)[1:6]\n"
   ],
   "metadata": {
    "collapsed": false,
    "pycharm": {
     "name": "#%%\n"
    }
   }
  },
  {
   "cell_type": "code",
   "execution_count": 12,
   "outputs": [
    {
     "data": {
      "text/plain": "[('android', 107),\n ('spring', 41),\n ('swing', 34),\n ('hibernate', 23),\n ('arrays', 21)]"
     },
     "execution_count": 12,
     "metadata": {},
     "output_type": "execute_result"
    }
   ],
   "source": [
    "sorted(tag_dict4.items(), key=lambda x: x[1],reverse=True)[1:6]\n"
   ],
   "metadata": {
    "collapsed": false,
    "pycharm": {
     "name": "#%%\n"
    }
   }
  },
  {
   "cell_type": "code",
   "execution_count": 13,
   "outputs": [
    {
     "data": {
      "text/plain": "[('android', 314), ('spring', 131), ('swing', 79), ('xml', 58), ('arrays', 57)]"
     },
     "execution_count": 13,
     "metadata": {},
     "output_type": "execute_result"
    }
   ],
   "source": [
    "sorted(tag_dict5.items(), key=lambda x: x[1],reverse=True)[1:6]\n"
   ],
   "metadata": {
    "collapsed": false,
    "pycharm": {
     "name": "#%%\n"
    }
   }
  },
  {
   "cell_type": "code",
   "execution_count": 14,
   "outputs": [
    {
     "data": {
      "text/plain": "[('android', 718),\n ('spring', 319),\n ('swing', 204),\n ('hibernate', 191),\n ('arrays', 142)]"
     },
     "execution_count": 14,
     "metadata": {},
     "output_type": "execute_result"
    }
   ],
   "source": [
    "sorted(tag_dict6.items(), key=lambda x: x[1],reverse=True)[1:6]\n"
   ],
   "metadata": {
    "collapsed": false,
    "pycharm": {
     "name": "#%%\n"
    }
   }
  },
  {
   "cell_type": "code",
   "execution_count": 1,
   "outputs": [
    {
     "name": "stderr",
     "output_type": "stream",
     "text": [
      "100%|██████████| 10/10 [00:00<?, ?it/s]\n"
     ]
    },
    {
     "name": "stdout",
     "output_type": "stream",
     "text": [
      "0\n",
      "1\n",
      "2\n",
      "3\n",
      "4\n",
      "5\n",
      "6\n",
      "7\n",
      "8\n",
      "9\n"
     ]
    }
   ],
   "source": [],
   "metadata": {
    "collapsed": false,
    "pycharm": {
     "name": "#%%\n"
    }
   }
  }
 ],
 "metadata": {
  "kernelspec": {
   "display_name": "Python 3",
   "language": "python",
   "name": "python3"
  },
  "language_info": {
   "codemirror_mode": {
    "name": "ipython",
    "version": 2
   },
   "file_extension": ".py",
   "mimetype": "text/x-python",
   "name": "python",
   "nbconvert_exporter": "python",
   "pygments_lexer": "ipython2",
   "version": "2.7.6"
  }
 },
 "nbformat": 4,
 "nbformat_minor": 0
}