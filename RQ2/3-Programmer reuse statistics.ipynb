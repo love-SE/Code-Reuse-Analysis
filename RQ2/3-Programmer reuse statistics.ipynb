{
 "cells": [
  {
   "cell_type": "code",
   "execution_count": null,
   "outputs": [],
   "source": [
    "from datetime import datetime\n",
    "import time\n",
    "import os\n",
    "from tqdm import tqdm\n",
    "import pandas as pd\n",
    "import re"
   ],
   "metadata": {
    "collapsed": false,
    "pycharm": {
     "name": "#%%\n"
    }
   }
  },
  {
   "cell_type": "code",
   "execution_count": 0,
   "outputs": [],
   "source": [],
   "metadata": {
    "collapsed": false,
    "pycharm": {
     "name": "#%%\n"
    }
   }
  },
  {
   "cell_type": "code",
   "execution_count": 2,
   "outputs": [],
   "source": [
    "def extract_info(x):\n",
    "    CreationDate = re.findall(r'CreationDate = (.*?)//',x)[0]\n",
    "\n",
    "    Title = re.findall(r'Title = (.*?)//',x)[0]\n",
    "\n",
    "    Tags = re.findall(r'Tags = (.*?)//',x)[0]\n",
    "    Tags = Tags.split('><')\n",
    "    Tags[0] = Tags[0].lstrip('<')\n",
    "    Tags[-1] = Tags[-1].rstrip('>')\n",
    "    Tags = ' '.join(Tags)\n",
    "\n",
    "    Score = re.findall(r'Score = (.*?)//',x)[0]\n",
    "\n",
    "\n",
    "    AnswerCount = re.findall(r'AnswerCount = (.*?)//',x)\n",
    "    if AnswerCount==[] or AnswerCount==['']:\n",
    "        AnswerCount = re.findall(r'AnswerCount = (.*?)\\n',x)\n",
    "        if AnswerCount == [] or AnswerCount==['']:\n",
    "            AnswerCount = None\n",
    "        else:\n",
    "            AnswerCount = AnswerCount[0]\n",
    "    else:\n",
    "        AnswerCount = AnswerCount[0]\n",
    "\n",
    "\n",
    "    CommentCount = re.findall(r'CommentCount = (.*?)//',x)\n",
    "    if CommentCount==[] or CommentCount==['']:\n",
    "        CommentCount = re.findall(r'CommentCount = (.*?)\\n',x)\n",
    "        if CommentCount==[] or CommentCount==['']:\n",
    "            CommentCount = None\n",
    "        else:\n",
    "            CommentCount = CommentCount[0]\n",
    "    else:\n",
    "        CommentCount = CommentCount[0]\n",
    "\n",
    "    FavoriteCount = re.findall(r'FavoriteCount = (.*?)//',x)\n",
    "    if FavoriteCount==[] or FavoriteCount==['']:\n",
    "        FavoriteCount = re.findall(r'FavoriteCount = (.*?)\\n',x)\n",
    "        if FavoriteCount==[] or FavoriteCount==['']:\n",
    "            FavoriteCount = None\n",
    "        else:\n",
    "            FavoriteCount = FavoriteCount[0]\n",
    "    else:\n",
    "        FavoriteCount = FavoriteCount[0]\n",
    "\n",
    "\n",
    "\n",
    "    return CreationDate, Title, Tags, Score, AnswerCount, CommentCount, FavoriteCount\n"
   ],
   "metadata": {
    "collapsed": false,
    "pycharm": {
     "name": "#%%\n"
    }
   }
  },
  {
   "cell_type": "code",
   "execution_count": 4,
   "outputs": [],
   "source": [],
   "metadata": {
    "collapsed": false,
    "pycharm": {
     "name": "#%%\n"
    }
   }
  },
  {
   "cell_type": "code",
   "execution_count": 4,
   "outputs": [
    {
     "name": "stderr",
     "output_type": "stream",
     "text": [
      "100%|██████████| 6/6 [00:14<00:00,  2.42s/it]\n"
     ]
    }
   ],
   "source": [
    "path_dict = {0:'./1/', 1:'./2/', 2:'./3-5/',\n",
    "             3:'./6-15/', 4:'./16-100/', 5:'./100/'}\n",
    "\n",
    "for idx in tqdm(range(6)):\n",
    "    new_df = pd.DataFrame({'CreationDate':[],'Title':[], 'Tags':[],\n",
    "                              'Score':[],'AnswerCount':[], 'CommentCount':[],\n",
    "                              'FavoriteCount':[]})\n",
    "    with open(path_dict[idx]+'so info.txt', encoding='utf-8') as f:\n",
    "        lines = f.readlines()\n",
    "        lines = list(set(lines))\n",
    "\n",
    "        for l in lines:\n",
    "            CreationDate, Title, Tags, Score, AnswerCount, CommentCount, FavoriteCount = extract_info(l)\n",
    "            new_df.loc[len(new_df)] = [CreationDate, Title, Tags, Score, AnswerCount, CommentCount, FavoriteCount]\n",
    "\n",
    "\n",
    "    new_df.to_excel(path_dict[idx]+'so details.xlsx',index=False)\n",
    "\n",
    "\n",
    "\n"
   ],
   "metadata": {
    "collapsed": false,
    "pycharm": {
     "name": "#%%\n"
    }
   }
  },
  {
   "cell_type": "code",
   "execution_count": 4,
   "outputs": [],
   "source": [],
   "metadata": {
    "collapsed": false,
    "pycharm": {
     "name": "#%%\n"
    }
   }
  },
  {
   "cell_type": "code",
   "execution_count": 4,
   "outputs": [],
   "source": [],
   "metadata": {
    "collapsed": false,
    "pycharm": {
     "name": "#%%\n"
    }
   }
  },
  {
   "cell_type": "code",
   "execution_count": 0,
   "outputs": [],
   "source": [],
   "metadata": {
    "collapsed": false,
    "pycharm": {
     "name": "#%%\n"
    }
   }
  },
  {
   "cell_type": "code",
   "execution_count": null,
   "outputs": [],
   "source": [
    "\n"
   ],
   "metadata": {
    "collapsed": false,
    "pycharm": {
     "name": "#%%\n"
    }
   }
  }
 ],
 "metadata": {
  "kernelspec": {
   "display_name": "Python 3",
   "language": "python",
   "name": "python3"
  },
  "language_info": {
   "codemirror_mode": {
    "name": "ipython",
    "version": 2
   },
   "file_extension": ".py",
   "mimetype": "text/x-python",
   "name": "python",
   "nbconvert_exporter": "python",
   "pygments_lexer": "ipython2",
   "version": "2.7.6"
  }
 },
 "nbformat": 4,
 "nbformat_minor": 0
}