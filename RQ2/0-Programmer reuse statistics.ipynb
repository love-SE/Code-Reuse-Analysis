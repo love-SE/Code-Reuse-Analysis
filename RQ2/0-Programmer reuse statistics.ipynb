{
 "cells": [
  {
   "cell_type": "code",
   "execution_count": 1,
   "outputs": [],
   "source": [
    "from datetime import datetime\n",
    "import time\n",
    "import os\n",
    "from tqdm import tqdm\n",
    "import pandas as pd\n",
    "import re\n"
   ],
   "metadata": {
    "collapsed": false,
    "pycharm": {
     "name": "#%%\n"
    }
   }
  },
  {
   "cell_type": "code",
   "execution_count": 10,
   "outputs": [
    {
     "name": "stdout",
     "output_type": "stream",
     "text": [
      "21622\n"
     ]
    },
    {
     "data": {
      "text/plain": "['D-CCFinder-NewData-AarogyaSetu-0-104.java.txt',\n 'D-CCFinder-NewData-AarogyaSetu-0-185.java.txt',\n 'D-CCFinder-NewData-AarogyaSetu-0-221.java.txt',\n 'D-CCFinder-NewData-AarogyaSetu-0-233.java.txt',\n 'D-CCFinder-NewData-AarogyaSetu-0-644.java.txt']"
     },
     "execution_count": 10,
     "metadata": {},
     "output_type": "execute_result"
    }
   ],
   "source": [
    "path1 = 'D:/CCFinder/Commit2So(A commit will correspond to multiple sos)/'\n",
    "commit1_list = os.listdir(path1)\n",
    "print(len(commit1_list))\n",
    "commit1_list[:5]"
   ],
   "metadata": {
    "collapsed": false,
    "pycharm": {
     "name": "#%%\n"
    }
   }
  },
  {
   "cell_type": "code",
   "execution_count": 36,
   "outputs": [
    {
     "name": "stdout",
     "output_type": "stream",
     "text": [
      "0\n"
     ]
    },
    {
     "data": {
      "text/plain": "[]"
     },
     "execution_count": 36,
     "metadata": {},
     "output_type": "execute_result"
    }
   ],
   "source": [
    "path2 = 'D:/CCFinder/Commit2So(A commit only corresponds to the latest so)/'\n",
    "commit2_list = os.listdir(path2)\n",
    "print(len(commit2_list))\n",
    "commit2_list[:5]"
   ],
   "metadata": {
    "collapsed": false,
    "pycharm": {
     "name": "#%%\n"
    }
   }
  },
  {
   "cell_type": "code",
   "execution_count": 38,
   "outputs": [
    {
     "name": "stderr",
     "output_type": "stream",
     "text": [
      "100%|██████████| 21622/21622 [02:58<00:00, 121.09it/s]\n"
     ]
    }
   ],
   "source": [
    "for file in tqdm(commit1_list):\n",
    "    with open(path1+file, 'r', encoding='utf-8') as f1:\n",
    "        lines = f1.readlines()\n",
    "        latest_date = pd.to_datetime('1-1-1')\n",
    "        for so_post in lines:\n",
    "            CreationDate = re.findall(r'CreationDate = (.*?)//', so_post)[0][:10]\n",
    "            if pd.to_datetime(CreationDate)>latest_date:\n",
    "                latest_date = pd.to_datetime(CreationDate)\n",
    "                res = so_post\n",
    "        with open(path2+file, 'w', encoding='utf-8') as f2:\n",
    "            f2.write(res)\n"
   ],
   "metadata": {
    "collapsed": false,
    "pycharm": {
     "name": "#%%\n"
    }
   }
  },
  {
   "cell_type": "code",
   "execution_count": 13,
   "outputs": [
    {
     "data": {
      "text/plain": "['//CreationDate = 2015-09-17T01:13:13.000//Tags = <java><android><nullpointerexception><null>//Score = -1//Title = Printing to log returns null pointer error - Android//AnswerCount = 1//CommentCount = 5\\n',\n '//CreationDate = 2015-11-14T09:53:47.090//Tags = <java><android>//Score = 0//Title = Only part of an activity being called upon (Android studio, java)//AnswerCount = 1//CommentCount = 7\\n',\n '//CreationDate = 2016-03-24T15:45:53.050//Tags = <java><jboss><jboss-eap-6>//Score = 2//Title = JBoss: including subdirectories in Module Path//AnswerCount = 1//CommentCount = 1//FavoriteCount = 1\\n',\n '//CreationDate = 2016-08-29T05:39:26.597//Tags = <java><android><android-studio><android-gradle-plugin>//Score = 1//Title = black activity giving error android studio//AnswerCount = 1//CommentCount = 2\\n',\n '//CreationDate = 2017-05-26T13:20:48.773//Tags = <java><maven><docker><continuous-integration><gitlab>//Score = 2//Title = Run maven command from docker image//AnswerCount = 1//CommentCount = 0\\n',\n \"//CreationDate = 2018-08-06T01:49:50.053//Tags = <java><comparator>//Score = 0//Title = Inconsistency in Java's compareTo method on Strings//AnswerCount = 0//CommentCount = 3\\n\"]"
     },
     "execution_count": 13,
     "metadata": {},
     "output_type": "execute_result"
    }
   ],
   "source": [
    "lines"
   ],
   "metadata": {
    "collapsed": false,
    "pycharm": {
     "name": "#%%\n"
    }
   }
  },
  {
   "cell_type": "code",
   "execution_count": 35,
   "outputs": [
    {
     "data": {
      "text/plain": "\"//CreationDate = 2018-08-06T01:49:50.053//Tags = <java><comparator>//Score = 0//Title = Inconsistency in Java's compareTo method on Strings//AnswerCount = 0//CommentCount = 3\\n\""
     },
     "execution_count": 35,
     "metadata": {},
     "output_type": "execute_result"
    }
   ],
   "source": [
    "res\n"
   ],
   "metadata": {
    "collapsed": false,
    "pycharm": {
     "name": "#%%\n"
    }
   }
  },
  {
   "cell_type": "code",
   "execution_count": null,
   "outputs": [],
   "source": [],
   "metadata": {
    "collapsed": false,
    "pycharm": {
     "name": "#%%\n"
    }
   }
  },
  {
   "cell_type": "code",
   "execution_count": null,
   "outputs": [],
   "source": [],
   "metadata": {
    "collapsed": false,
    "pycharm": {
     "name": "#%%\n"
    }
   }
  },
  {
   "cell_type": "code",
   "execution_count": null,
   "outputs": [],
   "source": [],
   "metadata": {
    "collapsed": false,
    "pycharm": {
     "name": "#%%\n"
    }
   }
  },
  {
   "cell_type": "code",
   "execution_count": null,
   "outputs": [],
   "source": [],
   "metadata": {
    "collapsed": false,
    "pycharm": {
     "name": "#%%\n"
    }
   }
  },
  {
   "cell_type": "code",
   "execution_count": null,
   "outputs": [],
   "source": [],
   "metadata": {
    "collapsed": false,
    "pycharm": {
     "name": "#%%\n"
    }
   }
  },
  {
   "cell_type": "code",
   "execution_count": null,
   "outputs": [],
   "source": [],
   "metadata": {
    "collapsed": false,
    "pycharm": {
     "name": "#%%\n"
    }
   }
  },
  {
   "cell_type": "code",
   "execution_count": null,
   "outputs": [],
   "source": [],
   "metadata": {
    "collapsed": false,
    "pycharm": {
     "name": "#%%\n"
    }
   }
  },
  {
   "cell_type": "code",
   "execution_count": null,
   "outputs": [],
   "source": [],
   "metadata": {
    "collapsed": false,
    "pycharm": {
     "name": "#%%\n"
    }
   }
  },
  {
   "cell_type": "code",
   "execution_count": null,
   "outputs": [],
   "source": [],
   "metadata": {
    "collapsed": false,
    "pycharm": {
     "name": "#%%\n"
    }
   }
  },
  {
   "cell_type": "code",
   "execution_count": null,
   "outputs": [],
   "source": [
    "\n"
   ],
   "metadata": {
    "collapsed": false,
    "pycharm": {
     "name": "#%%\n"
    }
   }
  }
 ],
 "metadata": {
  "kernelspec": {
   "display_name": "Python 3",
   "language": "python",
   "name": "python3"
  },
  "language_info": {
   "codemirror_mode": {
    "name": "ipython",
    "version": 2
   },
   "file_extension": ".py",
   "mimetype": "text/x-python",
   "name": "python",
   "nbconvert_exporter": "python",
   "pygments_lexer": "ipython2",
   "version": "2.7.6"
  }
 },
 "nbformat": 4,
 "nbformat_minor": 0
}