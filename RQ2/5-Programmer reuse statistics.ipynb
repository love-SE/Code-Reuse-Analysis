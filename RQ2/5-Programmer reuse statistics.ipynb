{
 "cells": [
  {
   "cell_type": "code",
   "execution_count": 1,
   "outputs": [],
   "source": [
    "from datetime import datetime\n",
    "import time\n",
    "import os\n",
    "from tqdm import tqdm\n",
    "import pandas as pd\n",
    "import re\n",
    "import matplotlib.pyplot as plt"
   ],
   "metadata": {
    "collapsed": false,
    "pycharm": {
     "name": "#%%\n"
    }
   }
  },
  {
   "cell_type": "code",
   "execution_count": 2,
   "outputs": [],
   "source": [
    "path_dict = {0:'./1/', 1:'./2/', 2:'./3-5/',\n",
    "             3:'./6-15/', 4:'./16-100/', 5:'./100/'}\n"
   ],
   "metadata": {
    "collapsed": false,
    "pycharm": {
     "name": "#%%\n"
    }
   }
  },
  {
   "cell_type": "code",
   "execution_count": 3,
   "outputs": [
    {
     "name": "stdout",
     "output_type": "stream",
     "text": [
      "<class 'pandas.core.frame.DataFrame'>\n",
      "RangeIndex: 13617 entries, 0 to 13616\n",
      "Data columns (total 7 columns):\n",
      " #   Column         Non-Null Count  Dtype  \n",
      "---  ------         --------------  -----  \n",
      " 0   CreationDate   13617 non-null  object \n",
      " 1   Title          13617 non-null  object \n",
      " 2   Tags           13617 non-null  object \n",
      " 3   Score          13617 non-null  int64  \n",
      " 4   AnswerCount    13617 non-null  int64  \n",
      " 5   CommentCount   13617 non-null  int64  \n",
      " 6   FavoriteCount  3169 non-null   float64\n",
      "dtypes: float64(1), int64(3), object(3)\n",
      "memory usage: 744.8+ KB\n",
      "None\n",
      "<class 'pandas.core.frame.DataFrame'>\n",
      "RangeIndex: 5231 entries, 0 to 5230\n",
      "Data columns (total 7 columns):\n",
      " #   Column         Non-Null Count  Dtype  \n",
      "---  ------         --------------  -----  \n",
      " 0   CreationDate   5231 non-null   object \n",
      " 1   Title          5231 non-null   object \n",
      " 2   Tags           5231 non-null   object \n",
      " 3   Score          5231 non-null   int64  \n",
      " 4   AnswerCount    5231 non-null   int64  \n",
      " 5   CommentCount   5231 non-null   int64  \n",
      " 6   FavoriteCount  1385 non-null   float64\n",
      "dtypes: float64(1), int64(3), object(3)\n",
      "memory usage: 286.2+ KB\n",
      "None\n",
      "<class 'pandas.core.frame.DataFrame'>\n",
      "RangeIndex: 10609 entries, 0 to 10608\n",
      "Data columns (total 7 columns):\n",
      " #   Column         Non-Null Count  Dtype  \n",
      "---  ------         --------------  -----  \n",
      " 0   CreationDate   10609 non-null  object \n",
      " 1   Title          10609 non-null  object \n",
      " 2   Tags           10609 non-null  object \n",
      " 3   Score          10609 non-null  int64  \n",
      " 4   AnswerCount    10609 non-null  int64  \n",
      " 5   CommentCount   10609 non-null  int64  \n",
      " 6   FavoriteCount  2549 non-null   float64\n",
      "dtypes: float64(1), int64(3), object(3)\n",
      "memory usage: 580.3+ KB\n",
      "None\n",
      "<class 'pandas.core.frame.DataFrame'>\n",
      "RangeIndex: 32100 entries, 0 to 32099\n",
      "Data columns (total 7 columns):\n",
      " #   Column         Non-Null Count  Dtype  \n",
      "---  ------         --------------  -----  \n",
      " 0   CreationDate   32100 non-null  object \n",
      " 1   Title          32099 non-null  object \n",
      " 2   Tags           32100 non-null  object \n",
      " 3   Score          32100 non-null  int64  \n",
      " 4   AnswerCount    32100 non-null  int64  \n",
      " 5   CommentCount   32100 non-null  int64  \n",
      " 6   FavoriteCount  7575 non-null   float64\n",
      "dtypes: float64(1), int64(3), object(3)\n",
      "memory usage: 1.7+ MB\n",
      "None\n",
      "<class 'pandas.core.frame.DataFrame'>\n",
      "RangeIndex: 49742 entries, 0 to 49741\n",
      "Data columns (total 7 columns):\n",
      " #   Column         Non-Null Count  Dtype  \n",
      "---  ------         --------------  -----  \n",
      " 0   CreationDate   49742 non-null  object \n",
      " 1   Title          49741 non-null  object \n",
      " 2   Tags           49742 non-null  object \n",
      " 3   Score          49742 non-null  int64  \n",
      " 4   AnswerCount    49742 non-null  int64  \n",
      " 5   CommentCount   49742 non-null  int64  \n",
      " 6   FavoriteCount  11785 non-null  float64\n",
      "dtypes: float64(1), int64(3), object(3)\n",
      "memory usage: 2.7+ MB\n",
      "None\n",
      "<class 'pandas.core.frame.DataFrame'>\n",
      "RangeIndex: 63347 entries, 0 to 63346\n",
      "Data columns (total 7 columns):\n",
      " #   Column         Non-Null Count  Dtype  \n",
      "---  ------         --------------  -----  \n",
      " 0   CreationDate   63347 non-null  object \n",
      " 1   Title          63346 non-null  object \n",
      " 2   Tags           63347 non-null  object \n",
      " 3   Score          63347 non-null  int64  \n",
      " 4   AnswerCount    63347 non-null  int64  \n",
      " 5   CommentCount   63347 non-null  int64  \n",
      " 6   FavoriteCount  15211 non-null  float64\n",
      "dtypes: float64(1), int64(3), object(3)\n",
      "memory usage: 3.4+ MB\n",
      "None\n"
     ]
    }
   ],
   "source": [
    "df_list = []\n",
    "for i in range(6):\n",
    "    df = pd.read_excel(path_dict[i]+'so details.xlsx')\n",
    "    print(df.info())\n",
    "    df_list.append(df)\n"
   ],
   "metadata": {
    "collapsed": false,
    "pycharm": {
     "name": "#%%\n"
    }
   }
  },
  {
   "cell_type": "code",
   "execution_count": 4,
   "outputs": [],
   "source": [
    "df1, df2, df3, df4, df5, df6 = df_list\n"
   ],
   "metadata": {
    "collapsed": false,
    "pycharm": {
     "name": "#%%\n"
    }
   }
  },
  {
   "cell_type": "code",
   "execution_count": 12,
   "outputs": [],
   "source": [
    "df1['Tags'][0].split(' ')\n",
    "Tags = [[],[],[],[],[],[]]\n",
    "for idx, temp_df in enumerate(df_list):\n",
    "    for i in range(len(temp_df)):\n",
    "        Tags[idx].extend(temp_df['Tags'][i].split(' '))\n",
    "\n"
   ],
   "metadata": {
    "collapsed": false,
    "pycharm": {
     "name": "#%%\n"
    }
   }
  },
  {
   "cell_type": "code",
   "execution_count": 19,
   "outputs": [],
   "source": [
    "tag_dict_list = [dict(),dict(),dict(),dict(),dict(),dict()]\n",
    "for idx, tag in enumerate(Tags):\n",
    "    for t in tag:\n",
    "        if t in tag_dict_list[idx].keys():\n",
    "            tag_dict_list[idx][t] += 1\n",
    "        else:\n",
    "            tag_dict_list[idx][t] = 0\n",
    "\n",
    "\n"
   ],
   "metadata": {
    "collapsed": false,
    "pycharm": {
     "name": "#%%\n"
    }
   }
  },
  {
   "cell_type": "code",
   "execution_count": 25,
   "outputs": [
    {
     "data": {
      "text/plain": "{'java': 5230,\n 'eclipse': 153,\n 'class': 44,\n 'android': 818,\n 'listview': 25,\n 'jar': 30,\n 'arrays': 166,\n 'math': 15,\n 'spring': 280,\n 'spring-boot': 42,\n 'json': 94,\n 'perl': 3,\n 'cygwin': 2,\n 'heap': 6,\n 'string': 119,\n 'date': 31,\n 'time': 3,\n 'calendar': 5,\n 'equals': 13,\n 'doubly-linked-list': 0,\n 'rest': 52,\n 'glassfish': 13,\n 'jersey': 22,\n 'jax-rs': 16,\n 'sql': 58,\n 'postgresql': 17,\n 'android-layout': 26,\n 'android-fragments': 25,\n 'android-canvas': 3,\n 'multithreading': 126,\n 'synchronization': 5,\n 'semaphore': 0,\n 'datetime': 11,\n 'range': 2,\n 'jodatime': 5,\n 'for-loop': 40,\n 'arraylist': 76,\n 'while-loop': 11,\n 'java.util.scanner': 17,\n 'java-8': 28,\n 'optional': 2,\n 'swing': 277,\n 'listener': 3,\n 'mouselistener': 6,\n 'image': 24,\n 'user-interface': 42,\n 'web': 7,\n 'scroll': 5,\n 'jscrollpane': 5,\n 'exception': 44,\n 'jwt': 2,\n 'spring-integration': 7,\n 'android-mapview': 0,\n 'jtextfield': 17,\n 'jcombobox': 9,\n 'locking': 2,\n 'mutex': 0,\n 'android-activity': 14,\n 'android-intent': 10,\n 'service': 8,\n 'android-listview': 11,\n 'android-studio': 37,\n 'random': 20,\n 'int': 9,\n 'intellij-idea': 22,\n 'ant': 18,\n 'scala': 28,\n 'jsf': 29,\n 'primefaces': 4,\n 'memory-leaks': 4,\n 'binding': 2,\n 'oracle-adf': 0,\n 'sftp': 2,\n 'performance': 28,\n 'sqlite': 34,\n 'select': 4,\n 'jdbc': 49,\n 'binary-tree': 4,\n 'preorder': 0,\n 'google-maps': 17,\n 'google-maps-api-3': 0,\n 'google-play-services': 1,\n 'debugging': 7,\n 'loops': 37,\n 'jaxb': 38,\n 'partial': 1,\n 'unmarshalling': 3,\n 'file': 45,\n 'buffer': 0,\n 'bufferedreader': 13,\n 'character-encoding': 8,\n 'list': 35,\n 'row': 1,\n 'exception-handling': 19,\n 'httpurlconnection': 13,\n 'android-webview': 1,\n 'final': 5,\n 'libgdx': 20,\n 'proguard': 2,\n 'collections': 31,\n 'concurrency': 27,\n 'deadlock': 1,\n 'sockets': 49,\n 'networking': 9,\n 'vector': 8,\n 'jtable': 30,\n 'sum': 2,\n 'apache': 27,\n 'resources': 4,\n 'annotations': 21,\n 'bundle': 0,\n 'recursion': 23,\n 'amazon-web-services': 13,\n 'amazon-ses': 0,\n 'graph': 6,\n 'immutability': 7,\n 'algorithm': 47,\n 'fibonacci': 2,\n 'visible': 1,\n 'invisible': 1,\n 'spring-mvc': 105,\n 'jboss': 27,\n 'wildfly': 9,\n 'jsp': 94,\n 'jstl': 9,\n 'xml': 141,\n 'maven': 83,\n 'cmd': 4,\n 'repository': 0,\n 'interface': 25,\n 'netbeans': 40,\n 'html': 40,\n 'servlets': 72,\n 'e-commerce': 0,\n 'php': 25,\n 'linked-list': 14,\n 'logarithm': 0,\n 'oop': 31,\n 'generics': 64,\n 'regex': 86,\n 'jpa': 73,\n 'jackson': 29,\n 'dropwizard': 4,\n 'java-stream': 14,\n 'data-structures': 20,\n 'set': 5,\n 'opengl-es': 8,\n 'opengl-es-2.0': 2,\n 'primitive': 3,\n 'google-cloud-dataflow': 1,\n 'expandablelistview': 1,\n 'expandablelistadapter': 0,\n 'maven-source-plugin': 0,\n 'jframe': 31,\n 'miglayout': 2,\n 'web-services': 61,\n 'bukkit': 5,\n 'xslt': 6,\n 'mongodb': 24,\n 'jsonobject': 1,\n 'mysql': 81,\n 'database': 27,\n 'udp': 3,\n 'pdf': 8,\n 'printing': 11,\n 'hibernate': 167,\n 'asynchronous': 6,\n 'spring-transactions': 4,\n 'sax': 10,\n 'tag-soup': 0,\n 'jlabel': 16,\n 'import': 6,\n 'spring-security': 23,\n 'cas': 1,\n '2d': 6,\n 'rx-java2': 1,\n 'sharedpreferences': 8,\n 'c': 8,\n 'linux': 25,\n 'tomcat': 64,\n 'ubuntu': 9,\n 'catalina': 0,\n 'properties': 7,\n 'selenium-webdriver': 21,\n 'api': 9,\n 'url': 10,\n 'methods': 37,\n 'console': 2,\n 'output': 5,\n 'numbers': 7,\n 'multiplication': 0,\n 'hashmap': 36,\n 'boolean': 7,\n 'junit': 38,\n 'httpsurlconnection': 0,\n 'phpmyadmin': 3,\n 'javascript': 53,\n 'struts': 10,\n 'validation': 7,\n 'string-pool': 1,\n 'equality-operator': 0,\n 'process': 6,\n 'runtime.exec': 3,\n 'gradle': 19,\n 'android-appcompat': 1,\n 'build.gradle': 1,\n 'toplink': 0,\n 'android-camera': 1,\n 'android-camera2': 0,\n 'rdf': 2,\n 'semantic-web': 0,\n 'triplestore': 0,\n 'rdfs': 0,\n 'shuffle': 1,\n 'random-access': 0,\n 'jsoup': 10,\n 'executors': 0,\n 'model-view-controller': 5,\n 'artificial-intelligence': 0,\n 'object-pooling': 0,\n 'picasso': 1,\n 'deep-copy': 0,\n 'checkbox': 4,\n 'session': 10,\n 'joptionpane': 4,\n 'floating-point': 2,\n 'count': 3,\n 'double': 4,\n 'digits': 0,\n 'inputstream': 7,\n 'long-integer': 5,\n 'file-io': 19,\n 'objectinputstream': 3,\n 'objectoutputstream': 1,\n 'jquery': 16,\n 'selenium': 37,\n 'max': 0,\n 'min': 1,\n 'android-asynctask': 17,\n 'tcp': 12,\n 'server': 3,\n 'processing': 2,\n 'finalize': 0,\n 'return': 3,\n 'median-of-medians': 0,\n 'pipeline': 0,\n 'variables': 13,\n 'calculator': 1,\n 'nullpointerexception': 34,\n 'awt': 17,\n 'event-dispatch-thread': 5,\n 'contains': 0,\n 'tabs': 1,\n 'compiler-errors': 11,\n 'zk': 2,\n 'graph-algorithm': 1,\n 'depth-first-search': 1,\n 'glazedlists': 0,\n 'jxtable': 0,\n 'fft': 0,\n 'dft': 0,\n 'guice': 8,\n 'jena': 2,\n 'tdb': 0,\n 'c#': 21,\n 'asp.net': 2,\n 'signal-processing': 0,\n 'andengine': 0,\n 'swt': 10,\n 'jface': 5,\n 'tableviewer': 1,\n 'split': 13,\n 'email': 6,\n 'jboss6.x': 4,\n 'enums': 14,\n 'jakarta-ee': 50,\n 'ejb-3.0': 3,\n 'jboss5.x': 3,\n 'testng': 10,\n 'servlet-3.0': 0,\n 'orm': 11,\n 'type-safety': 3,\n 'enumset': 0,\n 'jasper-reports': 10,\n 'oracle': 31,\n 'plsql': 3,\n 'jakarta-mail': 7,\n 'mime': 1,\n 'multipart': 0,\n 'weblogic-10.x': 3,\n 'ajax': 11,\n 'same-origin-policy': 0,\n 'sql-server': 11,\n 'stored-procedures': 5,\n 'jexl': 1,\n 'jpanel': 31,\n 'uri': 2,\n 'ibm-mq': 0,\n 'itext': 9,\n 'jfreechart': 4,\n 'pdf-generation': 2,\n 'virtualbox': 0,\n 'conventions': 1,\n 'if-statement': 30,\n 'encoding': 13,\n 'apache-commons': 10,\n 'rx-java': 3,\n 'exchange-server': 0,\n 'javafx-8': 3,\n 'textflow': 0,\n 'timer': 10,\n 'delay': 0,\n 'intervals': 0,\n 'multidimensional-array': 12,\n 'null': 6,\n 'nodes': 3,\n 'wordsearch': 0,\n 'renderer': 1,\n 'xml-parsing': 13,\n 'red-black-tree': 0,\n 'timeout': 2,\n 'countdown': 0,\n 'executorservice': 8,\n 'countdownlatch': 1,\n 'formatting': 2,\n 'javafx': 43,\n 'javafx-2': 5,\n 'compareto': 4,\n 'treeset': 1,\n 'inheritance': 25,\n 'mule': 3,\n 'opengl': 6,\n 'lwjgl': 7,\n 'glfw': 1,\n 'jms': 9,\n 'hornetq': 0,\n 'spring-jms': 3,\n 'google-app-engine': 27,\n 'cidr': 0,\n 'static': 12,\n 'post': 10,\n 'map': 11,\n 'comparison': 2,\n 'static-typing': 1,\n 'duck-typing': 0,\n 'structural-typing': 0,\n 'grails': 9,\n 'logic': 6,\n 'slick2d': 5,\n 'pong': 0,\n 'whitespace': 0,\n 'filepath': 1,\n 'unc': 0,\n 'sorting': 32,\n 'comparable': 9,\n 'events': 6,\n 'significant-digits': 0,\n 'interrupt': 3,\n 'client-server': 3,\n 'serializable': 2,\n 'websphere': 5,\n 'java-ee-6': 3,\n 'splash-screen': 1,\n 'casting': 13,\n 'foreach': 7,\n 'testing': 11,\n 'language-lawyer': 0,\n 'stack-trace': 2,\n 'stack-overflow': 4,\n 'snakeyaml': 0,\n 'transactions': 6,\n 'nlp': 4,\n 'nested': 5,\n 'retrofit2': 0,\n 'android-recyclerview': 3,\n 'transparency': 1,\n 'mouseevent': 6,\n 'keycode': 1,\n 'key-events': 0,\n 'liferay': 2,\n 'geometry': 1,\n 'trigonometry': 1,\n 'drag-and-drop': 2,\n 'jlist': 4,\n 'cron': 2,\n 'scheduled-tasks': 0,\n 'struts2': 13,\n 'displaytag': 0,\n 'ognl': 1,\n 'io': 17,\n 'find': 2,\n 'derby': 7,\n 'entitymanager': 2,\n 'jboss7.x': 5,\n 'lambdaj': 1,\n 'jeditorpane': 2,\n 'surface': 0,\n 'concurrentmodification': 0,\n 'android-ndk': 6,\n 'java-native-interface': 13,\n 'shared-libraries': 0,\n 'scrollview': 0,\n 'object': 29,\n 'nio': 6,\n 'parameters': 6,\n 'oracle8i': 0,\n 'android-volley': 0,\n 'types': 3,\n 'runtime-error': 5,\n 'hibernate-mapping': 6,\n 'jboss-tools': 0,\n 'camera': 4,\n 'gwt': 26,\n 'clientbundle': 0,\n 'linkedhashmap': 1,\n 'reflection': 25,\n 'type-conversion': 3,\n 'model': 2,\n 'controller': 2,\n 'parsing': 28,\n 'scripting': 0,\n 'apache-camel': 11,\n 'simple-el': 0,\n 'aspect-ratio': 0,\n 'abstract-class': 3,\n 'ehcache': 1,\n 'hippocms': 0,\n 'size': 1,\n 'drawable': 5,\n 'urlencode': 1,\n 'evaluation': 0,\n 'polynomial-math': 0,\n 'keyevent': 2,\n 'plugins': 2,\n 'rcp': 0,\n 'e4': 0,\n 'rmi': 8,\n 'playframework-2.0': 4,\n 'backup': 0,\n 'ejb': 10,\n 'cdi': 6,\n 'string-formatting': 1,\n 'spring-ws': 3,\n 'stream': 3,\n 'client': 1,\n 'migration': 1,\n 'changelog': 0,\n 'supercsv': 2,\n 'unix': 6,\n 'classpath': 15,\n 'log4j2': 9,\n 'push-notification': 1,\n 'urbanairship.com': 0,\n 'instrumentation': 0,\n 'javassist': 1,\n 'swap': 2,\n 'smtp': 1,\n 'smtp-auth': 0,\n 'textarea': 3,\n 'game-development': 1,\n 'design-patterns': 14,\n 'matching': 1,\n 'http': 26,\n 'swingworker': 4,\n 'space': 0,\n 'flowlayout': 0,\n 'git': 3,\n 'unit-testing': 26,\n 'glassfish-3': 1,\n 'gradlew': 0,\n 'tostring': 3,\n 'getter': 2,\n 'modal-dialog': 0,\n 'jprogressbar': 1,\n 'try-catch': 5,\n 'localization': 1,\n 'jersey-2.0': 5,\n 'view': 2,\n 'hierarchy': 0,\n 'shell': 9,\n 'parameter-passing': 1,\n 'noclassdeffounderror': 8,\n 'apache-commons-httpclient': 2,\n 'imageview': 5,\n 'collision': 3,\n 'rectangles': 1,\n 'angularjs': 8,\n 'cors': 0,\n 'event-handling': 5,\n 'null-terminated': 0,\n 'numberformatexception': 3,\n 'maven-3': 3,\n 'togglebutton': 1,\n 'gestures': 0,\n 'authorization': 1,\n 'mime-types': 0,\n 'sun': 0,\n 'jcomponent': 1,\n 'jspinner': 2,\n 'ftp': 8,\n 'ftp4j': 0,\n 'graphics': 14,\n 'adapter': 3,\n 'binary-search-tree': 5,\n 'db2': 2,\n 'pass-by-reference': 2,\n 'pass-by-value': 0,\n 'executable-jar': 7,\n 'android-tabhost': 3,\n 'cisco-axl': 0,\n 'cucm': 0,\n 'serialization': 18,\n 'comparator': 4,\n 'bytearray': 4,\n 'hex': 6,\n 'largenumber': 0,\n 'aop': 10,\n 'aspectj': 9,\n 'imageicon': 5,\n 'machine-learning': 1,\n 'classification': 0,\n 'stanford-nlp': 3,\n 'text-classification': 0,\n 'predicate': 0,\n 'android-progressbar': 1,\n 'hashset': 4,\n 'linkedhashset': 2,\n 'upload': 2,\n 'outputstream': 1,\n 'datainputstream': 1,\n 'dispose': 1,\n 'inner-classes': 6,\n 'nested-class': 0,\n 'keylistener': 3,\n 'maze': 3,\n 'c++': 24,\n 'decorator': 0,\n 'mergesort': 2,\n 'c-preprocessor': 0,\n 'newline': 5,\n 'delimiter': 1,\n 'h2': 2,\n 'apache-poi': 23,\n 'indexoutofboundsexception': 6,\n 'scoring': 0,\n 'multiton': 0,\n 'multiple-columns': 2,\n 'magento': 1,\n 'xml-rpc': 2,\n 'mask': 0,\n 'jformattedtextfield': 0,\n 'database-connection': 4,\n 'resultset': 4,\n 'applet': 21,\n 'constructor': 19,\n 'initialization': 11,\n 'stack': 7,\n 'mocking': 6,\n 'macos': 14,\n 'path': 8,\n 'filter': 3,\n 'implicit-conversion': 1,\n 'implicit': 0,\n 'emacs': 0,\n 'clojure': 1,\n 'read-eval-print-loop': 0,\n 'sudoku': 1,\n 'drjava': 0,\n 'python': 11,\n 'soap': 20,\n 'cxf': 11,\n 'redis': 0,\n 'geolocation': 2,\n 'maps': 2,\n 'google-api': 2,\n 'excel': 10,\n 'jxls': 1,\n 'artifactory': 2,\n 'tic-tac-toe': 0,\n 'minimax': 1,\n 'throttling': 0,\n 'webview': 5,\n 'command-line': 2,\n 'get': 4,\n 'add': 2,\n 'caching': 4,\n 'okhttp': 2,\n 'spring-data-mongodb': 2,\n 'jhipster': 0,\n 'nexus3': 0,\n 'android-emulator': 2,\n 'android-source': 0,\n 'compare': 1,\n 'benchmarking': 3,\n 'stringbuilder': 5,\n 'stringbuffer': 0,\n 'garbage-collection': 14,\n 'window': 1,\n 'quicksort': 3,\n 'download': 7,\n 'queue': 6,\n 'actionlistener': 14,\n 'https': 12,\n 'arguments': 2,\n 'easymock': 3,\n 'naming-conventions': 2,\n 'maven-2': 4,\n 'ivy': 0,\n 'httprequest': 2,\n 'oracle11g': 4,\n 'matrix': 5,\n 'linear-algebra': 1,\n 'eigenvector': 0,\n 'ejml': 1,\n 'menu': 0,\n 'overriding': 5,\n 'parent-child': 2,\n 'super': 0,\n 'google-cloud-endpoints': 1,\n 'integer': 7,\n 'println': 1,\n 'compiler-construction': 4,\n 'instance': 3,\n 'android-sqlite': 1,\n 'oracle-sqldeveloper': 0,\n 'crash': 3,\n 'tracking': 0,\n 'progress': 0,\n 'merge': 1,\n 'expression': 2,\n 'operator-keyword': 0,\n 'operands': 0,\n 'csv': 10,\n 'hadoop': 21,\n 'mapreduce': 6,\n 'normalization': 1,\n 'google-oauth': 0,\n 'google-compute-engine': 0,\n 'google-api-java-client': 2,\n 'firebase': 5,\n 'firebase-storage': 0,\n 'android-resources': 2,\n 'cxfrs': 0,\n 'gridbaglayout': 6,\n 'jmx': 1,\n 'jmc': 0,\n 'button': 12,\n 'java.nio.file': 0,\n 'deployjava': 0,\n 'gdb': 0,\n 'jcheckbox': 1,\n 'android-viewpager': 1,\n 'preference': 0,\n 'runtimeexception': 3,\n 'combobox': 1,\n 'http-post': 7,\n 'encryption': 23,\n 'rsa': 7,\n 'public-key': 0,\n 'handler': 1,\n 'simplecaptcha': 0,\n 'iplanet': 0,\n 'object-destruction': 0,\n 'osgi': 2,\n 'unicode': 6,\n 'internationalization': 2,\n 'prepared-statement': 7,\n 'port': 3,\n 'hashcode': 7,\n 'htmlunit': 4,\n 'scrollbar': 1,\n 'jpql': 4,\n 'vaadin': 6,\n 'oauth': 4,\n 'android-relativelayout': 2,\n 'android-xml': 1,\n 'function': 8,\n 'rss': 0,\n 'pitest': 0,\n 'alpha-transparency': 1,\n 'propertychangesupport': 0,\n 'zip': 5,\n 'switch-statement': 10,\n 'redirect': 2,\n 'input': 8,\n 'command-prompt': 1,\n 'java-ee-7': 3,\n 'message-driven-bean': 0,\n 'xmlstreamreader': 0,\n 'tablecellrenderer': 5,\n 'preferredsize': 0,\n 'persistence': 7,\n 'xpath': 11,\n 'object-property': 0,\n 'format': 2,\n 'openshift': 0,\n 'android-linearlayout': 3,\n 'viewflipper': 0,\n 'background': 3,\n 'bitmap': 10,\n 'jbutton': 11,\n 'embed': 0,\n 'socket.io': 2,\n 'datanucleus': 1,\n 'hyperlink': 2,\n 'jasperserver': 0,\n 'ear': 1,\n 'solr': 4,\n 'sprite': 0,\n 'layout-manager': 9,\n 'cardlayout': 2,\n 'clone': 0,\n 'response': 2,\n 'activemq': 5,\n 'ruby': 3,\n 'android-gridview': 2,\n 'jnlp': 1,\n 'json-deserialization': 1,\n 'fasterxml': 0,\n 'jtextpane': 3,\n 'jfilechooser': 2,\n 'core': 0,\n 'websphere-7': 0,\n 'excel-2010': 0,\n 'java-2d': 7,\n 'ajax4jsf': 0,\n 'return-value': 0,\n 'text': 4,\n 'colors': 4,\n 'filewriter': 1,\n 'bufferedwriter': 4,\n 'binary': 7,\n 'thread-safety': 9,\n 'collision-detection': 1,\n 'package': 2,\n 'java-web-start': 2,\n 'hibernate-envers': 0,\n 'file-upload': 2,\n 'xsd': 11,\n 'bitconverter': 0,\n 'memory': 8,\n 'graphics2d': 6,\n 'wicket': 5,\n 'wicket-6': 1,\n 'reference': 5,\n 'javasound': 0,\n 'this': 1,\n 'multilingual': 0,\n 'eclipse-plugin': 7,\n 'iterator': 11,\n 'static-methods': 1,\n 'non-static': 4,\n 'session-timeout': 1,\n 'admob': 1,\n 'ads': 0,\n 'compilation': 2,\n 'javacc': 0,\n 'java-io': 6,\n 'runnable': 6,\n 'office365api': 0,\n 'outlook-restapi': 0,\n 'rabbitmq': 3,\n 'amqp': 1,\n 'duplicates': 4,\n 'hidden-field': 0,\n 'key-bindings': 0,\n 'autocompletetextview': 1,\n 'system-tray': 1,\n 'trayicon': 0,\n 'textwatcher': 0,\n 'criteria': 1,\n 'connection-string': 0,\n 'japplet': 1,\n 'css': 5,\n 'akka': 3,\n 'actor': 1,\n 'lifecycle': 1,\n 'transformation': 0,\n 'mesh': 0,\n 'findbugs': 1,\n 'jetty': 11,\n 'datagrid': 0,\n 'thymeleaf': 4,\n 'modelattribute': 0,\n 'desktop-application': 1,\n 'html-editor': 0,\n 'htmleditorkit': 0,\n 'timestamp': 6,\n 'playframework': 11,\n 'playframework-2.4': 1,\n 'primary-key': 0,\n 'batch-insert': 1,\n 'box2d': 3,\n 'containers': 1,\n 'rhino': 2,\n 'jsr223': 0,\n 'runtime': 8,\n 'exec': 2,\n 'menuitem': 1,\n 'aes': 5,\n 'symmetric-key': 0,\n 'telnet': 4,\n 'jxl': 0,\n 'textview': 7,\n 'android-alertdialog': 2,\n 'facebook': 6,\n 'spring-social': 2,\n 'android-imageview': 4,\n 'universal-image-loader': 0,\n 'hive': 1,\n 'datastax-enterprise': 0,\n 'wsdl': 6,\n 'logcat': 1,\n 'fileoutputstream': 2,\n 'hdd': 0,\n 'dynamic': 1,\n 'drupal': 1,\n 'speech': 0,\n 'text-to-speech': 0,\n 'robocode': 0,\n 'android-gradle-plugin': 1,\n 'batch-file': 4,\n 'desktop': 1,\n 'system-properties': 0,\n 'task-queue': 0,\n 'glassfish-4': 1,\n 'parse-platform': 4,\n 'interrupted-exception': 1,\n 'groovy': 11,\n 'dialogfragment': 1,\n 'fibonacci-heap': 0,\n 'http-status-code-404': 2,\n 'android-mediaplayer': 3,\n 'video': 3,\n 'fragmentpageradapter': 0,\n 'kdb': 0,\n 'static-analysis': 1,\n 'ipc': 0,\n 'java-threads': 1,\n 'maven-jaxb2-plugin': 0,\n 'elm327': 1,\n 'smartgwt': 2,\n 'gwt-rpc': 0,\n 'gwt-ext': 0,\n 'lucene': 8,\n 'audio': 9,\n 'arithmetic-expressions': 0,\n 'execution': 0,\n 'string-matching': 0,\n 'lambda': 5,\n 'dom': 6,\n 'butterknife': 1,\n 'memcached': 1,\n 'apache-commons-collection': 0,\n 'ssh': 2,\n 'jsch': 1,\n 'tablecelleditor': 0,\n 'hashtable': 5,\n 'factory-pattern': 0,\n 'log4j': 19,\n 'jvm': 22,\n 'classloader': 8,\n 'android-testing': 0,\n 'robolectric': 0,\n 'resteasy': 2,\n 'real-time': 0,\n 'guava': 9,\n 'configuration': 7,\n 'datasource': 1,\n 'jndi': 4,\n 'context.xml': 0,\n 'wifi': 1,\n 'adb': 0,\n 'ternary-operator': 1,\n 'init.d': 0,\n '3d': 0,\n 'nfc': 2,\n 'android-beam': 0,\n 'mobile': 3,\n 'jtextarea': 8,\n 'highlighting': 0,\n 'windows': 21,\n 'ascii': 0,\n 'windows-server-2008': 0,\n 'replace': 4,\n 'one-to-many': 3,\n 'openstreetmap': 1,\n 'nominatim': 0,\n 'classnotfoundexception': 3,\n 'text-files': 1,\n 'file-writing': 0,\n 'iteration': 2,\n 'android-dialogfragment': 0,\n 'android-configchanges': 0,\n 'sparql': 2,\n 'owl': 1,\n 'endpoint': 0,\n 'canvas': 0,\n 'absolute': 0,\n 'jlayeredpane': 0,\n 'gson': 17,\n 'html-table': 0,\n 'scope': 1,\n 'do-while': 2,\n 'apache-spark': 4,\n 'cassandra-2.0': 1,\n 'rest-assured': 1,\n 'argument-dependent-lookup': 0,\n 'draw': 1,\n 'etch': 0,\n 'ibm-mobilefirst': 0,\n 'bash': 6,\n 'sed': 0,\n 'apache-kafka': 4,\n 'kafka-producer-api': 0,\n 'look-and-feel': 2,\n 'tree': 8,\n 'pgp': 0,\n 'smartcard': 1,\n 'axis2': 4,\n 'rampart': 0,\n 'gps': 3,\n 'serial-port': 3,\n 'javax.comm': 0,\n 'spring-batch': 5,\n 'extends': 5,\n 'mybatis': 3,\n 'web.xml': 5,\n 'struts2-config-browser': 0,\n 'http-request': 0,\n 'apache-spark-mllib': 1,\n 'overloading': 3,\n 'portlet': 2,\n 'interceptor': 1,\n '.net': 5,\n 'interop': 1,\n 'dataoutputstream': 1,\n 'google-cloud-datastore': 3,\n 'aspect': 1,\n 'connection': 8,\n 'metaprogramming': 0,\n 'reflections': 0,\n 'layout': 7,\n 'resize': 0,\n 'vlcj': 1,\n 'forms': 5,\n 'security': 9,\n 'login': 2,\n 'internet-explorer-8': 0,\n 'factory': 0,\n 'cachedrowset': 0,\n 'paint': 5,\n 'marshalling': 1,\n 'location': 2,\n 'key-value': 0,\n 'cyrillic': 0,\n 'instanceof': 0,\n 'toarray': 0,\n 'androidplot': 1,\n 'jdbctemplate': 4,\n 'android-arrayadapter': 1,\n 'jersey-client': 2,\n 'jersey-test-framework': 1,\n 'javabeans': 5,\n 'lotus-domino': 2,\n 'webservice-client': 1,\n 'edit': 1,\n 'pdfbox': 4,\n 'callback': 2,\n 'corba': 1,\n 'eclipselink': 7,\n 'moxy': 0,\n 'key': 4,\n 'pressed': 0,\n 'hash': 6,\n 'type-inference': 1,\n 'swagger': 0,\n 'swagger-ui': 1,\n 'swagger-2.0': 0,\n 'treeviewer': 1,\n 'openjdk': 2,\n 'unsupported-class-version': 1,\n 'cocos2d-iphone': 1,\n 'gwt-super-dev-mode': 0,\n 'spring-test': 1,\n 'hamcrest': 0,\n 'hql': 4,\n 'shutdown': 0,\n 'coredump': 0,\n 'spark-cassandra-connector': 0,\n 'distributed-caching': 0,\n 'distributed-cache': 0,\n 'gridview': 1,\n 'syntax': 4,\n 'jmock': 1,\n 'replaceall': 1,\n 'spring-jdbc': 0,\n 'concatenation': 1,\n 'jooq': 3,\n 'ejb-3.1': 0,\n ...}"
     },
     "execution_count": 25,
     "metadata": {},
     "output_type": "execute_result"
    }
   ],
   "source": [
    "tag_dict_list[1]\n"
   ],
   "metadata": {
    "collapsed": false,
    "pycharm": {
     "name": "#%%\n"
    }
   }
  },
  {
   "cell_type": "code",
   "execution_count": 27,
   "outputs": [],
   "source": [
    "tag_dict1, tag_dict2, tag_dict3, tag_dict4, tag_dict5, tag_dict6 = tag_dict_list\n"
   ],
   "metadata": {
    "collapsed": false,
    "pycharm": {
     "name": "#%%\n"
    }
   }
  },
  {
   "cell_type": "code",
   "execution_count": 53,
   "outputs": [
    {
     "data": {
      "text/plain": "[('android', 2227),\n ('spring', 789),\n ('swing', 696),\n ('arrays', 466),\n ('hibernate', 463)]"
     },
     "execution_count": 53,
     "metadata": {},
     "output_type": "execute_result"
    }
   ],
   "source": [
    "sorted(tag_dict1.items(), key=lambda x: x[1],reverse=True)[1:6]\n"
   ],
   "metadata": {
    "collapsed": false,
    "pycharm": {
     "name": "#%%\n"
    }
   }
  },
  {
   "cell_type": "code",
   "execution_count": 54,
   "outputs": [
    {
     "data": {
      "text/plain": "[('android', 818),\n ('spring', 280),\n ('swing', 277),\n ('hibernate', 167),\n ('arrays', 166)]"
     },
     "execution_count": 54,
     "metadata": {},
     "output_type": "execute_result"
    }
   ],
   "source": [
    "sorted(tag_dict2.items(), key=lambda x: x[1],reverse=True)[1:6]"
   ],
   "metadata": {
    "collapsed": false,
    "pycharm": {
     "name": "#%%\n"
    }
   }
  },
  {
   "cell_type": "code",
   "execution_count": 55,
   "outputs": [
    {
     "data": {
      "text/plain": "[('android', 1666),\n ('spring', 629),\n ('swing', 516),\n ('hibernate', 395),\n ('arrays', 346)]"
     },
     "execution_count": 55,
     "metadata": {},
     "output_type": "execute_result"
    }
   ],
   "source": [
    "sorted(tag_dict3.items(), key=lambda x: x[1],reverse=True)[1:6]\n"
   ],
   "metadata": {
    "collapsed": false,
    "pycharm": {
     "name": "#%%\n"
    }
   }
  },
  {
   "cell_type": "code",
   "execution_count": 56,
   "outputs": [
    {
     "data": {
      "text/plain": "[('android', 5181),\n ('spring', 1975),\n ('swing', 1619),\n ('hibernate', 1147),\n ('arrays', 1030)]"
     },
     "execution_count": 56,
     "metadata": {},
     "output_type": "execute_result"
    }
   ],
   "source": [
    "sorted(tag_dict4.items(), key=lambda x: x[1],reverse=True)[1:6]\n"
   ],
   "metadata": {
    "collapsed": false,
    "pycharm": {
     "name": "#%%\n"
    }
   }
  },
  {
   "cell_type": "code",
   "execution_count": 57,
   "outputs": [
    {
     "data": {
      "text/plain": "[('android', 7976),\n ('spring', 3106),\n ('swing', 2399),\n ('hibernate', 1709),\n ('arrays', 1547)]"
     },
     "execution_count": 57,
     "metadata": {},
     "output_type": "execute_result"
    }
   ],
   "source": [
    "sorted(tag_dict5.items(), key=lambda x: x[1],reverse=True)[1:6]\n"
   ],
   "metadata": {
    "collapsed": false,
    "pycharm": {
     "name": "#%%\n"
    }
   }
  },
  {
   "cell_type": "code",
   "execution_count": 58,
   "outputs": [
    {
     "data": {
      "text/plain": "[('android', 10042),\n ('spring', 3856),\n ('swing', 3163),\n ('hibernate', 2194),\n ('arrays', 2011)]"
     },
     "execution_count": 58,
     "metadata": {},
     "output_type": "execute_result"
    }
   ],
   "source": [
    "sorted(tag_dict6.items(), key=lambda x: x[1],reverse=True)[1:6]\n"
   ],
   "metadata": {
    "collapsed": false,
    "pycharm": {
     "name": "#%%\n"
    }
   }
  },
  {
   "cell_type": "code",
   "execution_count": null,
   "outputs": [],
   "source": [
    "\n"
   ],
   "metadata": {
    "collapsed": false,
    "pycharm": {
     "name": "#%%\n"
    }
   }
  }
 ],
 "metadata": {
  "kernelspec": {
   "display_name": "Python 3",
   "language": "python",
   "name": "python3"
  },
  "language_info": {
   "codemirror_mode": {
    "name": "ipython",
    "version": 2
   },
   "file_extension": ".py",
   "mimetype": "text/x-python",
   "name": "python",
   "nbconvert_exporter": "python",
   "pygments_lexer": "ipython2",
   "version": "2.7.6"
  }
 },
 "nbformat": 4,
 "nbformat_minor": 0
}