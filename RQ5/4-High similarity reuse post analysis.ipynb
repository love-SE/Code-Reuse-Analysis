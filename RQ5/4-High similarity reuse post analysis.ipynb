{
 "cells": [
  {
   "cell_type": "code",
   "execution_count": 1,
   "outputs": [
    {
     "name": "stderr",
     "output_type": "stream",
     "text": [
      "F:\\ML_ENVS\\lib\\site-packages\\scipy\\sparse\\sparsetools.py:21: DeprecationWarning: `scipy.sparse.sparsetools` is deprecated!\n",
      "scipy.sparse.sparsetools is a private module for scipy.sparse, and should not be used.\n",
      "  _deprecated()\n"
     ]
    }
   ],
   "source": [
    "from datetime import datetime\n",
    "import time\n",
    "import os\n",
    "from tqdm import tqdm\n",
    "import pandas as pd\n",
    "import re\n",
    "import matplotlib.pyplot as plt\n",
    "import numpy as np\n",
    "import nltk\n",
    "from nltk.corpus import stopwords\n",
    "import pyLDAvis.gensim_models\n",
    "import jieba.posseg as jp,jieba\n",
    "from gensim.models.coherencemodel import CoherenceModel\n",
    "from gensim.models.ldamodel import LdaModel\n",
    "from gensim.corpora.dictionary import Dictionary\n",
    "import warnings\n",
    "warnings.filterwarnings(\"ignore\")\n",
    "import matplotlib.pyplot as plt\n",
    "import matplotlib"
   ],
   "metadata": {
    "collapsed": false,
    "pycharm": {
     "name": "#%%\n"
    }
   }
  },
  {
   "cell_type": "code",
   "execution_count": 2,
   "outputs": [],
   "source": [
    "# all_similarity = pd.read_csv('./all_similarity.txt')\n",
    "# all_similarity.info()\n",
    "#"
   ],
   "metadata": {
    "collapsed": false,
    "pycharm": {
     "name": "#%%\n"
    }
   }
  },
  {
   "cell_type": "code",
   "execution_count": 3,
   "outputs": [],
   "source": [
    "# high_index = list(all_similarity[all_similarity['value']>=0.7].index)\n",
    "#"
   ],
   "metadata": {
    "collapsed": false,
    "pycharm": {
     "name": "#%%\n"
    }
   }
  },
  {
   "cell_type": "code",
   "execution_count": 4,
   "outputs": [],
   "source": [
    "# len(high_index)"
   ],
   "metadata": {
    "collapsed": false,
    "pycharm": {
     "name": "#%%\n"
    }
   }
  },
  {
   "cell_type": "code",
   "execution_count": 2,
   "outputs": [
    {
     "name": "stdout",
     "output_type": "stream",
     "text": [
      "<class 'pandas.core.frame.DataFrame'>\n",
      "RangeIndex: 21622 entries, 0 to 21621\n",
      "Data columns (total 1 columns):\n",
      " #   Column  Non-Null Count  Dtype  \n",
      "---  ------  --------------  -----  \n",
      " 0   value   16294 non-null  float64\n",
      "dtypes: float64(1)\n",
      "memory usage: 169.0 KB\n"
     ]
    }
   ],
   "source": [
    "all_sse = pd.read_csv('./all_sse.txt')\n",
    "all_sse.columns=['value']\n",
    "all_sse.info()\n"
   ],
   "metadata": {
    "collapsed": false,
    "pycharm": {
     "name": "#%%\n"
    }
   }
  },
  {
   "cell_type": "code",
   "execution_count": null,
   "outputs": [],
   "source": [],
   "metadata": {
    "collapsed": false,
    "pycharm": {
     "name": "#%%\n"
    }
   }
  },
  {
   "cell_type": "code",
   "execution_count": null,
   "outputs": [],
   "source": [],
   "metadata": {
    "collapsed": false,
    "pycharm": {
     "name": "#%%\n"
    }
   }
  },
  {
   "cell_type": "code",
   "execution_count": 3,
   "outputs": [
    {
     "data": {
      "text/plain": "0        3.897729\n1        3.897729\n2        3.897729\n3        3.897729\n4        3.897729\n           ...   \n21617    0.000000\n21618    3.293543\n21619    0.000000\n21620    4.241034\n21621    4.327908\nName: value, Length: 16294, dtype: float64"
     },
     "execution_count": 3,
     "metadata": {},
     "output_type": "execute_result"
    }
   ],
   "source": [
    "# all_similarity['value'].dropna()\n",
    "all_sse['value'].dropna()"
   ],
   "metadata": {
    "collapsed": false,
    "pycharm": {
     "name": "#%%\n"
    }
   }
  },
  {
   "cell_type": "code",
   "execution_count": null,
   "outputs": [],
   "source": [
    "\n",
    "\n",
    "#%"
   ],
   "metadata": {
    "collapsed": false,
    "pycharm": {
     "name": "#%%\n"
    }
   }
  },
  {
   "cell_type": "code",
   "execution_count": null,
   "outputs": [],
   "source": [],
   "metadata": {
    "collapsed": false,
    "pycharm": {
     "name": "#%%\n"
    }
   }
  },
  {
   "cell_type": "code",
   "execution_count": null,
   "outputs": [],
   "source": [],
   "metadata": {
    "collapsed": false,
    "pycharm": {
     "name": "#%%\n"
    }
   }
  },
  {
   "cell_type": "code",
   "execution_count": 4,
   "outputs": [
    {
     "data": {
      "text/plain": "3.155636859221245"
     },
     "execution_count": 4,
     "metadata": {},
     "output_type": "execute_result"
    }
   ],
   "source": [
    "np.mean(all_sse['value'].dropna())"
   ],
   "metadata": {
    "collapsed": false,
    "pycharm": {
     "name": "#%%\n"
    }
   }
  },
  {
   "cell_type": "code",
   "execution_count": 5,
   "outputs": [],
   "source": [
    "all_sse = all_sse['value'].dropna().to_list()"
   ],
   "metadata": {
    "collapsed": false,
    "pycharm": {
     "name": "#%%\n"
    }
   }
  },
  {
   "cell_type": "code",
   "execution_count": 6,
   "outputs": [
    {
     "data": {
      "text/plain": "16294"
     },
     "execution_count": 6,
     "metadata": {},
     "output_type": "execute_result"
    }
   ],
   "source": [
    "len(all_sse)"
   ],
   "metadata": {
    "collapsed": false,
    "pycharm": {
     "name": "#%%\n"
    }
   }
  },
  {
   "cell_type": "code",
   "execution_count": 7,
   "outputs": [
    {
     "data": {
      "text/plain": "count    16294.000000\nmean         3.155637\nstd          1.086721\nmin          0.000000\n25%          2.425498\n50%          3.408631\n75%          4.039251\nmax          5.625355\ndtype: float64"
     },
     "execution_count": 7,
     "metadata": {},
     "output_type": "execute_result"
    }
   ],
   "source": [
    "pd.Series(all_sse).describe()\n"
   ],
   "metadata": {
    "collapsed": false,
    "pycharm": {
     "name": "#%%\n"
    }
   }
  },
  {
   "cell_type": "code",
   "execution_count": null,
   "outputs": [],
   "source": [],
   "metadata": {
    "collapsed": false,
    "pycharm": {
     "name": "#%%\n"
    }
   }
  },
  {
   "cell_type": "code",
   "execution_count": null,
   "outputs": [],
   "source": [],
   "metadata": {
    "collapsed": false,
    "pycharm": {
     "name": "#%%\n"
    }
   }
  },
  {
   "cell_type": "code",
   "execution_count": null,
   "outputs": [],
   "source": [],
   "metadata": {
    "collapsed": false,
    "pycharm": {
     "name": "#%%\n"
    }
   }
  },
  {
   "cell_type": "code",
   "execution_count": 8,
   "outputs": [
    {
     "name": "stdout",
     "output_type": "stream",
     "text": [
      "0.0 5.625355441164328\n"
     ]
    }
   ],
   "source": [
    "min_sse = min(all_sse)\n",
    "max_sse = max(all_sse)\n",
    "print(min_sse, max_sse)\n",
    "def min_max(x):\n",
    "    return (x-min_sse)/(max_sse-min_sse)"
   ],
   "metadata": {
    "collapsed": false,
    "pycharm": {
     "name": "#%%\n"
    }
   }
  },
  {
   "cell_type": "code",
   "execution_count": 9,
   "outputs": [
    {
     "data": {
      "text/plain": "[3.897728832547578,\n 3.897728832547578,\n 3.897728832547578,\n 3.897728832547578,\n 3.897728832547578,\n 3.897728832547578,\n 2.912771183353776,\n 2.912771183353776,\n 3.4258417135141195,\n 4.479643914278939]"
     },
     "execution_count": 9,
     "metadata": {},
     "output_type": "execute_result"
    }
   ],
   "source": [
    "all_sse[:10]"
   ],
   "metadata": {
    "collapsed": false,
    "pycharm": {
     "name": "#%%\n"
    }
   }
  },
  {
   "cell_type": "code",
   "execution_count": 11,
   "outputs": [
    {
     "data": {
      "text/plain": "[0.12317191230726635,\n 0.12317191230726635,\n 0.12317191230726635,\n 0.12317191230726635,\n 0.12317191230726635,\n 0.12317191230726635,\n 0.09204632035232901,\n 0.09204632035232901,\n 0.10825983367337944,\n 0.14156097847799926]"
     },
     "execution_count": 11,
     "metadata": {},
     "output_type": "execute_result"
    }
   ],
   "source": [
    "all_sse = [min_max(i) for i in all_sse]\n",
    "all_sse[:10]"
   ],
   "metadata": {
    "collapsed": false,
    "pycharm": {
     "name": "#%%\n"
    }
   }
  },
  {
   "cell_type": "code",
   "execution_count": 12,
   "outputs": [
    {
     "data": {
      "text/plain": "count    16294.000000\nmean         0.099721\nstd          0.034341\nmin          0.000000\n25%          0.076648\n50%          0.107716\n75%          0.127644\nmax          0.177767\ndtype: float64"
     },
     "execution_count": 12,
     "metadata": {},
     "output_type": "execute_result"
    }
   ],
   "source": [
    "pd.Series(all_sse).describe()"
   ],
   "metadata": {
    "collapsed": false,
    "pycharm": {
     "name": "#%%\n"
    }
   }
  },
  {
   "cell_type": "code",
   "execution_count": null,
   "outputs": [],
   "source": [],
   "metadata": {
    "collapsed": false,
    "pycharm": {
     "name": "#%%\n"
    }
   }
  },
  {
   "cell_type": "code",
   "execution_count": 13,
   "outputs": [],
   "source": [],
   "metadata": {
    "collapsed": false,
    "pycharm": {
     "name": "#%%\n"
    }
   }
  },
  {
   "cell_type": "code",
   "execution_count": null,
   "outputs": [],
   "source": [],
   "metadata": {
    "collapsed": false,
    "pycharm": {
     "name": "#%%\n"
    }
   }
  },
  {
   "cell_type": "code",
   "execution_count": null,
   "outputs": [],
   "source": [],
   "metadata": {
    "collapsed": false,
    "pycharm": {
     "name": "#%%\n"
    }
   }
  },
  {
   "cell_type": "code",
   "execution_count": 13,
   "outputs": [
    {
     "name": "stdout",
     "output_type": "stream",
     "text": [
      "[16294, 0, 0, 0, 0] 16294\n",
      "[100.0, 0.0, 0.0, 0.0, 0.0]\n"
     ]
    }
   ],
   "source": [
    "# count = [0]*5\n",
    "\n",
    "# for idx, i in enumerate(all_similarity):\n",
    "#     if 0<=i<0.2:\n",
    "#         count[0] += 1\n",
    "#     elif 0.2<=i<0.4:\n",
    "#         count[1] += 1\n",
    "#     elif 0.4<=i<0.6:\n",
    "#         count[2] += 1\n",
    "#     elif 0.6<=i<0.8:\n",
    "#         count[3] += 1\n",
    "#     elif 0.8<=i:\n",
    "#         count[4] += 1\n",
    "#\n",
    "#\n",
    "# count,sum(count)\n",
    "\n",
    "\n",
    "\n",
    "# count = [0]*6\n",
    "# for idx, i in enumerate(all_sse):\n",
    "#     if 0<=i<1:\n",
    "#         count[0] += 1\n",
    "#     elif 1<=i<2:\n",
    "#         count[1] += 1\n",
    "#     elif 2<=i<3:\n",
    "#         count[2] += 1\n",
    "#     elif 3<=i<4:\n",
    "#         count[3] += 1\n",
    "#     elif 4<=i<5:\n",
    "#         count[4] += 1\n",
    "#     elif 5<=i<6:\n",
    "#         count[5] += 1\n",
    "\n",
    "\n",
    "\n",
    "# count = [0]*3\n",
    "# for idx, i in enumerate(all_sse):\n",
    "#     if 0<=i<2:\n",
    "#         count[0] += 1\n",
    "#     elif 2<=i<4:\n",
    "#         count[1] += 1\n",
    "#     elif 4<=i<6:\n",
    "#         count[2] += 1\n",
    "\n",
    "\n",
    "count = [0]*5\n",
    "for idx, i in enumerate(all_sse):\n",
    "    if 0<=i<0.2:\n",
    "        count[0] += 1\n",
    "    elif 0.2<=i<0.4:\n",
    "        count[1] += 1\n",
    "    elif 0.4<=i<0.6:\n",
    "        count[2] += 1\n",
    "    elif 0.6<=i<0.8:\n",
    "        count[3] += 1\n",
    "    elif 0.8<=i:\n",
    "        count[4] += 1\n",
    "\n",
    "print(count,sum(count))\n",
    "print([(i/sum(count))*100 for i in count])"
   ],
   "metadata": {
    "collapsed": false,
    "pycharm": {
     "name": "#%%\n"
    }
   }
  },
  {
   "cell_type": "code",
   "execution_count": null,
   "outputs": [],
   "source": [],
   "metadata": {
    "collapsed": false,
    "pycharm": {
     "name": "#%%\n"
    }
   }
  },
  {
   "cell_type": "code",
   "execution_count": 14,
   "outputs": [],
   "source": [
    "with open('./commit_name.txt','r', encoding='utf-8') as f:\n",
    "    lines = f.readlines()\n",
    "commit_name = [i.rstrip('\\n') for i in lines]"
   ],
   "metadata": {
    "collapsed": false,
    "pycharm": {
     "name": "#%%\n"
    }
   }
  },
  {
   "cell_type": "code",
   "execution_count": 15,
   "outputs": [
    {
     "data": {
      "text/plain": "10286"
     },
     "execution_count": 15,
     "metadata": {},
     "output_type": "execute_result"
    }
   ],
   "source": [
    "commit_name.index('D-CCFinder-NewData-javamelody-10-14717.java.txt')"
   ],
   "metadata": {
    "collapsed": false,
    "pycharm": {
     "name": "#%%\n"
    }
   }
  },
  {
   "cell_type": "code",
   "execution_count": 29,
   "outputs": [
    {
     "data": {
      "text/plain": "58"
     },
     "execution_count": 29,
     "metadata": {},
     "output_type": "execute_result"
    }
   ],
   "source": [
    "commit_name.index('D-CCFinder-NewData-algs4-4-5288.java.txt')"
   ],
   "metadata": {
    "collapsed": false,
    "pycharm": {
     "name": "#%%\n"
    }
   }
  },
  {
   "cell_type": "code",
   "execution_count": 30,
   "outputs": [
    {
     "data": {
      "text/plain": "(21622,\n value    0.696173\n Name: 58, dtype: float64)"
     },
     "execution_count": 30,
     "metadata": {},
     "output_type": "execute_result"
    }
   ],
   "source": [
    "len(all_sse), all_sse.iloc[58]"
   ],
   "metadata": {
    "collapsed": false,
    "pycharm": {
     "name": "#%%\n"
    }
   }
  },
  {
   "cell_type": "code",
   "execution_count": 21,
   "outputs": [
    {
     "name": "stdout",
     "output_type": "stream",
     "text": [
      "<class 'pandas.core.frame.DataFrame'>\n",
      "RangeIndex: 21622 entries, 0 to 21621\n",
      "Data columns (total 1 columns):\n",
      " #   Column  Non-Null Count  Dtype  \n",
      "---  ------  --------------  -----  \n",
      " 0   value   16294 non-null  float64\n",
      "dtypes: float64(1)\n",
      "memory usage: 169.0 KB\n"
     ]
    }
   ],
   "source": [
    "def min_max(x):\n",
    "    return (x-min_sse)/(max_sse-min_sse)\n",
    "all_sse = pd.read_csv('./all_sse.txt')\n",
    "all_sse.columns=['value']\n",
    "all_sse.info()\n",
    "all_sse['value'] = all_sse['value'].apply(lambda x: min_max(x))\n",
    "high_index = list(all_sse[(all_sse['value']>=0.6) & (all_sse['value']<0.8)].index)\n"
   ],
   "metadata": {
    "collapsed": false,
    "pycharm": {
     "name": "#%%\n"
    }
   }
  },
  {
   "cell_type": "code",
   "execution_count": 22,
   "outputs": [
    {
     "data": {
      "text/plain": "7950"
     },
     "execution_count": 22,
     "metadata": {},
     "output_type": "execute_result"
    }
   ],
   "source": [
    "len(high_index)"
   ],
   "metadata": {
    "collapsed": false,
    "pycharm": {
     "name": "#%%\n"
    }
   }
  },
  {
   "cell_type": "code",
   "execution_count": 23,
   "outputs": [
    {
     "data": {
      "text/plain": "              value\ncount  16294.000000\nmean       0.560967\nstd        0.193183\nmin        0.000000\n25%        0.431172\n50%        0.605940\n75%        0.718044\nmax        1.000000",
      "text/html": "<div>\n<style scoped>\n    .dataframe tbody tr th:only-of-type {\n        vertical-align: middle;\n    }\n\n    .dataframe tbody tr th {\n        vertical-align: top;\n    }\n\n    .dataframe thead th {\n        text-align: right;\n    }\n</style>\n<table border=\"1\" class=\"dataframe\">\n  <thead>\n    <tr style=\"text-align: right;\">\n      <th></th>\n      <th>value</th>\n    </tr>\n  </thead>\n  <tbody>\n    <tr>\n      <th>count</th>\n      <td>16294.000000</td>\n    </tr>\n    <tr>\n      <th>mean</th>\n      <td>0.560967</td>\n    </tr>\n    <tr>\n      <th>std</th>\n      <td>0.193183</td>\n    </tr>\n    <tr>\n      <th>min</th>\n      <td>0.000000</td>\n    </tr>\n    <tr>\n      <th>25%</th>\n      <td>0.431172</td>\n    </tr>\n    <tr>\n      <th>50%</th>\n      <td>0.605940</td>\n    </tr>\n    <tr>\n      <th>75%</th>\n      <td>0.718044</td>\n    </tr>\n    <tr>\n      <th>max</th>\n      <td>1.000000</td>\n    </tr>\n  </tbody>\n</table>\n</div>"
     },
     "execution_count": 23,
     "metadata": {},
     "output_type": "execute_result"
    }
   ],
   "source": [
    "all_sse.describe()"
   ],
   "metadata": {
    "collapsed": false,
    "pycharm": {
     "name": "#%%\n"
    }
   }
  },
  {
   "cell_type": "code",
   "execution_count": null,
   "outputs": [],
   "source": [],
   "metadata": {
    "collapsed": false,
    "pycharm": {
     "name": "#%%\n"
    }
   }
  },
  {
   "cell_type": "code",
   "execution_count": null,
   "outputs": [],
   "source": [],
   "metadata": {
    "collapsed": false,
    "pycharm": {
     "name": "#%%\n"
    }
   }
  },
  {
   "cell_type": "code",
   "execution_count": null,
   "outputs": [],
   "source": [
    "import shutil\n",
    "src_path = 'D:/CCFinder/Commit2So(A commit will correspond to multiple sos)/'\n",
    "trg_path = './Multiplexed post groups with sse greater than or equal to 0.6 and less than 0.8/'\n",
    "\n",
    "for i in tqdm(high_index):\n",
    "    file = commit_name[i]\n",
    "    shutil.copyfile(src_path+file, trg_path+file)"
   ],
   "metadata": {
    "collapsed": false,
    "pycharm": {
     "name": "#%%\n"
    }
   }
  },
  {
   "cell_type": "code",
   "execution_count": 2,
   "outputs": [
    {
     "ename": "NameError",
     "evalue": "name 'os' is not defined",
     "output_type": "error",
     "traceback": [
      "\u001B[1;31m---------------------------------------------------------------------------\u001B[0m",
      "\u001B[1;31mNameError\u001B[0m                                 Traceback (most recent call last)",
      "\u001B[1;32mC:\\Users\\MACHEN~1\\AppData\\Local\\Temp/ipykernel_10652/3536662774.py\u001B[0m in \u001B[0;36m<module>\u001B[1;34m\u001B[0m\n\u001B[1;32m----> 1\u001B[1;33m \u001B[0mfiles\u001B[0m \u001B[1;33m=\u001B[0m \u001B[0mos\u001B[0m\u001B[1;33m.\u001B[0m\u001B[0mlistdir\u001B[0m\u001B[1;33m(\u001B[0m\u001B[0mtrg_path\u001B[0m\u001B[1;33m)\u001B[0m\u001B[1;33m\u001B[0m\u001B[1;33m\u001B[0m\u001B[0m\n\u001B[0m\u001B[0;32m      2\u001B[0m \u001B[1;32mfor\u001B[0m \u001B[0mfile\u001B[0m \u001B[1;32min\u001B[0m \u001B[0mtqdm\u001B[0m\u001B[1;33m(\u001B[0m\u001B[0mfiles\u001B[0m\u001B[1;33m)\u001B[0m\u001B[1;33m:\u001B[0m\u001B[1;33m\u001B[0m\u001B[1;33m\u001B[0m\u001B[0m\n\u001B[0;32m      3\u001B[0m     \u001B[1;32mwith\u001B[0m \u001B[0mopen\u001B[0m\u001B[1;33m(\u001B[0m\u001B[0mtrg_path\u001B[0m\u001B[1;33m+\u001B[0m\u001B[0mfile\u001B[0m\u001B[1;33m,\u001B[0m \u001B[1;34m'r'\u001B[0m\u001B[1;33m,\u001B[0m \u001B[0mencoding\u001B[0m\u001B[1;33m=\u001B[0m\u001B[1;34m'utf-8'\u001B[0m\u001B[1;33m)\u001B[0m \u001B[1;32mas\u001B[0m \u001B[0mf\u001B[0m\u001B[1;33m:\u001B[0m\u001B[1;33m\u001B[0m\u001B[1;33m\u001B[0m\u001B[0m\n\u001B[0;32m      4\u001B[0m         \u001B[0mlines\u001B[0m \u001B[1;33m=\u001B[0m \u001B[0mf\u001B[0m\u001B[1;33m.\u001B[0m\u001B[0mreadlines\u001B[0m\u001B[1;33m(\u001B[0m\u001B[1;33m)\u001B[0m\u001B[1;33m\u001B[0m\u001B[1;33m\u001B[0m\u001B[0m\n\u001B[0;32m      5\u001B[0m         \u001B[0mlines\u001B[0m \u001B[1;33m=\u001B[0m \u001B[0mset\u001B[0m\u001B[1;33m(\u001B[0m\u001B[0mlines\u001B[0m\u001B[1;33m)\u001B[0m\u001B[1;33m\u001B[0m\u001B[1;33m\u001B[0m\u001B[0m\n",
      "\u001B[1;31mNameError\u001B[0m: name 'os' is not defined"
     ]
    }
   ],
   "source": [
    "\n",
    "files = os.listdir(trg_path)\n",
    "for file in tqdm(files):\n",
    "    with open(trg_path+file, 'r', encoding='utf-8') as f:\n",
    "        lines = f.readlines()\n",
    "        lines = set(lines)\n",
    "    with open(trg_path+file, 'w', encoding='utf-8') as f:\n",
    "        for line in lines:\n",
    "            f.write(line)\n"
   ],
   "metadata": {
    "collapsed": false,
    "pycharm": {
     "name": "#%%\n"
    }
   }
  },
  {
   "cell_type": "code",
   "execution_count": 26,
   "outputs": [
    {
     "name": "stderr",
     "output_type": "stream",
     "text": [
      "100%|██████████| 8440/8440 [00:00<00:00, 9383.14it/s] \n"
     ]
    },
    {
     "name": "stdout",
     "output_type": "stream",
     "text": [
      "D-CCFinder-NewData-Android-skin-support-0-1826.java.txt 2\n",
      "D-CCFinder-NewData-Android-skin-support-0-1844.java.txt 2\n",
      "D-CCFinder-NewData-Android-skin-support-0-1940.java.txt 2\n",
      "D-CCFinder-NewData-Android-skin-support-0-1958.java.txt 2\n",
      "D-CCFinder-NewData-Android-skin-support-0-1988.java.txt 2\n",
      "D-CCFinder-NewData-androidannotations-2-84362.java.txt 2\n",
      "D-CCFinder-NewData-androidannotations-2-85118.java.txt 2\n",
      "D-CCFinder-NewData-angel-1-34157.java.txt 2\n",
      "D-CCFinder-NewData-angel-1-39602.java.txt 2\n",
      "D-CCFinder-NewData-angel-1-44624.java.txt 2\n",
      "D-CCFinder-NewData-antlr4-2-12551.java.txt 2\n",
      "D-CCFinder-NewData-cordova-android-4-16262.java.txt 2\n",
      "D-CCFinder-NewData-cordova-android-5-20015.java.txt 2\n",
      "D-CCFinder-NewData-databus-0-27614.java.txt 2\n",
      "D-CCFinder-NewData-go-lang-idea-plugin-3-45974.java.txt 2\n",
      "D-CCFinder-NewData-incubator-heron-0-30230.java.txt 2\n",
      "D-CCFinder-NewData-jstorm-1-9728.java.txt 2\n",
      "D-CCFinder-NewData-OpenRefine-7-49340.java.txt 2\n",
      "D-CCFinder-NewData-picasso-4-5453.java.txt 2\n",
      "D-CCFinder-NewData-picasso-5-5696.java.txt 2\n",
      "D-CCFinder-NewData-picasso-5-5738.java.txt 2\n",
      "D-CCFinder-NewData-picasso-5-5798.java.txt 2\n",
      "D-CCFinder-NewData-picasso-5-5858.java.txt 2\n",
      "D-CCFinder-NewData-picasso-5-5909.java.txt 2\n",
      "D-CCFinder-NewData-smile-3-20900.java.txt 2\n",
      "D-CCFinder-NewData-WheelPicker-1-269.java.txt 2\n"
     ]
    }
   ],
   "source": [
    "for file in tqdm(files):\n",
    "    with open(trg_path+file, 'r', encoding='utf-8') as f:\n",
    "        lines = f.readlines()\n",
    "        lines = set(lines)\n",
    "        if len(lines)>=2 and len(lines)<3:\n",
    "            print(file,len(lines))"
   ],
   "metadata": {
    "collapsed": false,
    "pycharm": {
     "name": "#%%\n"
    }
   }
  },
  {
   "cell_type": "code",
   "execution_count": 54,
   "outputs": [],
   "source": [],
   "metadata": {
    "collapsed": false,
    "pycharm": {
     "name": "#%%\n"
    }
   }
  },
  {
   "cell_type": "code",
   "execution_count": null,
   "outputs": [],
   "source": [],
   "metadata": {
    "collapsed": false,
    "pycharm": {
     "name": "#%%\n"
    }
   }
  },
  {
   "cell_type": "code",
   "execution_count": null,
   "outputs": [],
   "source": [],
   "metadata": {
    "collapsed": false,
    "pycharm": {
     "name": "#%%\n"
    }
   }
  },
  {
   "cell_type": "code",
   "execution_count": null,
   "outputs": [],
   "source": [],
   "metadata": {
    "collapsed": false,
    "pycharm": {
     "name": "#%%\n"
    }
   }
  },
  {
   "cell_type": "code",
   "execution_count": null,
   "outputs": [],
   "source": [],
   "metadata": {
    "collapsed": false,
    "pycharm": {
     "name": "#%%\n"
    }
   }
  },
  {
   "cell_type": "code",
   "execution_count": null,
   "outputs": [],
   "source": [],
   "metadata": {
    "collapsed": false,
    "pycharm": {
     "name": "#%%\n"
    }
   }
  },
  {
   "cell_type": "code",
   "execution_count": null,
   "outputs": [],
   "source": [],
   "metadata": {
    "collapsed": false,
    "pycharm": {
     "name": "#%%\n"
    }
   }
  }
 ],
 "metadata": {
  "kernelspec": {
   "display_name": "Python 3",
   "language": "python",
   "name": "python3"
  },
  "language_info": {
   "codemirror_mode": {
    "name": "ipython",
    "version": 2
   },
   "file_extension": ".py",
   "mimetype": "text/x-python",
   "name": "python",
   "nbconvert_exporter": "python",
   "pygments_lexer": "ipython2",
   "version": "2.7.6"
  }
 },
 "nbformat": 4,
 "nbformat_minor": 0
}