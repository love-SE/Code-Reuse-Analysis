{
 "cells": [
  {
   "cell_type": "code",
   "execution_count": null,
   "outputs": [],
   "source": [
    "from datetime import datetime\n",
    "import time\n",
    "import os\n",
    "from tqdm import tqdm\n",
    "import pandas as pd\n"
   ],
   "metadata": {
    "collapsed": false,
    "pycharm": {
     "name": "#%%\n"
    }
   }
  },
  {
   "cell_type": "code",
   "execution_count": 2,
   "outputs": [
    {
     "ename": "FileNotFoundError",
     "evalue": "[Errno 2] No such file or directory: './Type_names.txt'",
     "output_type": "error",
     "traceback": [
      "\u001B[1;31m---------------------------------------------------------------------------\u001B[0m",
      "\u001B[1;31mFileNotFoundError\u001B[0m                         Traceback (most recent call last)",
      "\u001B[1;32mC:\\Users\\MACHEN~1\\AppData\\Local\\Temp/ipykernel_2836/3268013107.py\u001B[0m in \u001B[0;36m<module>\u001B[1;34m\u001B[0m\n\u001B[1;32m----> 1\u001B[1;33m \u001B[1;32mwith\u001B[0m \u001B[0mopen\u001B[0m\u001B[1;33m(\u001B[0m\u001B[1;34m'./Type_names.txt'\u001B[0m\u001B[1;33m)\u001B[0m \u001B[1;32mas\u001B[0m \u001B[0mf\u001B[0m\u001B[1;33m:\u001B[0m\u001B[1;33m\u001B[0m\u001B[1;33m\u001B[0m\u001B[0m\n\u001B[0m\u001B[0;32m      2\u001B[0m     \u001B[0mprojects\u001B[0m \u001B[1;33m=\u001B[0m \u001B[0mf\u001B[0m\u001B[1;33m.\u001B[0m\u001B[0mreadlines\u001B[0m\u001B[1;33m(\u001B[0m\u001B[1;33m)\u001B[0m\u001B[1;33m\u001B[0m\u001B[1;33m\u001B[0m\u001B[0m\n\u001B[0;32m      3\u001B[0m     \u001B[0mprojects\u001B[0m \u001B[1;33m=\u001B[0m \u001B[1;33m[\u001B[0m\u001B[0mi\u001B[0m\u001B[1;33m.\u001B[0m\u001B[0mrstrip\u001B[0m\u001B[1;33m(\u001B[0m\u001B[1;33m)\u001B[0m \u001B[1;32mfor\u001B[0m \u001B[0mi\u001B[0m \u001B[1;32min\u001B[0m \u001B[0mprojects\u001B[0m\u001B[1;33m]\u001B[0m\u001B[1;33m\u001B[0m\u001B[1;33m\u001B[0m\u001B[0m\n\u001B[0;32m      4\u001B[0m \u001B[0mprint\u001B[0m\u001B[1;33m(\u001B[0m\u001B[1;34m'prj nums'\u001B[0m\u001B[1;33m.\u001B[0m\u001B[0mformat\u001B[0m\u001B[1;33m(\u001B[0m\u001B[0mlen\u001B[0m\u001B[1;33m(\u001B[0m\u001B[0mprojects\u001B[0m\u001B[1;33m)\u001B[0m\u001B[1;33m)\u001B[0m\u001B[1;33m)\u001B[0m\u001B[1;33m\u001B[0m\u001B[1;33m\u001B[0m\u001B[0m\n\u001B[0;32m      5\u001B[0m \u001B[1;31m# projects = ['\\\\AarogyaSetu']\u001B[0m\u001B[1;33m\u001B[0m\u001B[1;33m\u001B[0m\u001B[1;33m\u001B[0m\u001B[0m\n",
      "\u001B[1;31mFileNotFoundError\u001B[0m: [Errno 2] No such file or directory: './Type_names.txt'"
     ]
    }
   ],
   "source": [
    "with open('./Type_names.txt') as f:\n",
    "    projects = f.readlines()\n",
    "    projects = [i.rstrip() for i in projects]\n",
    "print('prj nums'.format(len(projects)))\n",
    "# projects = ['\\\\AarogyaSetu']\n"
   ],
   "metadata": {
    "collapsed": false,
    "pycharm": {
     "name": "#%%\n"
    }
   }
  },
  {
   "cell_type": "code",
   "execution_count": 5,
   "outputs": [
    {
     "name": "stderr",
     "output_type": "stream",
     "text": [
      "100%|██████████| 793/793 [08:47<00:00,  1.50it/s]\n"
     ]
    }
   ],
   "source": [
    "import collections\n",
    "\n",
    "hashTable = collections.defaultdict(list)\n",
    "for project in tqdm(projects):\n",
    "\n",
    "\n",
    "    fileName = []\n",
    "    clonePairs = []\n",
    "\n",
    "\n",
    "    creationStr = \"//CreationDate = \"\n",
    "\n",
    "    def readSO(fileInfo):\n",
    "        sp1 = fileInfo.split('.')\n",
    "        fileIndex = int(sp1[0]) - 1\n",
    "\n",
    "        file_name = fileName[fileIndex]\n",
    "\n",
    "\n",
    "        if 'inpluslab' in file_name:\n",
    "            file_name = file_name.replace('F:\\\\inpluslab\\\\wt', 'D:\\\\CCFinder')\n",
    "\n",
    "        file_name = file_name.replace('F:\\\\', 'D:\\\\')\n",
    "\n",
    "        SOfile = open(file_name,'r', encoding='UTF-8')\n",
    "        for line in SOfile:\n",
    "            if creationStr in line:\n",
    "                return line[17:27], file_name+'#'+sp1[1]\n",
    "\n",
    "        return \"2008-01-01\", file_name+'#'+sp1[1]\n",
    "\n",
    "    def readCommit(fileInfo):\n",
    "        sp1 = fileInfo.split('.')\n",
    "        fileIndex = int(sp1[0]) - 1\n",
    "        fileName[fileIndex] = fileName[fileIndex].replace('F:\\\\', 'D:\\\\')\n",
    "        SOfile = open(fileName[fileIndex],'r', encoding='UTF-8')\n",
    "        line = SOfile.readline()\n",
    "        line1 = SOfile.readline()\n",
    "        line1 = SOfile.readline()\n",
    "        SOfile.close()\n",
    "        pretime = line[12:]\n",
    "        time = datetime.strptime(pretime, '%a %b %d %H:%M:%S CST %Y\\n').strftime('%Y-%m-%d')\n",
    "\n",
    "        return time,fileName[fileIndex]\n",
    "\n",
    "    file = open(r\"D:\\CCFinder\\NewAns\" + '\\\\' + project + \".txt\")\n",
    "    # allCommit = [0 for i in range(3)] #add delete update other\n",
    "    while 1:\n",
    "        line = file.readline()\n",
    "        if not line:\n",
    "            break\n",
    "\n",
    "        if line == 'source_files {\\n':\n",
    "            while 1:\n",
    "                fileLine = file.readline()\n",
    "                if fileLine == '}\\n':\n",
    "                    break\n",
    "                listName = fileLine.split('\\t')\n",
    "                fileName.append(listName[1])\n",
    "\n",
    "        if line == 'clone_pairs {\\n':\n",
    "            while 1:\n",
    "                PairsLine = file.readline()\n",
    "                if PairsLine == '}\\n':\n",
    "                    break\n",
    "                clonePairs.append(PairsLine)\n",
    "    file.close()\n",
    "\n",
    "    for i in range(len(clonePairs)//2):\n",
    "\n",
    "        listPair = clonePairs[i].split('\\t')\n",
    "\n",
    "        time1, SOfile = readSO(listPair[1])\n",
    "        time2,Commitfile = readCommit(listPair[2])\n",
    "\n",
    "        if(time1 < time2):\n",
    "\n",
    "            if hashTable. __contains__(SOfile):\n",
    "                # hashTable[SOfile] = hashTable[SOfile] + 1\n",
    "                hashTable[SOfile][0] = hashTable[SOfile][0] + 1\n",
    "                hashTable[SOfile].append(Commitfile)\n",
    "            else:\n",
    "                # hashTable[SOfile] = 1\n",
    "                hashTable[SOfile].append(1)\n",
    "                hashTable[SOfile].append(Commitfile)"
   ],
   "metadata": {
    "collapsed": false,
    "pycharm": {
     "name": "#%%\n"
    }
   }
  },
  {
   "cell_type": "code",
   "execution_count": 6,
   "outputs": [],
   "source": [
    "so_df = pd.DataFrame(columns=['so_file','nums'])\n",
    "so_df['so_file'] = list(hashTable.keys())\n",
    "# so_df['nums'] = list(hashTable.values())\n",
    "temp_series = pd.Series(list(hashTable.values()))\n",
    "so_df['nums'] = temp_series.apply(lambda x: x[0])\n",
    "so_df['Commits involved'] = temp_series.apply(lambda x: x[1:])\n"
   ],
   "metadata": {
    "collapsed": false,
    "pycharm": {
     "name": "#%%\n"
    }
   }
  },
  {
   "cell_type": "code",
   "execution_count": 7,
   "outputs": [
    {
     "name": "stderr",
     "output_type": "stream",
     "text": [
      "100%|██████████| 134302/134302 [19:25<00:00, 115.26it/s]\n"
     ]
    }
   ],
   "source": [
    "so_line_idx_list = []\n",
    "\n",
    "for i in tqdm(range(len(so_df['so_file']))):\n",
    "    file_info = so_df['so_file'][i].split('#')\n",
    "    with open('D:/code.ccfxprepdir/'+file_info[0].split('\\\\')[-1]+'.java.2_0_0_0.default.ccfxprep','r') as f:\n",
    "        line_list = f.readlines()\n",
    "        idx = int(file_info[1].split('-')[0])-1\n",
    "        so_line_idx = int(line_list[idx].split('.')[0], 16)\n",
    "        so_line_idx_list.append(so_line_idx)\n",
    "\n",
    "so_df['SO_line_idx'] = so_line_idx_list"
   ],
   "metadata": {
    "collapsed": false,
    "pycharm": {
     "name": "#%%\n"
    }
   }
  },
  {
   "cell_type": "code",
   "execution_count": 8,
   "outputs": [
    {
     "name": "stderr",
     "output_type": "stream",
     "text": [
      "100%|██████████| 134302/134302 [07:11<00:00, 311.39it/s]\n"
     ]
    }
   ],
   "source": [
    "save_so_info = []\n",
    "for i in tqdm(range(len(so_df['so_file']))):\n",
    "    file_info = so_df['so_file'][i].split('#')\n",
    "    with open(file_info[0],'r',encoding='utf-8') as SOfile:\n",
    "        SO_line_list = SOfile.readlines()\n",
    "        so_line_idx = so_df['SO_line_idx'][i]\n",
    "\n",
    "        flag = 0\n",
    "        for k in range(so_line_idx-2, -1, -1):\n",
    "            if '//CreationDate =' in SO_line_list[k]:\n",
    "                save_so_info.append(SO_line_list[k])\n",
    "                flag = 1\n",
    "                break\n",
    "\n",
    "        if flag==0:\n",
    "            temp_split = file_info[0].split('_')\n",
    "            pre_so_file = temp_split[0]+'_'+str(int(temp_split[1].split('.')[0])-1)+'.java'\n",
    "            with open(pre_so_file, 'r',encoding='utf-8') as preSOfile:\n",
    "                preSO_line_list = preSOfile.readlines()\n",
    "                for j in range(len(preSO_line_list)-1, -1,-1):\n",
    "                    if '//CreationDate =' in preSO_line_list[j]:\n",
    "                        save_so_info.append(preSO_line_list[j])\n",
    "                        break\n"
   ],
   "metadata": {
    "collapsed": false,
    "pycharm": {
     "name": "#%%\n"
    }
   }
  },
  {
   "cell_type": "code",
   "execution_count": 10,
   "outputs": [],
   "source": [
    "so_df['so_info'] = save_so_info"
   ],
   "metadata": {
    "collapsed": false,
    "pycharm": {
     "name": "#%%\n"
    }
   }
  },
  {
   "cell_type": "code",
   "execution_count": 62,
   "outputs": [],
   "source": [
    "so_df.to_excel('./so and commit corresponding information.xlsx',index=False)"
   ],
   "metadata": {
    "collapsed": false,
    "pycharm": {
     "name": "#%%\n"
    }
   }
  },
  {
   "cell_type": "code",
   "execution_count": 1,
   "outputs": [
    {
     "ename": "NameError",
     "evalue": "name 'so_df' is not defined",
     "output_type": "error",
     "traceback": [
      "\u001B[1;31m---------------------------------------------------------------------------\u001B[0m",
      "\u001B[1;31mNameError\u001B[0m                                 Traceback (most recent call last)",
      "\u001B[1;32mC:\\Users\\MACHEN~1\\AppData\\Local\\Temp/ipykernel_2836/926401858.py\u001B[0m in \u001B[0;36m<module>\u001B[1;34m\u001B[0m\n\u001B[1;32m----> 1\u001B[1;33m \u001B[0mso_df\u001B[0m\u001B[1;33m.\u001B[0m\u001B[0minfo\u001B[0m\u001B[1;33m(\u001B[0m\u001B[1;33m)\u001B[0m\u001B[1;33m\u001B[0m\u001B[1;33m\u001B[0m\u001B[0m\n\u001B[0m\u001B[0;32m      2\u001B[0m \u001B[1;33m\u001B[0m\u001B[0m\n",
      "\u001B[1;31mNameError\u001B[0m: name 'so_df' is not defined"
     ]
    }
   ],
   "source": [
    "so_df.info()"
   ],
   "metadata": {
    "collapsed": false,
    "pycharm": {
     "name": "#%%\n"
    }
   }
  },
  {
   "cell_type": "code",
   "execution_count": null,
   "outputs": [],
   "source": [],
   "metadata": {
    "collapsed": false,
    "pycharm": {
     "name": "#%%\n"
    }
   }
  },
  {
   "cell_type": "code",
   "execution_count": null,
   "outputs": [],
   "source": [
    "so_df['so_info'][0]"
   ],
   "metadata": {
    "collapsed": false,
    "pycharm": {
     "name": "#%%\n"
    }
   }
  },
  {
   "cell_type": "markdown",
   "source": [],
   "metadata": {
    "collapsed": false,
    "pycharm": {
     "name": "#%% md\n"
    }
   }
  },
  {
   "cell_type": "code",
   "execution_count": 61,
   "outputs": [
    {
     "name": "stderr",
     "output_type": "stream",
     "text": [
      "134302it [05:20, 418.45it/s] \n"
     ]
    }
   ],
   "source": [
    "for k,v in tqdm(zip(so_df['so_info'], hashTable.values())):\n",
    "    commit_list = v[1:]\n",
    "    for commit_name in commit_list:\n",
    "        with open('D:/CCFinder/Commit2So/'+commit_name.replace('\\\\', '-').replace(':','')+'.txt','a',encoding='utf-8') as f:\n",
    "            f.write(k)\n",
    "\n"
   ],
   "metadata": {
    "collapsed": false,
    "pycharm": {
     "name": "#%%\n"
    }
   }
  },
  {
   "cell_type": "code",
   "execution_count": 13,
   "outputs": [
    {
     "data": {
      "text/plain": "[2,\n 'D:\\\\CCFinder\\\\NewData\\\\APIJSON\\\\0\\\\203.java',\n 'D:\\\\CCFinder\\\\NewData\\\\APIJSON\\\\1\\\\509.java']"
     },
     "execution_count": 13,
     "metadata": {},
     "output_type": "execute_result"
    }
   ],
   "source": [
    "list(hashTable.values())[0]\n"
   ],
   "metadata": {
    "collapsed": false,
    "pycharm": {
     "name": "#%%\n"
    }
   }
  },
  {
   "cell_type": "code",
   "execution_count": 39,
   "outputs": [],
   "source": [],
   "metadata": {
    "collapsed": false,
    "pycharm": {
     "name": "#%%\n"
    }
   }
  },
  {
   "cell_type": "code",
   "execution_count": null,
   "outputs": [],
   "source": [],
   "metadata": {
    "collapsed": false,
    "pycharm": {
     "name": "#%%\n"
    }
   }
  },
  {
   "cell_type": "code",
   "execution_count": null,
   "outputs": [],
   "source": [],
   "metadata": {
    "collapsed": false,
    "pycharm": {
     "name": "#%%\n"
    }
   }
  },
  {
   "cell_type": "code",
   "execution_count": null,
   "outputs": [],
   "source": [],
   "metadata": {
    "collapsed": false,
    "pycharm": {
     "name": "#%%\n"
    }
   }
  },
  {
   "cell_type": "code",
   "execution_count": null,
   "outputs": [],
   "source": [],
   "metadata": {
    "collapsed": false,
    "pycharm": {
     "name": "#%%\n"
    }
   }
  }
 ],
 "metadata": {
  "kernelspec": {
   "display_name": "Python 3",
   "language": "python",
   "name": "python3"
  },
  "language_info": {
   "codemirror_mode": {
    "name": "ipython",
    "version": 2
   },
   "file_extension": ".py",
   "mimetype": "text/x-python",
   "name": "python",
   "nbconvert_exporter": "python",
   "pygments_lexer": "ipython2",
   "version": "2.7.6"
  }
 },
 "nbformat": 4,
 "nbformat_minor": 0
}