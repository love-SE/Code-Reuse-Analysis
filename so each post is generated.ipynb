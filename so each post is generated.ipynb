{
 "cells": [
  {
   "cell_type": "code",
   "execution_count": 1,
   "metadata": {
    "collapsed": true
   },
   "outputs": [],
   "source": [
    "\n",
    "from datetime import datetime\n",
    "import time\n",
    "import os\n",
    "from tqdm import tqdm\n",
    "import pandas as pd\n",
    "\n",
    "\n",
    "\n",
    "\n"
   ]
  },
  {
   "cell_type": "code",
   "execution_count": 2,
   "outputs": [
    {
     "name": "stdout",
     "output_type": "stream",
     "text": [
      "file nums:  5217\n"
     ]
    },
    {
     "data": {
      "text/plain": "['code_0.java', 'code_1.java', 'code_10.java']"
     },
     "execution_count": 2,
     "metadata": {},
     "output_type": "execute_result"
    }
   ],
   "source": [
    "file_list = os.listdir('D:/CCFinder/CodeData/')\n",
    "print('file nums: ', len(file_list))\n",
    "file_list[:3]"
   ],
   "metadata": {
    "collapsed": false,
    "pycharm": {
     "name": "#%%\n"
    }
   }
  },
  {
   "cell_type": "code",
   "execution_count": 12,
   "outputs": [
    {
     "name": "stderr",
     "output_type": "stream",
     "text": [
      "100%|██████████| 5217/5217 [5:07:46<00:00,  3.54s/it]  \n"
     ]
    }
   ],
   "source": [
    "file_num = 0\n",
    "so_info = []\n",
    "for i in tqdm(range(len(file_list))):\n",
    "    with open('D:/CCFinder/CodeData/'+file_list[i],encoding='utf-8') as f:\n",
    "        so_line_list = f.readlines()\n",
    "        flag = 0\n",
    "        for idx, line in enumerate(so_line_list):\n",
    "            if flag==0 and '//CreationDate =' in line:\n",
    "                start_idx = idx\n",
    "                flag = 1\n",
    "            elif flag==1 and '//CreationDate =' in line:\n",
    "                end_idx = idx-1\n",
    "\n",
    "                with open('D:/CCFinder/So Posts/'+str(file_num)+'.txt','w',encoding='utf-8') as temp_f:\n",
    "                    temp_f.write(''.join(so_line_list[start_idx:end_idx+1]))\n",
    "                file_num+=1\n",
    "                so_info.append(so_line_list[start_idx])\n",
    "                flag = 1\n",
    "                start_idx = idx\n",
    "\n",
    "\n",
    "        if '//CreationDate =' in so_line_list[-1]:\n",
    "            if int(file_list[i].split('_')[1].split('.')[0])+1<5217:\n",
    "                with open('D:/CCFinder/CodeData/'+'code_'+str(int(file_list[i].split('_')[1].split('.')[0])+1)+'.java',encoding='utf-8') as ff:\n",
    "                    lines = ff.readlines()\n",
    "                    for idx, line in enumerate(lines):\n",
    "\n",
    "                        if '//CreationDate =' in line:\n",
    "                            end_idx = idx - 1\n",
    "                            break\n",
    "\n",
    "                    with open('D:/CCFinder/So Posts/'+str(file_num)+'.txt','w',encoding='utf-8') as temp_f:\n",
    "                        temp_f.write(''.join(so_line_list[-1]))\n",
    "                        temp_f.write(''.join(lines[:end_idx+1]))\n",
    "                    file_num+=1\n",
    "                    so_info.append(so_line_list[-1])\n",
    "\n",
    "\n",
    "    # break\n"
   ],
   "metadata": {
    "collapsed": false,
    "pycharm": {
     "name": "#%%\n"
    }
   }
  },
  {
   "cell_type": "code",
   "execution_count": 11,
   "outputs": [
    {
     "name": "stdout",
     "output_type": "stream",
     "text": [
      "5216\n",
      "5217\n"
     ]
    }
   ],
   "source": [
    "len(file_list)\n",
    "for i in range(len(file_list)):\n",
    "    num = int(file_list[i].split('_')[1].split('.')[0])+1\n",
    "    if num>5215:\n",
    "        print(num)"
   ],
   "metadata": {
    "collapsed": false,
    "pycharm": {
     "name": "#%%\n"
    }
   }
  },
  {
   "cell_type": "code",
   "execution_count": 17,
   "outputs": [
    {
     "name": "stdout",
     "output_type": "stream",
     "text": [
      "1355616 1355616\n"
     ]
    }
   ],
   "source": [
    "print(file_num,len(so_info))\n",
    "\n",
    "save_dict = dict()\n",
    "for i,j in enumerate(so_info):\n",
    "    save_dict[j] = i\n",
    "\n"
   ],
   "metadata": {
    "collapsed": false,
    "pycharm": {
     "name": "#%%\n"
    }
   }
  },
  {
   "cell_type": "code",
   "execution_count": 22,
   "outputs": [],
   "source": [
    "import pickle\n",
    "with open('./So Post idx mapping.pkl', 'wb') as f:\n",
    "    pickle.dump(save_dict, f)\n"
   ],
   "metadata": {
    "collapsed": false,
    "pycharm": {
     "name": "#%%\n"
    }
   }
  },
  {
   "cell_type": "code",
   "execution_count": 19,
   "outputs": [],
   "source": [
    "for i in save_dict.keys():\n",
    "    break\n"
   ],
   "metadata": {
    "collapsed": false,
    "pycharm": {
     "name": "#%%\n"
    }
   }
  },
  {
   "cell_type": "code",
   "execution_count": 21,
   "outputs": [
    {
     "data": {
      "text/plain": "0"
     },
     "execution_count": 21,
     "metadata": {},
     "output_type": "execute_result"
    }
   ],
   "source": [
    "save_dict[i]"
   ],
   "metadata": {
    "collapsed": false,
    "pycharm": {
     "name": "#%%\n"
    }
   }
  },
  {
   "cell_type": "code",
   "execution_count": 23,
   "outputs": [
    {
     "data": {
      "text/plain": "0"
     },
     "execution_count": 23,
     "metadata": {},
     "output_type": "execute_result"
    }
   ],
   "source": [
    "save_dict = pd.read_pickle('./So Post idx mapping.pkl')\n",
    "save_dict[i]\n"
   ],
   "metadata": {
    "collapsed": false,
    "pycharm": {
     "name": "#%%\n"
    }
   }
  },
  {
   "cell_type": "code",
   "execution_count": 1,
   "outputs": [],
   "source": [],
   "metadata": {
    "collapsed": false,
    "pycharm": {
     "name": "#%%\n"
    }
   }
  },
  {
   "cell_type": "code",
   "execution_count": 1,
   "outputs": [],
   "source": [],
   "metadata": {
    "collapsed": false,
    "pycharm": {
     "name": "#%%\n"
    }
   }
  },
  {
   "cell_type": "code",
   "execution_count": null,
   "outputs": [],
   "source": [
    "\n"
   ],
   "metadata": {
    "collapsed": false,
    "pycharm": {
     "name": "#%%\n"
    }
   }
  }
 ],
 "metadata": {
  "kernelspec": {
   "display_name": "Python 3",
   "language": "python",
   "name": "python3"
  },
  "language_info": {
   "codemirror_mode": {
    "name": "ipython",
    "version": 2
   },
   "file_extension": ".py",
   "mimetype": "text/x-python",
   "name": "python",
   "nbconvert_exporter": "python",
   "pygments_lexer": "ipython2",
   "version": "2.7.6"
  }
 },
 "nbformat": 4,
 "nbformat_minor": 0
}