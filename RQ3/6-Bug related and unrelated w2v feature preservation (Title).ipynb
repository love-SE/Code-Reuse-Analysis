{
 "cells": [
  {
   "cell_type": "code",
   "execution_count": 1,
   "outputs": [],
   "source": [
    "from datetime import datetime\n",
    "import time\n",
    "import os\n",
    "from tqdm import tqdm\n",
    "import pandas as pd\n",
    "import re\n",
    "import matplotlib.pyplot as plt\n",
    "import numpy as np"
   ],
   "metadata": {
    "collapsed": false,
    "pycharm": {
     "name": "#%%\n"
    }
   }
  },
  {
   "cell_type": "code",
   "execution_count": 44,
   "outputs": [
    {
     "name": "stdout",
     "output_type": "stream",
     "text": [
      "<class 'pandas.core.frame.DataFrame'>\n",
      "RangeIndex: 3636 entries, 0 to 3635\n",
      "Data columns (total 11 columns):\n",
      " #   Column         Non-Null Count  Dtype  \n",
      "---  ------         --------------  -----  \n",
      " 0   CreationDate   3636 non-null   object \n",
      " 1   Title          3636 non-null   object \n",
      " 2   Tags           3636 non-null   object \n",
      " 3   Score          3636 non-null   int64  \n",
      " 4   AnswerCount    3636 non-null   int64  \n",
      " 5   CommentCount   3636 non-null   int64  \n",
      " 6   FavoriteCount  702 non-null    float64\n",
      " 7   w2v_title      3636 non-null   object \n",
      " 8   w2v_tag        3636 non-null   object \n",
      " 9   title+tag      3636 non-null   object \n",
      " 10  w2v_title+tag  3636 non-null   object \n",
      "dtypes: float64(1), int64(3), object(7)\n",
      "memory usage: 312.6+ KB\n"
     ]
    },
    {
     "data": {
      "text/plain": "              CreationDate                                              Title  \\\n0  2012-07-10T14:09:47.123  How to enable the Java keyword assert in Eclip...   \n1  2012-10-08T12:46:21.523  Stack program in Java without using built-in c...   \n\n                             Tags  Score  AnswerCount  CommentCount  \\\n0  java eclipse assert assertions     64            6             1   \n1            java data-structures      0            3             4   \n\n   FavoriteCount                                          w2v_title  \\\n0            8.0  [0.24032320082187653, 0.42651060223579407, 0.4...   \n1            NaN  [0.24032320082187653, 0.42886120080947876, 0.3...   \n\n                                             w2v_tag  \\\n0  [-0.11689873645082116, 0.3525516837835312, 0.1...   \n1  [0.1382400542497635, -0.023948220536112785, -0...   \n\n                                           title+tag  \\\n0  How to enable the Java keyword assert in Eclip...   \n1  Stack program in Java without using built-in c...   \n\n                                       w2v_title+tag  \n0  [0.24032320082187653, 0.8867842555046082, 0.59...  \n1  [0.24032320082187653, 0.42886120080947876, 0.3...  ",
      "text/html": "<div>\n<style scoped>\n    .dataframe tbody tr th:only-of-type {\n        vertical-align: middle;\n    }\n\n    .dataframe tbody tr th {\n        vertical-align: top;\n    }\n\n    .dataframe thead th {\n        text-align: right;\n    }\n</style>\n<table border=\"1\" class=\"dataframe\">\n  <thead>\n    <tr style=\"text-align: right;\">\n      <th></th>\n      <th>CreationDate</th>\n      <th>Title</th>\n      <th>Tags</th>\n      <th>Score</th>\n      <th>AnswerCount</th>\n      <th>CommentCount</th>\n      <th>FavoriteCount</th>\n      <th>w2v_title</th>\n      <th>w2v_tag</th>\n      <th>title+tag</th>\n      <th>w2v_title+tag</th>\n    </tr>\n  </thead>\n  <tbody>\n    <tr>\n      <th>0</th>\n      <td>2012-07-10T14:09:47.123</td>\n      <td>How to enable the Java keyword assert in Eclip...</td>\n      <td>java eclipse assert assertions</td>\n      <td>64</td>\n      <td>6</td>\n      <td>1</td>\n      <td>8.0</td>\n      <td>[0.24032320082187653, 0.42651060223579407, 0.4...</td>\n      <td>[-0.11689873645082116, 0.3525516837835312, 0.1...</td>\n      <td>How to enable the Java keyword assert in Eclip...</td>\n      <td>[0.24032320082187653, 0.8867842555046082, 0.59...</td>\n    </tr>\n    <tr>\n      <th>1</th>\n      <td>2012-10-08T12:46:21.523</td>\n      <td>Stack program in Java without using built-in c...</td>\n      <td>java data-structures</td>\n      <td>0</td>\n      <td>3</td>\n      <td>4</td>\n      <td>NaN</td>\n      <td>[0.24032320082187653, 0.42886120080947876, 0.3...</td>\n      <td>[0.1382400542497635, -0.023948220536112785, -0...</td>\n      <td>Stack program in Java without using built-in c...</td>\n      <td>[0.24032320082187653, 0.42886120080947876, 0.3...</td>\n    </tr>\n  </tbody>\n</table>\n</div>"
     },
     "execution_count": 44,
     "metadata": {},
     "output_type": "execute_result"
    }
   ],
   "source": [
    "bug_df = pd.read_csv('./bug/so details.txt')\n",
    "bug_df.info()\n",
    "bug_df.head(2)"
   ],
   "metadata": {
    "collapsed": false,
    "pycharm": {
     "name": "#%%\n"
    }
   }
  },
  {
   "cell_type": "code",
   "execution_count": 45,
   "outputs": [
    {
     "name": "stdout",
     "output_type": "stream",
     "text": [
      "<class 'pandas.core.frame.DataFrame'>\n",
      "RangeIndex: 17986 entries, 0 to 17985\n",
      "Data columns (total 11 columns):\n",
      " #   Column         Non-Null Count  Dtype  \n",
      "---  ------         --------------  -----  \n",
      " 0   CreationDate   17986 non-null  object \n",
      " 1   Title          17986 non-null  object \n",
      " 2   Tags           17986 non-null  object \n",
      " 3   Score          17986 non-null  int64  \n",
      " 4   AnswerCount    17986 non-null  int64  \n",
      " 5   CommentCount   17986 non-null  int64  \n",
      " 6   FavoriteCount  3427 non-null   float64\n",
      " 7   w2v_title      17986 non-null  object \n",
      " 8   w2v_tag        17986 non-null  object \n",
      " 9   title+tag      17986 non-null  object \n",
      " 10  w2v_title+tag  17986 non-null  object \n",
      "dtypes: float64(1), int64(3), object(7)\n",
      "memory usage: 1.5+ MB\n"
     ]
    },
    {
     "data": {
      "text/plain": "              CreationDate                                              Title  \\\n0  2018-08-06T01:49:50.053  Inconsistency in Java's compareTo method on St...   \n1  2018-08-06T01:49:50.053  Inconsistency in Java's compareTo method on St...   \n\n              Tags  Score  AnswerCount  CommentCount  FavoriteCount  \\\n0  java comparator      0            0             3            NaN   \n1  java comparator      0            0             3            NaN   \n\n                                           w2v_title  \\\n0  [0.6235586404800415, 0.0, 0.15243612229824066,...   \n1  [0.6235586404800415, 0.0, 0.15243612229824066,...   \n\n                                             w2v_tag  \\\n0  [0.007734555751085281, -0.09128731675446033, -...   \n1  [0.007734555751085281, -0.09128731675446033, -...   \n\n                                           title+tag  \\\n0  Inconsistency in Java's compareTo method on St...   \n1  Inconsistency in Java's compareTo method on St...   \n\n                                       w2v_title+tag  \n0  [0.6235586404800415, 0.04729170724749565, 0.15...  \n1  [0.6235586404800415, 0.04729170724749565, 0.15...  ",
      "text/html": "<div>\n<style scoped>\n    .dataframe tbody tr th:only-of-type {\n        vertical-align: middle;\n    }\n\n    .dataframe tbody tr th {\n        vertical-align: top;\n    }\n\n    .dataframe thead th {\n        text-align: right;\n    }\n</style>\n<table border=\"1\" class=\"dataframe\">\n  <thead>\n    <tr style=\"text-align: right;\">\n      <th></th>\n      <th>CreationDate</th>\n      <th>Title</th>\n      <th>Tags</th>\n      <th>Score</th>\n      <th>AnswerCount</th>\n      <th>CommentCount</th>\n      <th>FavoriteCount</th>\n      <th>w2v_title</th>\n      <th>w2v_tag</th>\n      <th>title+tag</th>\n      <th>w2v_title+tag</th>\n    </tr>\n  </thead>\n  <tbody>\n    <tr>\n      <th>0</th>\n      <td>2018-08-06T01:49:50.053</td>\n      <td>Inconsistency in Java's compareTo method on St...</td>\n      <td>java comparator</td>\n      <td>0</td>\n      <td>0</td>\n      <td>3</td>\n      <td>NaN</td>\n      <td>[0.6235586404800415, 0.0, 0.15243612229824066,...</td>\n      <td>[0.007734555751085281, -0.09128731675446033, -...</td>\n      <td>Inconsistency in Java's compareTo method on St...</td>\n      <td>[0.6235586404800415, 0.04729170724749565, 0.15...</td>\n    </tr>\n    <tr>\n      <th>1</th>\n      <td>2018-08-06T01:49:50.053</td>\n      <td>Inconsistency in Java's compareTo method on St...</td>\n      <td>java comparator</td>\n      <td>0</td>\n      <td>0</td>\n      <td>3</td>\n      <td>NaN</td>\n      <td>[0.6235586404800415, 0.0, 0.15243612229824066,...</td>\n      <td>[0.007734555751085281, -0.09128731675446033, -...</td>\n      <td>Inconsistency in Java's compareTo method on St...</td>\n      <td>[0.6235586404800415, 0.04729170724749565, 0.15...</td>\n    </tr>\n  </tbody>\n</table>\n</div>"
     },
     "execution_count": 45,
     "metadata": {},
     "output_type": "execute_result"
    }
   ],
   "source": [
    "non_bug_df = pd.read_csv('./non_bug/so details.txt')\n",
    "non_bug_df.info()\n",
    "non_bug_df.head(2)\n",
    "\n"
   ],
   "metadata": {
    "collapsed": false,
    "pycharm": {
     "name": "#%%\n"
    }
   }
  },
  {
   "cell_type": "code",
   "execution_count": 46,
   "outputs": [],
   "source": [
    "from nltk.corpus import stopwords\n",
    "import nltk\n",
    "from gensim.models import word2vec\n",
    "w2v_model = word2vec.Word2Vec.load('./word2vec.model')\n",
    "\n",
    "\n",
    "def mean_vector(words):\n",
    "    vec = np.zeros(300).reshape((1, 300))\n",
    "    for word in words:\n",
    "        try:\n",
    "            vec += w2v_model[word].reshape((1, 300))\n",
    "        except KeyError:\n",
    "            continue\n",
    "    return_vec = vec/len(words)\n",
    "    return_vec = return_vec.reshape((300,))\n",
    "    return return_vec.tolist()\n",
    "\n",
    "\n",
    "def max_vector(words):\n",
    "    vec = np.zeros(300).reshape((1, 300))\n",
    "    for word in words:\n",
    "        try:\n",
    "            vec = np.concatenate((vec, w2v_model[word].reshape((1, 300))),axis=0)\n",
    "        except KeyError:\n",
    "            continue\n",
    "    return_vec = vec.max(axis=0)\n",
    "    return return_vec.tolist()\n",
    "\n",
    "\n",
    "\n",
    "def separate_sentence(text):\n",
    "    remove_chars = '[·’!\"\\#$%&\\'()＃！（）*+,-./:;<=>?\\@，：?￥★、…．＞【】［］《》？“”‘’\\[\\\\]^_`{|}~]+'\n",
    "    text = re.sub(remove_chars, \"\", text)\n",
    "\n",
    "    disease_List = nltk.word_tokenize(text)\n",
    "\n",
    "    filtered = [w for w in disease_List if(w not in stopwords.words('english'))]\n",
    "\n",
    "    Rfiltered =nltk.pos_tag(filtered)\n",
    "\n",
    "    filter_word = [i[0] for i in Rfiltered]\n",
    "    return filter_word\n",
    "\n",
    "\n",
    "def return_w2v(text):\n",
    "    words_list = separate_sentence(text)\n",
    "    # vec = max_vector(words_list)\n",
    "    vec = mean_vector(words_list)\n",
    "    return vec\n"
   ],
   "metadata": {
    "collapsed": false,
    "pycharm": {
     "name": "#%%\n"
    }
   }
  },
  {
   "cell_type": "code",
   "execution_count": 47,
   "outputs": [
    {
     "name": "stderr",
     "output_type": "stream",
     "text": [
      "D:\\ML_ENVS\\lib\\site-packages\\ipykernel_launcher.py:13: DeprecationWarning: Call to deprecated `__getitem__` (Method will be removed in 4.0.0, use self.wv.__getitem__() instead).\n",
      "  del sys.path[0]\n"
     ]
    }
   ],
   "source": [
    "bug_df['w2v_title'] = bug_df['Title'].apply(lambda x: return_w2v(x))"
   ],
   "metadata": {
    "collapsed": false,
    "pycharm": {
     "name": "#%%\n"
    }
   }
  },
  {
   "cell_type": "code",
   "execution_count": 48,
   "outputs": [
    {
     "name": "stderr",
     "output_type": "stream",
     "text": [
      "D:\\ML_ENVS\\lib\\site-packages\\ipykernel_launcher.py:13: DeprecationWarning: Call to deprecated `__getitem__` (Method will be removed in 4.0.0, use self.wv.__getitem__() instead).\n",
      "  del sys.path[0]\n"
     ]
    }
   ],
   "source": [
    "bug_df['w2v_tag'] = bug_df['Tags'].apply(lambda x: return_w2v(x))"
   ],
   "metadata": {
    "collapsed": false,
    "pycharm": {
     "name": "#%%\n"
    }
   }
  },
  {
   "cell_type": "code",
   "execution_count": 49,
   "outputs": [],
   "source": [
    "# bug_df['title+tag'] = bug_df['Title']+pd.Series([' ']*len(bug_df))+bug_df['Tags']\n",
    "# bug_df['w2v_title+tag'] = bug_df['title+tag'].apply(lambda x: return_w2v(x))"
   ],
   "metadata": {
    "collapsed": false,
    "pycharm": {
     "name": "#%%\n"
    }
   }
  },
  {
   "cell_type": "code",
   "execution_count": 50,
   "outputs": [],
   "source": [
    "bug_df.to_csv('./bug/so details.txt',index=False)"
   ],
   "metadata": {
    "collapsed": false,
    "pycharm": {
     "name": "#%%\n"
    }
   }
  },
  {
   "cell_type": "code",
   "execution_count": 28,
   "outputs": [
    {
     "data": {
      "text/plain": "'How to enable the Java keyword assert in Eclipse program-wise? java eclipse assert assertions'"
     },
     "execution_count": 28,
     "metadata": {},
     "output_type": "execute_result"
    }
   ],
   "source": [
    "bug_df.iloc[0]['title+tag']\n"
   ],
   "metadata": {
    "collapsed": false,
    "pycharm": {
     "name": "#%%\n"
    }
   }
  },
  {
   "cell_type": "code",
   "execution_count": 19,
   "outputs": [],
   "source": [],
   "metadata": {
    "collapsed": false,
    "pycharm": {
     "name": "#%%\n"
    }
   }
  },
  {
   "cell_type": "code",
   "execution_count": 51,
   "outputs": [
    {
     "name": "stderr",
     "output_type": "stream",
     "text": [
      "D:\\ML_ENVS\\lib\\site-packages\\ipykernel_launcher.py:13: DeprecationWarning: Call to deprecated `__getitem__` (Method will be removed in 4.0.0, use self.wv.__getitem__() instead).\n",
      "  del sys.path[0]\n"
     ]
    }
   ],
   "source": [
    "non_bug_df['w2v_title'] = non_bug_df['Title'].apply(lambda x: return_w2v(x))"
   ],
   "metadata": {
    "collapsed": false,
    "pycharm": {
     "name": "#%%\n"
    }
   }
  },
  {
   "cell_type": "code",
   "execution_count": 52,
   "outputs": [
    {
     "name": "stderr",
     "output_type": "stream",
     "text": [
      "D:\\ML_ENVS\\lib\\site-packages\\ipykernel_launcher.py:13: DeprecationWarning: Call to deprecated `__getitem__` (Method will be removed in 4.0.0, use self.wv.__getitem__() instead).\n",
      "  del sys.path[0]\n"
     ]
    }
   ],
   "source": [
    "non_bug_df['w2v_tag'] = non_bug_df['Tags'].apply(lambda x: return_w2v(x))"
   ],
   "metadata": {
    "collapsed": false,
    "pycharm": {
     "name": "#%%\n"
    }
   }
  },
  {
   "cell_type": "code",
   "execution_count": 53,
   "outputs": [],
   "source": [
    "# non_bug_df['title+tag'] = non_bug_df['Title']+pd.Series([' ']*len(non_bug_df))+non_bug_df['Tags']\n",
    "# non_bug_df['w2v_title+tag'] = non_bug_df['title+tag'].apply(lambda x: return_w2v(x))"
   ],
   "metadata": {
    "collapsed": false,
    "pycharm": {
     "name": "#%%\n"
    }
   }
  },
  {
   "cell_type": "code",
   "execution_count": 54,
   "outputs": [],
   "source": [
    "non_bug_df.to_csv('./non_bug/so details.txt',index=False)"
   ],
   "metadata": {
    "collapsed": false,
    "pycharm": {
     "name": "#%%\n"
    }
   }
  },
  {
   "cell_type": "code",
   "execution_count": 55,
   "outputs": [
    {
     "name": "stdout",
     "output_type": "stream",
     "text": [
      "<class 'pandas.core.frame.DataFrame'>\n",
      "RangeIndex: 17986 entries, 0 to 17985\n",
      "Data columns (total 11 columns):\n",
      " #   Column         Non-Null Count  Dtype  \n",
      "---  ------         --------------  -----  \n",
      " 0   CreationDate   17986 non-null  object \n",
      " 1   Title          17986 non-null  object \n",
      " 2   Tags           17986 non-null  object \n",
      " 3   Score          17986 non-null  int64  \n",
      " 4   AnswerCount    17986 non-null  int64  \n",
      " 5   CommentCount   17986 non-null  int64  \n",
      " 6   FavoriteCount  3427 non-null   float64\n",
      " 7   w2v_title      17986 non-null  object \n",
      " 8   w2v_tag        17986 non-null  object \n",
      " 9   title+tag      17986 non-null  object \n",
      " 10  w2v_title+tag  17986 non-null  object \n",
      "dtypes: float64(1), int64(3), object(7)\n",
      "memory usage: 1.5+ MB\n"
     ]
    }
   ],
   "source": [
    "non_bug_df.info()"
   ],
   "metadata": {
    "collapsed": false,
    "pycharm": {
     "name": "#%%\n"
    }
   }
  },
  {
   "cell_type": "code",
   "execution_count": 36,
   "outputs": [
    {
     "data": {
      "text/plain": "300"
     },
     "execution_count": 36,
     "metadata": {},
     "output_type": "execute_result"
    }
   ],
   "source": [],
   "metadata": {
    "collapsed": false,
    "pycharm": {
     "name": "#%%\n"
    }
   }
  },
  {
   "cell_type": "code",
   "execution_count": 13,
   "outputs": [],
   "source": [],
   "metadata": {
    "collapsed": false,
    "pycharm": {
     "name": "#%%\n"
    }
   }
  }
 ],
 "metadata": {
  "kernelspec": {
   "display_name": "Python 3",
   "language": "python",
   "name": "python3"
  },
  "language_info": {
   "codemirror_mode": {
    "name": "ipython",
    "version": 2
   },
   "file_extension": ".py",
   "mimetype": "text/x-python",
   "name": "python",
   "nbconvert_exporter": "python",
   "pygments_lexer": "ipython2",
   "version": "2.7.6"
  }
 },
 "nbformat": 4,
 "nbformat_minor": 0
}