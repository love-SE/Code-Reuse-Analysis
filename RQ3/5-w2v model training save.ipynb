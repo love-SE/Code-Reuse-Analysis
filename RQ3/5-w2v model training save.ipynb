{
 "cells": [
  {
   "cell_type": "code",
   "execution_count": 21,
   "metadata": {
    "collapsed": true
   },
   "outputs": [],
   "source": [
    "import re\n",
    "from nltk.corpus import stopwords\n",
    "import nltk\n",
    "from datetime import datetime\n",
    "import time\n",
    "import os\n",
    "from tqdm import tqdm\n",
    "import pandas as pd\n",
    "import re\n",
    "import matplotlib.pyplot as plt"
   ]
  },
  {
   "cell_type": "code",
   "execution_count": 20,
   "outputs": [],
   "source": [],
   "metadata": {
    "collapsed": false,
    "pycharm": {
     "name": "#%%\n"
    }
   }
  },
  {
   "cell_type": "code",
   "execution_count": 28,
   "outputs": [],
   "source": [
    "\n",
    "from nltk.corpus import stopwords\n",
    "import nltk\n",
    "def separate_sentence(text):\n",
    "\n",
    "    remove_chars = '[·’!\"\\#$%&\\'()＃！（）*+,-./:;<=>?\\@，：?￥★、…．＞【】［］《》？“”‘’\\[\\\\]^_`{|}~]+'\n",
    "    text = re.sub(remove_chars, \"\", text)\n",
    "\n",
    "    disease_List = nltk.word_tokenize(text)\n",
    "\n",
    "    filtered = [w for w in disease_List if(w not in stopwords.words('english'))]\n",
    "\n",
    "    Rfiltered =nltk.pos_tag(filtered)\n",
    "\n",
    "    filter_word = [i[0] for i in Rfiltered]\n",
    "    return filter_word"
   ],
   "metadata": {
    "collapsed": false,
    "pycharm": {
     "name": "#%%\n"
    }
   }
  },
  {
   "cell_type": "code",
   "execution_count": 29,
   "outputs": [
    {
     "data": {
      "text/plain": "['Troubles',\n 'SureFire',\n 'plugin',\n 'The',\n 'forked',\n 'VM',\n 'terminated',\n 'without',\n 'saying',\n 'properly',\n 'goodbye',\n 'VM',\n 'crash',\n 'Systemexit',\n 'called']"
     },
     "execution_count": 29,
     "metadata": {},
     "output_type": "execute_result"
    }
   ],
   "source": [
    "x = 'Troubles with SureFire plugin: -\"\"The forked VM terminated without saying properly goodbye. VM crash or System.exit called ?'\n",
    "\n",
    "y = separate_sentence(x)\n",
    "y"
   ],
   "metadata": {
    "collapsed": false,
    "pycharm": {
     "name": "#%%\n"
    }
   }
  },
  {
   "cell_type": "code",
   "execution_count": 24,
   "outputs": [
    {
     "data": {
      "text/plain": "['0.txt', '1.txt', '10.txt', '100.txt', '1000.txt']"
     },
     "execution_count": 24,
     "metadata": {},
     "output_type": "execute_result"
    }
   ],
   "source": [
    "so_path = 'D:/CCFinder/So Posts/'\n",
    "so_list = os.listdir(so_path)\n",
    "so_list[:5]"
   ],
   "metadata": {
    "collapsed": false,
    "pycharm": {
     "name": "#%%\n"
    }
   }
  },
  {
   "cell_type": "code",
   "execution_count": 37,
   "outputs": [
    {
     "name": "stderr",
     "output_type": "stream",
     "text": [
      "100%|██████████| 1355616/1355616 [1:18:40<00:00, 287.16it/s] \n"
     ]
    }
   ],
   "source": [
    "with open('./so_corpus.txt', 'w', encoding='utf-8') as f1:\n",
    "    for file in tqdm(so_list):\n",
    "        with open(so_path+file, 'r', encoding='utf-8') as f2:\n",
    "            x = f2.readline()\n",
    "            Title = re.findall(r'Title = (.*?)//',x)[0]\n",
    "            sep_title = separate_sentence(Title)\n",
    "            f1.write(str(sep_title))\n",
    "            f1.write('\\n')"
   ],
   "metadata": {
    "collapsed": false,
    "pycharm": {
     "name": "#%%\n"
    }
   }
  },
  {
   "cell_type": "code",
   "execution_count": 38,
   "outputs": [
    {
     "name": "stderr",
     "output_type": "stream",
     "text": [
      "100%|██████████| 1355616/1355616 [00:17<00:00, 78544.44it/s]\n"
     ]
    }
   ],
   "source": [
    "corpus = []\n",
    "with open('./so_corpus.txt', 'r', encoding='utf-8') as f:\n",
    "    corpus = f.readlines()\n",
    "    corpus = [eval(line.rstrip('\\n')) for line in tqdm(corpus)]"
   ],
   "metadata": {
    "collapsed": false,
    "pycharm": {
     "name": "#%%\n"
    }
   }
  },
  {
   "cell_type": "code",
   "execution_count": null,
   "outputs": [],
   "source": [],
   "metadata": {
    "collapsed": false,
    "pycharm": {
     "name": "#%%\n"
    }
   }
  },
  {
   "cell_type": "code",
   "execution_count": 39,
   "outputs": [
    {
     "name": "stderr",
     "output_type": "stream",
     "text": [
      "D:\\ML_ENVS\\lib\\site-packages\\gensim\\utils.py:1209: UserWarning: detected Windows; aliasing chunkize to chunkize_serial\n",
      "  warnings.warn(\"detected Windows; aliasing chunkize to chunkize_serial\")\n",
      "D:\\ML_ENVS\\lib\\site-packages\\ipykernel_launcher.py:7: DeprecationWarning: Call to deprecated `__getitem__` (Method will be removed in 4.0.0, use self.wv.__getitem__() instead).\n",
      "  import sys\n"
     ]
    },
    {
     "name": "stdout",
     "output_type": "stream",
     "text": [
      "(300,)\n"
     ]
    }
   ],
   "source": [
    "from gensim.models import word2vec\n",
    "\n",
    "w2v_model = word2vec.Word2Vec(sentences=corpus, size=300, window=5, min_count=1, sg=1, hs=0, iter=32, workers=10)\n",
    "w2v_model.save('./word2vec.model')\n",
    "print(w2v_model['I'].shape)"
   ],
   "metadata": {
    "collapsed": false,
    "pycharm": {
     "name": "#%%\n"
    }
   }
  },
  {
   "cell_type": "code",
   "execution_count": 12,
   "outputs": [],
   "source": [],
   "metadata": {
    "collapsed": false,
    "pycharm": {
     "name": "#%%\n"
    }
   }
  },
  {
   "cell_type": "code",
   "execution_count": 12,
   "outputs": [],
   "source": [],
   "metadata": {
    "collapsed": false,
    "pycharm": {
     "name": "#%%\n"
    }
   }
  },
  {
   "cell_type": "code",
   "execution_count": null,
   "outputs": [],
   "source": [
    "\n"
   ],
   "metadata": {
    "collapsed": false,
    "pycharm": {
     "name": "#%%\n"
    }
   }
  }
 ],
 "metadata": {
  "kernelspec": {
   "display_name": "Python 3",
   "language": "python",
   "name": "python3"
  },
  "language_info": {
   "codemirror_mode": {
    "name": "ipython",
    "version": 2
   },
   "file_extension": ".py",
   "mimetype": "text/x-python",
   "name": "python",
   "nbconvert_exporter": "python",
   "pygments_lexer": "ipython2",
   "version": "2.7.6"
  }
 },
 "nbformat": 4,
 "nbformat_minor": 0
}