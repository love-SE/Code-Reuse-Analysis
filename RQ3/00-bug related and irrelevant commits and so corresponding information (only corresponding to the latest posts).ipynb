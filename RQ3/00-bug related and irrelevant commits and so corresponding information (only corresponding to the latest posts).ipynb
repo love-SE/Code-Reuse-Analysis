{
 "cells": [
  {
   "cell_type": "code",
   "execution_count": 1,
   "outputs": [],
   "source": [
    "from datetime import datetime\n",
    "import time\n",
    "import os\n",
    "from tqdm import tqdm\n",
    "import pandas as pd\n",
    "import re\n"
   ],
   "metadata": {
    "collapsed": false,
    "pycharm": {
     "name": "#%%\n"
    }
   }
  },
  {
   "cell_type": "code",
   "execution_count": 3,
   "outputs": [
    {
     "name": "stdout",
     "output_type": "stream",
     "text": [
      "3636\n"
     ]
    },
    {
     "data": {
      "text/plain": "['D-CCFinder-NewData-ActiveAndroid-3-893.java.txt',\n 'D-CCFinder-NewData-afinal-0-290.java.txt',\n 'D-CCFinder-NewData-afinal-0-293.java.txt',\n 'D-CCFinder-NewData-AgentWeb-0-1040.java.txt',\n 'D-CCFinder-NewData-algs4-1-2381.java.txt']"
     },
     "execution_count": 3,
     "metadata": {},
     "output_type": "execute_result"
    }
   ],
   "source": [
    "path1 = 'D:/CCFinder/Commit2So_bug/'\n",
    "commit1_list = os.listdir(path1)\n",
    "print(len(commit1_list))\n",
    "commit1_list[:5]"
   ],
   "metadata": {
    "collapsed": false,
    "pycharm": {
     "name": "#%%\n"
    }
   }
  },
  {
   "cell_type": "code",
   "execution_count": 4,
   "outputs": [
    {
     "name": "stdout",
     "output_type": "stream",
     "text": [
      "0\n"
     ]
    },
    {
     "data": {
      "text/plain": "[]"
     },
     "execution_count": 4,
     "metadata": {},
     "output_type": "execute_result"
    }
   ],
   "source": [
    "path2 = 'D:/CCFinder/Commit2So_bug(A commit only corresponds to the latest so)/'\n",
    "commit2_list = os.listdir(path2)\n",
    "print(len(commit2_list))\n",
    "commit2_list[:5]"
   ],
   "metadata": {
    "collapsed": false,
    "pycharm": {
     "name": "#%%\n"
    }
   }
  },
  {
   "cell_type": "code",
   "execution_count": 5,
   "outputs": [
    {
     "name": "stderr",
     "output_type": "stream",
     "text": [
      "100%|██████████| 3636/3636 [02:10<00:00, 27.89it/s] \n"
     ]
    }
   ],
   "source": [
    "for file in tqdm(commit1_list):\n",
    "    with open(path1+file, 'r', encoding='utf-8') as f1:\n",
    "        lines = f1.readlines()\n",
    "        latest_date = pd.to_datetime('1-1-1')\n",
    "        for so_post in lines:\n",
    "            CreationDate = re.findall(r'CreationDate = (.*?)//', so_post)[0][:10]\n",
    "            if pd.to_datetime(CreationDate)>latest_date:\n",
    "                latest_date = pd.to_datetime(CreationDate)\n",
    "                res = so_post\n",
    "        with open(path2+file, 'w', encoding='utf-8') as f2:\n",
    "            f2.write(res)"
   ],
   "metadata": {
    "collapsed": false,
    "pycharm": {
     "name": "#%%\n"
    }
   }
  },
  {
   "cell_type": "code",
   "execution_count": null,
   "outputs": [],
   "source": [],
   "metadata": {
    "collapsed": false,
    "pycharm": {
     "name": "#%%\n"
    }
   }
  },
  {
   "cell_type": "code",
   "execution_count": null,
   "outputs": [],
   "source": [],
   "metadata": {
    "collapsed": false,
    "pycharm": {
     "name": "#%%\n"
    }
   }
  },
  {
   "cell_type": "code",
   "execution_count": null,
   "outputs": [],
   "source": [],
   "metadata": {
    "collapsed": false,
    "pycharm": {
     "name": "#%%\n"
    }
   }
  },
  {
   "cell_type": "code",
   "execution_count": null,
   "outputs": [],
   "source": [],
   "metadata": {
    "collapsed": false,
    "pycharm": {
     "name": "#%%\n"
    }
   }
  },
  {
   "cell_type": "code",
   "execution_count": null,
   "outputs": [],
   "source": [],
   "metadata": {
    "collapsed": false,
    "pycharm": {
     "name": "#%%\n"
    }
   }
  },
  {
   "cell_type": "code",
   "execution_count": null,
   "outputs": [],
   "source": [],
   "metadata": {
    "collapsed": false,
    "pycharm": {
     "name": "#%%\n"
    }
   }
  },
  {
   "cell_type": "code",
   "execution_count": null,
   "outputs": [],
   "source": [],
   "metadata": {
    "collapsed": false,
    "pycharm": {
     "name": "#%%\n"
    }
   }
  },
  {
   "cell_type": "code",
   "execution_count": null,
   "outputs": [],
   "source": [],
   "metadata": {
    "collapsed": false,
    "pycharm": {
     "name": "#%%\n"
    }
   }
  },
  {
   "cell_type": "code",
   "execution_count": 6,
   "outputs": [
    {
     "name": "stdout",
     "output_type": "stream",
     "text": [
      "17986\n"
     ]
    },
    {
     "data": {
      "text/plain": "['D-CCFinder-NewData-AarogyaSetu-0-104.java.txt',\n 'D-CCFinder-NewData-AarogyaSetu-0-185.java.txt',\n 'D-CCFinder-NewData-AarogyaSetu-0-221.java.txt',\n 'D-CCFinder-NewData-AarogyaSetu-0-233.java.txt',\n 'D-CCFinder-NewData-AarogyaSetu-0-644.java.txt']"
     },
     "execution_count": 6,
     "metadata": {},
     "output_type": "execute_result"
    }
   ],
   "source": [
    "path1 = 'D:/CCFinder/Commit2So_non_bug/'\n",
    "commit1_list = os.listdir(path1)\n",
    "print(len(commit1_list))\n",
    "commit1_list[:5]"
   ],
   "metadata": {
    "collapsed": false,
    "pycharm": {
     "name": "#%%\n"
    }
   }
  },
  {
   "cell_type": "code",
   "execution_count": 7,
   "outputs": [
    {
     "name": "stdout",
     "output_type": "stream",
     "text": [
      "0\n"
     ]
    },
    {
     "data": {
      "text/plain": "[]"
     },
     "execution_count": 7,
     "metadata": {},
     "output_type": "execute_result"
    }
   ],
   "source": [
    "path2 = 'D:/CCFinder/Commit2So_non_bug(A commit only corresponds to the latest so)/'\n",
    "commit2_list = os.listdir(path2)\n",
    "print(len(commit2_list))\n",
    "commit2_list[:5]"
   ],
   "metadata": {
    "collapsed": false,
    "pycharm": {
     "name": "#%%\n"
    }
   }
  },
  {
   "cell_type": "code",
   "execution_count": 8,
   "outputs": [
    {
     "name": "stderr",
     "output_type": "stream",
     "text": [
      "100%|██████████| 17986/17986 [10:11<00:00, 29.41it/s] \n"
     ]
    }
   ],
   "source": [
    "for file in tqdm(commit1_list):\n",
    "    with open(path1+file, 'r', encoding='utf-8') as f1:\n",
    "        lines = f1.readlines()\n",
    "        latest_date = pd.to_datetime('1-1-1')\n",
    "        for so_post in lines:\n",
    "            CreationDate = re.findall(r'CreationDate = (.*?)//', so_post)[0][:10]\n",
    "            if pd.to_datetime(CreationDate)>latest_date:\n",
    "                latest_date = pd.to_datetime(CreationDate)\n",
    "                res = so_post\n",
    "        with open(path2+file, 'w', encoding='utf-8') as f2:\n",
    "            f2.write(res)\n"
   ],
   "metadata": {
    "collapsed": false,
    "pycharm": {
     "name": "#%%\n"
    }
   }
  }
 ],
 "metadata": {
  "kernelspec": {
   "display_name": "Python 3",
   "language": "python",
   "name": "python3"
  },
  "language_info": {
   "codemirror_mode": {
    "name": "ipython",
    "version": 2
   },
   "file_extension": ".py",
   "mimetype": "text/x-python",
   "name": "python",
   "nbconvert_exporter": "python",
   "pygments_lexer": "ipython2",
   "version": "2.7.6"
  }
 },
 "nbformat": 4,
 "nbformat_minor": 0
}