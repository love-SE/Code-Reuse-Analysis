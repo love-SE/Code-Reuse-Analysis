{
 "cells": [
  {
   "cell_type": "code",
   "execution_count": 1,
   "metadata": {
    "collapsed": true
   },
   "outputs": [],
   "source": [
    "from datetime import datetime\n",
    "import time\n",
    "import os\n",
    "from tqdm import tqdm\n",
    "\n",
    "import pandas as pd\n",
    "import re\n"
   ]
  },
  {
   "cell_type": "code",
   "execution_count": 3,
   "outputs": [
    {
     "data": {
      "text/plain": "(3636, 'D-CCFinder-NewData-ActiveAndroid-3-893.java.txt')"
     },
     "execution_count": 3,
     "metadata": {},
     "output_type": "execute_result"
    }
   ],
   "source": [
    "path1 = 'D:/CCFinder/Commit2So_bug(A commit only corresponds to the latest so)/'\n",
    "bug_list = os.listdir(path1)\n",
    "len(bug_list),bug_list[0]\n"
   ],
   "metadata": {
    "collapsed": false,
    "pycharm": {
     "name": "#%%\n"
    }
   }
  },
  {
   "cell_type": "code",
   "execution_count": 4,
   "outputs": [],
   "source": [
    "def extract_info(x):\n",
    "    CreationDate = re.findall(r'CreationDate = (.*?)//',x)[0]\n",
    "\n",
    "    Title = re.findall(r'Title = (.*?)//',x)[0]\n",
    "\n",
    "    Tags = re.findall(r'Tags = (.*?)//',x)[0]\n",
    "    Tags = Tags.split('><')\n",
    "    Tags[0] = Tags[0].lstrip('<')\n",
    "    Tags[-1] = Tags[-1].rstrip('>')\n",
    "    Tags = ' '.join(Tags)\n",
    "\n",
    "    Score = re.findall(r'Score = (.*?)//',x)[0]\n",
    "\n",
    "\n",
    "    AnswerCount = re.findall(r'AnswerCount = (.*?)//',x)\n",
    "    if AnswerCount==[] or AnswerCount==['']:\n",
    "        AnswerCount = re.findall(r'AnswerCount = (.*?)\\n',x)\n",
    "        if AnswerCount == [] or AnswerCount==['']:\n",
    "            AnswerCount = None\n",
    "        else:\n",
    "            AnswerCount = AnswerCount[0]\n",
    "    else:\n",
    "        AnswerCount = AnswerCount[0]\n",
    "\n",
    "\n",
    "    CommentCount = re.findall(r'CommentCount = (.*?)//',x)\n",
    "    if CommentCount==[] or CommentCount==['']:\n",
    "        CommentCount = re.findall(r'CommentCount = (.*?)\\n',x)\n",
    "        if CommentCount==[] or CommentCount==['']:\n",
    "            CommentCount = None\n",
    "        else:\n",
    "            CommentCount = CommentCount[0]\n",
    "    else:\n",
    "        CommentCount = CommentCount[0]\n",
    "\n",
    "    FavoriteCount = re.findall(r'FavoriteCount = (.*?)//',x)\n",
    "    if FavoriteCount==[] or FavoriteCount==['']:\n",
    "        FavoriteCount = re.findall(r'FavoriteCount = (.*?)\\n',x)\n",
    "        if FavoriteCount==[] or FavoriteCount==['']:\n",
    "            FavoriteCount = None\n",
    "        else:\n",
    "            FavoriteCount = FavoriteCount[0]\n",
    "    else:\n",
    "        FavoriteCount = FavoriteCount[0]\n",
    "\n",
    "\n",
    "\n",
    "    return CreationDate, Title, Tags, Score, AnswerCount, CommentCount, FavoriteCount"
   ],
   "metadata": {
    "collapsed": false,
    "pycharm": {
     "name": "#%%\n"
    }
   }
  },
  {
   "cell_type": "code",
   "execution_count": 5,
   "outputs": [
    {
     "name": "stderr",
     "output_type": "stream",
     "text": [
      "100%|██████████| 3636/3636 [00:00<00:00, 9342.36it/s]\n"
     ]
    }
   ],
   "source": [
    "new_df = pd.DataFrame({'CreationDate':[],'Title':[], 'Tags':[],\n",
    "                          'Score':[],'AnswerCount':[], 'CommentCount':[],\n",
    "                          'FavoriteCount':[]})\n",
    "\n",
    "CreationDate_list = []\n",
    "Title_list = []\n",
    "Tags_list = []\n",
    "Score_list = []\n",
    "AnswerCount_list = []\n",
    "CommentCount_list = []\n",
    "FavoriteCount_list = []\n",
    "\n",
    "\n",
    "for file in tqdm(bug_list):\n",
    "    with open(path1+file, 'r', encoding='utf-8') as f:\n",
    "        lines = f.readlines()\n",
    "        lines = list(set(lines))\n",
    "        for l in lines:\n",
    "            CreationDate, Title, Tags, Score, AnswerCount, CommentCount, FavoriteCount = extract_info(l)\n",
    "            CreationDate_list.append(CreationDate)\n",
    "            Title_list.append(Title)\n",
    "            Tags_list.append(Tags)\n",
    "            Score_list.append(Score)\n",
    "            AnswerCount_list.append(AnswerCount)\n",
    "            CommentCount_list.append(CommentCount)\n",
    "            FavoriteCount_list.append(FavoriteCount)\n",
    "            # new_df.loc[len(new_df)] = [CreationDate, Title, Tags, Score, AnswerCount, CommentCount, FavoriteCount]\n",
    "\n",
    "\n",
    "new_df['CreationDate'] = CreationDate_list\n",
    "new_df['Title'] = Title_list\n",
    "new_df['Tags'] = Tags_list\n",
    "new_df['Score'] = Score_list\n",
    "new_df['AnswerCount'] = AnswerCount_list\n",
    "new_df['CommentCount'] = CommentCount_list\n",
    "new_df['FavoriteCount'] =FavoriteCount_list\n",
    "\n",
    "\n",
    "\n",
    "new_df.to_csv('./bug/so details.txt',index=False)"
   ],
   "metadata": {
    "collapsed": false,
    "pycharm": {
     "name": "#%%\n"
    }
   }
  },
  {
   "cell_type": "code",
   "execution_count": 5,
   "outputs": [],
   "source": [],
   "metadata": {
    "collapsed": false,
    "pycharm": {
     "name": "#%%\n"
    }
   }
  },
  {
   "cell_type": "code",
   "execution_count": 5,
   "outputs": [],
   "source": [],
   "metadata": {
    "collapsed": false,
    "pycharm": {
     "name": "#%%\n"
    }
   }
  },
  {
   "cell_type": "code",
   "execution_count": 7,
   "outputs": [
    {
     "data": {
      "text/plain": "(17986, 'D-CCFinder-NewData-AarogyaSetu-0-104.java.txt')"
     },
     "execution_count": 7,
     "metadata": {},
     "output_type": "execute_result"
    }
   ],
   "source": [
    "path2 = 'D:/CCFinder/Commit2So_non_bug(A commit only corresponds to the latest so)/'\n",
    "non_bug_list = os.listdir(path2)\n",
    "len(non_bug_list),non_bug_list[0]"
   ],
   "metadata": {
    "collapsed": false,
    "pycharm": {
     "name": "#%%\n"
    }
   }
  },
  {
   "cell_type": "code",
   "execution_count": 7,
   "outputs": [],
   "source": [],
   "metadata": {
    "collapsed": false,
    "pycharm": {
     "name": "#%%\n"
    }
   }
  },
  {
   "cell_type": "code",
   "execution_count": 8,
   "outputs": [
    {
     "name": "stderr",
     "output_type": "stream",
     "text": [
      "100%|██████████| 17986/17986 [01:42<00:00, 174.70it/s]\n"
     ]
    }
   ],
   "source": [
    "new_df = pd.DataFrame({'CreationDate':[],'Title':[], 'Tags':[],\n",
    "                          'Score':[],'AnswerCount':[], 'CommentCount':[],\n",
    "                          'FavoriteCount':[]})\n",
    "\n",
    "CreationDate_list = []\n",
    "Title_list = []\n",
    "Tags_list = []\n",
    "Score_list = []\n",
    "AnswerCount_list = []\n",
    "CommentCount_list = []\n",
    "FavoriteCount_list = []\n",
    "\n",
    "\n",
    "for file in tqdm(non_bug_list):\n",
    "    with open(path2+file, 'r', encoding='utf-8') as f:\n",
    "        lines = f.readlines()\n",
    "        lines = list(set(lines))\n",
    "        for l in lines:\n",
    "            CreationDate, Title, Tags, Score, AnswerCount, CommentCount, FavoriteCount = extract_info(l)\n",
    "            CreationDate_list.append(CreationDate)\n",
    "            Title_list.append(Title)\n",
    "            Tags_list.append(Tags)\n",
    "            Score_list.append(Score)\n",
    "            AnswerCount_list.append(AnswerCount)\n",
    "            CommentCount_list.append(CommentCount)\n",
    "            FavoriteCount_list.append(FavoriteCount)\n",
    "            # new_df.loc[len(new_df)] = [CreationDate, Title, Tags, Score, AnswerCount, CommentCount, FavoriteCount]\n",
    "\n",
    "\n",
    "new_df['CreationDate'] = CreationDate_list\n",
    "new_df['Title'] = Title_list\n",
    "new_df['Tags'] = Tags_list\n",
    "new_df['Score'] = Score_list\n",
    "new_df['AnswerCount'] = AnswerCount_list\n",
    "new_df['CommentCount'] = CommentCount_list\n",
    "new_df['FavoriteCount'] =FavoriteCount_list\n",
    "\n",
    "\n",
    "\n",
    "new_df.to_csv('./non_bug/so details.txt',index=False)\n"
   ],
   "metadata": {
    "collapsed": false,
    "pycharm": {
     "name": "#%%\n"
    }
   }
  },
  {
   "cell_type": "code",
   "execution_count": 9,
   "outputs": [
    {
     "name": "stdout",
     "output_type": "stream",
     "text": [
      "<class 'pandas.core.frame.DataFrame'>\n",
      "RangeIndex: 17986 entries, 0 to 17985\n",
      "Data columns (total 7 columns):\n",
      " #   Column         Non-Null Count  Dtype  \n",
      "---  ------         --------------  -----  \n",
      " 0   CreationDate   17986 non-null  object \n",
      " 1   Title          17986 non-null  object \n",
      " 2   Tags           17986 non-null  object \n",
      " 3   Score          17986 non-null  int64  \n",
      " 4   AnswerCount    17986 non-null  int64  \n",
      " 5   CommentCount   17986 non-null  int64  \n",
      " 6   FavoriteCount  3427 non-null   float64\n",
      "dtypes: float64(1), int64(3), object(3)\n",
      "memory usage: 983.7+ KB\n"
     ]
    }
   ],
   "source": [
    "df = pd.read_csv('./non_bug/so details.txt')\n",
    "df.info()"
   ],
   "metadata": {
    "collapsed": false,
    "pycharm": {
     "name": "#%%\n"
    }
   }
  },
  {
   "cell_type": "code",
   "execution_count": 8,
   "outputs": [
    {
     "data": {
      "text/plain": "0         java android android-studio android-gradle-plugin\n1                    java android nullpointerexception null\n2                                              java android\n3                                    java jboss jboss-eap-6\n4           java maven docker continuous-integration gitlab\n                                ...                        \n894612                                java jakarta-ee enums\n894613                    java android nullpointerexception\n894614                                    java swing jtable\n894615                                         java eclipse\n894616                                java apache-spark rdd\nName: Tags, Length: 894617, dtype: object"
     },
     "execution_count": 8,
     "metadata": {},
     "output_type": "execute_result"
    }
   ],
   "source": [],
   "metadata": {
    "collapsed": false,
    "pycharm": {
     "name": "#%%\n"
    }
   }
  },
  {
   "cell_type": "code",
   "execution_count": null,
   "outputs": [],
   "source": [],
   "metadata": {
    "collapsed": false,
    "pycharm": {
     "name": "#%%\n"
    }
   }
  }
 ],
 "metadata": {
  "kernelspec": {
   "display_name": "Python 3",
   "language": "python",
   "name": "python3"
  },
  "language_info": {
   "codemirror_mode": {
    "name": "ipython",
    "version": 2
   },
   "file_extension": ".py",
   "mimetype": "text/x-python",
   "name": "python",
   "nbconvert_exporter": "python",
   "pygments_lexer": "ipython2",
   "version": "2.7.6"
  }
 },
 "nbformat": 4,
 "nbformat_minor": 0
}