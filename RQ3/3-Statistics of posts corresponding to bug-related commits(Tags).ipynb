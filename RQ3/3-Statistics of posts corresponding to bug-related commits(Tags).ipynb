{
 "cells": [
  {
   "cell_type": "code",
   "execution_count": 1,
   "outputs": [],
   "source": [
    "from datetime import datetime\n",
    "import time\n",
    "import os\n",
    "from tqdm import tqdm\n",
    "import pandas as pd\n",
    "import re\n",
    "import matplotlib.pyplot as plt\n"
   ],
   "metadata": {
    "collapsed": false,
    "pycharm": {
     "name": "#%%\n"
    }
   }
  },
  {
   "cell_type": "code",
   "execution_count": 2,
   "outputs": [
    {
     "name": "stdout",
     "output_type": "stream",
     "text": [
      "<class 'pandas.core.frame.DataFrame'>\n",
      "RangeIndex: 3636 entries, 0 to 3635\n",
      "Data columns (total 7 columns):\n",
      " #   Column         Non-Null Count  Dtype  \n",
      "---  ------         --------------  -----  \n",
      " 0   CreationDate   3636 non-null   object \n",
      " 1   Title          3636 non-null   object \n",
      " 2   Tags           3636 non-null   object \n",
      " 3   Score          3636 non-null   int64  \n",
      " 4   AnswerCount    3636 non-null   int64  \n",
      " 5   CommentCount   3636 non-null   int64  \n",
      " 6   FavoriteCount  702 non-null    float64\n",
      "dtypes: float64(1), int64(3), object(3)\n",
      "memory usage: 199.0+ KB\n"
     ]
    },
    {
     "data": {
      "text/plain": "              CreationDate                                              Title  \\\n0  2012-07-10T14:09:47.123  How to enable the Java keyword assert in Eclip...   \n1  2012-10-08T12:46:21.523  Stack program in Java without using built-in c...   \n\n                             Tags  Score  AnswerCount  CommentCount  \\\n0  java eclipse assert assertions     64            6             1   \n1            java data-structures      0            3             4   \n\n   FavoriteCount  \n0            8.0  \n1            NaN  ",
      "text/html": "<div>\n<style scoped>\n    .dataframe tbody tr th:only-of-type {\n        vertical-align: middle;\n    }\n\n    .dataframe tbody tr th {\n        vertical-align: top;\n    }\n\n    .dataframe thead th {\n        text-align: right;\n    }\n</style>\n<table border=\"1\" class=\"dataframe\">\n  <thead>\n    <tr style=\"text-align: right;\">\n      <th></th>\n      <th>CreationDate</th>\n      <th>Title</th>\n      <th>Tags</th>\n      <th>Score</th>\n      <th>AnswerCount</th>\n      <th>CommentCount</th>\n      <th>FavoriteCount</th>\n    </tr>\n  </thead>\n  <tbody>\n    <tr>\n      <th>0</th>\n      <td>2012-07-10T14:09:47.123</td>\n      <td>How to enable the Java keyword assert in Eclip...</td>\n      <td>java eclipse assert assertions</td>\n      <td>64</td>\n      <td>6</td>\n      <td>1</td>\n      <td>8.0</td>\n    </tr>\n    <tr>\n      <th>1</th>\n      <td>2012-10-08T12:46:21.523</td>\n      <td>Stack program in Java without using built-in c...</td>\n      <td>java data-structures</td>\n      <td>0</td>\n      <td>3</td>\n      <td>4</td>\n      <td>NaN</td>\n    </tr>\n  </tbody>\n</table>\n</div>"
     },
     "execution_count": 2,
     "metadata": {},
     "output_type": "execute_result"
    }
   ],
   "source": [
    "bug_df = pd.read_csv('./bug/so details.txt')\n",
    "bug_df.info()\n",
    "bug_df.head(2)"
   ],
   "metadata": {
    "collapsed": false,
    "pycharm": {
     "name": "#%%\n"
    }
   }
  },
  {
   "cell_type": "code",
   "execution_count": 3,
   "outputs": [
    {
     "name": "stdout",
     "output_type": "stream",
     "text": [
      "<class 'pandas.core.frame.DataFrame'>\n",
      "RangeIndex: 17986 entries, 0 to 17985\n",
      "Data columns (total 7 columns):\n",
      " #   Column         Non-Null Count  Dtype  \n",
      "---  ------         --------------  -----  \n",
      " 0   CreationDate   17986 non-null  object \n",
      " 1   Title          17986 non-null  object \n",
      " 2   Tags           17986 non-null  object \n",
      " 3   Score          17986 non-null  int64  \n",
      " 4   AnswerCount    17986 non-null  int64  \n",
      " 5   CommentCount   17986 non-null  int64  \n",
      " 6   FavoriteCount  3427 non-null   float64\n",
      "dtypes: float64(1), int64(3), object(3)\n",
      "memory usage: 983.7+ KB\n"
     ]
    },
    {
     "data": {
      "text/plain": "              CreationDate                                              Title  \\\n0  2018-08-06T01:49:50.053  Inconsistency in Java's compareTo method on St...   \n1  2018-08-06T01:49:50.053  Inconsistency in Java's compareTo method on St...   \n\n              Tags  Score  AnswerCount  CommentCount  FavoriteCount  \n0  java comparator      0            0             3            NaN  \n1  java comparator      0            0             3            NaN  ",
      "text/html": "<div>\n<style scoped>\n    .dataframe tbody tr th:only-of-type {\n        vertical-align: middle;\n    }\n\n    .dataframe tbody tr th {\n        vertical-align: top;\n    }\n\n    .dataframe thead th {\n        text-align: right;\n    }\n</style>\n<table border=\"1\" class=\"dataframe\">\n  <thead>\n    <tr style=\"text-align: right;\">\n      <th></th>\n      <th>CreationDate</th>\n      <th>Title</th>\n      <th>Tags</th>\n      <th>Score</th>\n      <th>AnswerCount</th>\n      <th>CommentCount</th>\n      <th>FavoriteCount</th>\n    </tr>\n  </thead>\n  <tbody>\n    <tr>\n      <th>0</th>\n      <td>2018-08-06T01:49:50.053</td>\n      <td>Inconsistency in Java's compareTo method on St...</td>\n      <td>java comparator</td>\n      <td>0</td>\n      <td>0</td>\n      <td>3</td>\n      <td>NaN</td>\n    </tr>\n    <tr>\n      <th>1</th>\n      <td>2018-08-06T01:49:50.053</td>\n      <td>Inconsistency in Java's compareTo method on St...</td>\n      <td>java comparator</td>\n      <td>0</td>\n      <td>0</td>\n      <td>3</td>\n      <td>NaN</td>\n    </tr>\n  </tbody>\n</table>\n</div>"
     },
     "execution_count": 3,
     "metadata": {},
     "output_type": "execute_result"
    }
   ],
   "source": [
    "non_bug_df = pd.read_csv('./non_bug/so details.txt')\n",
    "non_bug_df.info()\n",
    "non_bug_df.head(2)\n",
    "\n"
   ],
   "metadata": {
    "collapsed": false,
    "pycharm": {
     "name": "#%%\n"
    }
   }
  },
  {
   "cell_type": "code",
   "execution_count": 4,
   "outputs": [],
   "source": [
    "df_list = [bug_df, non_bug_df]\n",
    "Tags = [[],[]]\n",
    "for idx, temp_df in enumerate(df_list):\n",
    "    for i in range(len(temp_df)):\n",
    "        Tags[idx].extend(temp_df['Tags'][i].split(' '))\n",
    "\n"
   ],
   "metadata": {
    "collapsed": false,
    "pycharm": {
     "name": "#%%\n"
    }
   }
  },
  {
   "cell_type": "code",
   "execution_count": 5,
   "outputs": [],
   "source": [
    "tag_dict_list = [dict(),dict()]\n",
    "for idx, tag in enumerate(Tags):\n",
    "    for t in tag:\n",
    "        if t in tag_dict_list[idx].keys():\n",
    "            tag_dict_list[idx][t] += 1\n",
    "        else:\n",
    "            tag_dict_list[idx][t] = 0\n"
   ],
   "metadata": {
    "collapsed": false,
    "pycharm": {
     "name": "#%%\n"
    }
   }
  },
  {
   "cell_type": "code",
   "execution_count": 6,
   "outputs": [],
   "source": [
    "tag_dict1, tag_dict2 = tag_dict_list\n"
   ],
   "metadata": {
    "collapsed": false,
    "pycharm": {
     "name": "#%%\n"
    }
   }
  },
  {
   "cell_type": "code",
   "execution_count": 10,
   "outputs": [
    {
     "data": {
      "text/plain": "[('android', 636),\n ('spring', 220),\n ('spring-mvc', 171),\n ('swing', 163),\n ('hibernate', 137),\n ('list', 129),\n ('spring-boot', 128),\n ('vaadin', 125),\n ('maven', 124)]"
     },
     "execution_count": 10,
     "metadata": {},
     "output_type": "execute_result"
    }
   ],
   "source": [
    "sorted(tag_dict1.items(), key=lambda x: x[1],reverse=True)[1:10]\n"
   ],
   "metadata": {
    "collapsed": false,
    "pycharm": {
     "name": "#%%\n"
    }
   }
  },
  {
   "cell_type": "code",
   "execution_count": 11,
   "outputs": [
    {
     "data": {
      "text/plain": "[('android', 2499),\n ('spring-mvc', 1401),\n ('spring', 1269),\n ('list', 1181),\n ('vaadin', 1148),\n ('user-input', 1134),\n ('hibernate', 614),\n ('swing', 591),\n ('spring-boot', 524)]"
     },
     "execution_count": 11,
     "metadata": {},
     "output_type": "execute_result"
    }
   ],
   "source": [
    "sorted(tag_dict2.items(), key=lambda x: x[1],reverse=True)[1:10]\n",
    "\n"
   ],
   "metadata": {
    "collapsed": false,
    "pycharm": {
     "name": "#%%\n"
    }
   }
  },
  {
   "cell_type": "code",
   "execution_count": 1,
   "outputs": [],
   "source": [],
   "metadata": {
    "collapsed": false,
    "pycharm": {
     "name": "#%%\n"
    }
   }
  },
  {
   "cell_type": "code",
   "execution_count": 1,
   "outputs": [],
   "source": [],
   "metadata": {
    "collapsed": false,
    "pycharm": {
     "name": "#%%\n"
    }
   }
  },
  {
   "cell_type": "code",
   "execution_count": 1,
   "outputs": [],
   "source": [],
   "metadata": {
    "collapsed": false,
    "pycharm": {
     "name": "#%%\n"
    }
   }
  },
  {
   "cell_type": "code",
   "execution_count": 1,
   "outputs": [],
   "source": [],
   "metadata": {
    "collapsed": false,
    "pycharm": {
     "name": "#%%\n"
    }
   }
  },
  {
   "cell_type": "code",
   "execution_count": 1,
   "outputs": [],
   "source": [],
   "metadata": {
    "collapsed": false,
    "pycharm": {
     "name": "#%%\n"
    }
   }
  },
  {
   "cell_type": "code",
   "execution_count": 1,
   "outputs": [],
   "source": [],
   "metadata": {
    "collapsed": false,
    "pycharm": {
     "name": "#%%\n"
    }
   }
  },
  {
   "cell_type": "code",
   "execution_count": 1,
   "outputs": [],
   "source": [],
   "metadata": {
    "collapsed": false,
    "pycharm": {
     "name": "#%%\n"
    }
   }
  },
  {
   "cell_type": "code",
   "execution_count": 1,
   "outputs": [],
   "source": [],
   "metadata": {
    "collapsed": false,
    "pycharm": {
     "name": "#%%\n"
    }
   }
  },
  {
   "cell_type": "code",
   "execution_count": 1,
   "outputs": [],
   "source": [],
   "metadata": {
    "collapsed": false,
    "pycharm": {
     "name": "#%%\n"
    }
   }
  },
  {
   "cell_type": "code",
   "execution_count": 1,
   "outputs": [],
   "source": [],
   "metadata": {
    "collapsed": false,
    "pycharm": {
     "name": "#%%\n"
    }
   }
  },
  {
   "cell_type": "code",
   "execution_count": 1,
   "outputs": [],
   "source": [],
   "metadata": {
    "collapsed": false,
    "pycharm": {
     "name": "#%%\n"
    }
   }
  },
  {
   "cell_type": "code",
   "execution_count": 1,
   "outputs": [],
   "source": [],
   "metadata": {
    "collapsed": false,
    "pycharm": {
     "name": "#%%\n"
    }
   }
  },
  {
   "cell_type": "code",
   "execution_count": 1,
   "outputs": [],
   "source": [],
   "metadata": {
    "collapsed": false,
    "pycharm": {
     "name": "#%%\n"
    }
   }
  },
  {
   "cell_type": "code",
   "execution_count": 1,
   "outputs": [],
   "source": [],
   "metadata": {
    "collapsed": false,
    "pycharm": {
     "name": "#%%\n"
    }
   }
  },
  {
   "cell_type": "code",
   "execution_count": null,
   "outputs": [],
   "source": [
    "\n"
   ],
   "metadata": {
    "collapsed": false,
    "pycharm": {
     "name": "#%%\n"
    }
   }
  }
 ],
 "metadata": {
  "kernelspec": {
   "display_name": "Python 3",
   "language": "python",
   "name": "python3"
  },
  "language_info": {
   "codemirror_mode": {
    "name": "ipython",
    "version": 2
   },
   "file_extension": ".py",
   "mimetype": "text/x-python",
   "name": "python",
   "nbconvert_exporter": "python",
   "pygments_lexer": "ipython2",
   "version": "2.7.6"
  }
 },
 "nbformat": 4,
 "nbformat_minor": 0
}