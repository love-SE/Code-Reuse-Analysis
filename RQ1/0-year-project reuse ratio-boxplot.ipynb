{
 "cells": [
  {
   "cell_type": "code",
   "execution_count": 1,
   "metadata": {
    "collapsed": true
   },
   "outputs": [],
   "source": [
    "import pandas as pd\n",
    "from datetime import datetime\n",
    "import time\n",
    "import os\n",
    "from tqdm import tqdm\n",
    "import pandas as pd\n",
    "import re\n",
    "import matplotlib.pyplot as plt\n",
    "import numpy as np"
   ]
  },
  {
   "cell_type": "code",
   "execution_count": 2,
   "outputs": [
    {
     "name": "stdout",
     "output_type": "stream",
     "text": [
      "<class 'pandas.core.frame.DataFrame'>\n",
      "RangeIndex: 793 entries, 0 to 792\n",
      "Data columns (total 41 columns):\n",
      " #   Column  Non-Null Count  Dtype \n",
      "---  ------  --------------  ----- \n",
      " 0   项目      793 non-null    object\n",
      " 1   2001    793 non-null    int64 \n",
      " 2   2002    793 non-null    int64 \n",
      " 3   2003    793 non-null    int64 \n",
      " 4   2004    793 non-null    int64 \n",
      " 5   2005    793 non-null    int64 \n",
      " 6   2006    793 non-null    int64 \n",
      " 7   2007    793 non-null    int64 \n",
      " 8   2008    793 non-null    int64 \n",
      " 9   2009    793 non-null    int64 \n",
      " 10  2010    793 non-null    int64 \n",
      " 11  2011    793 non-null    int64 \n",
      " 12  2012    793 non-null    int64 \n",
      " 13  2013    793 non-null    int64 \n",
      " 14  2014    793 non-null    int64 \n",
      " 15  2015    793 non-null    int64 \n",
      " 16  2016    793 non-null    int64 \n",
      " 17  2017    793 non-null    int64 \n",
      " 18  2018    793 non-null    int64 \n",
      " 19  2019    793 non-null    int64 \n",
      " 20  2020    793 non-null    int64 \n",
      " 21  20010   793 non-null    int64 \n",
      " 22  20020   793 non-null    int64 \n",
      " 23  20030   793 non-null    int64 \n",
      " 24  20040   793 non-null    int64 \n",
      " 25  20050   793 non-null    int64 \n",
      " 26  20060   793 non-null    int64 \n",
      " 27  20070   793 non-null    int64 \n",
      " 28  20080   793 non-null    int64 \n",
      " 29  20090   793 non-null    int64 \n",
      " 30  20100   793 non-null    int64 \n",
      " 31  20110   793 non-null    int64 \n",
      " 32  20120   793 non-null    int64 \n",
      " 33  20130   793 non-null    int64 \n",
      " 34  20140   793 non-null    int64 \n",
      " 35  20150   793 non-null    int64 \n",
      " 36  20160   793 non-null    int64 \n",
      " 37  20170   793 non-null    int64 \n",
      " 38  20180   793 non-null    int64 \n",
      " 39  20190   793 non-null    int64 \n",
      " 40  20200   793 non-null    int64 \n",
      "dtypes: int64(40), object(1)\n",
      "memory usage: 254.1+ KB\n"
     ]
    }
   ],
   "source": [
    "df = pd.read_excel('./res(2).xlsx')\n",
    "df.info()"
   ],
   "metadata": {
    "collapsed": false,
    "pycharm": {
     "name": "#%%\n"
    }
   }
  },
  {
   "cell_type": "code",
   "execution_count": 3,
   "outputs": [
    {
     "data": {
      "text/plain": "项目       AdapterDelegates\n2001                    0\n2002                    0\n2003                    0\n2004                    0\n2005                    0\n2006                    0\n2007                    0\n2008                    0\n2009                    0\n2010                    0\n2011                    0\n2012                    0\n2013                    0\n2014                    0\n2015                    2\n2016                   16\n2017                    0\n2018                    0\n2019                    4\n2020                    0\n20010                   0\n20020                   0\n20030                   0\n20040                   0\n20050                   0\n20060                   0\n20070                   0\n20080                   0\n20090                   0\n20100                   0\n20110                   0\n20120                   0\n20130                   0\n20140                   0\n20150                   0\n20160                   0\n20170                   0\n20180                   0\n20190                   0\n20200                   0\nName: 0, dtype: object"
     },
     "execution_count": 3,
     "metadata": {},
     "output_type": "execute_result"
    }
   ],
   "source": [
    "df.iloc[0]\n"
   ],
   "metadata": {
    "collapsed": false,
    "pycharm": {
     "name": "#%%\n"
    }
   }
  },
  {
   "cell_type": "code",
   "execution_count": 4,
   "outputs": [
    {
     "name": "stderr",
     "output_type": "stream",
     "text": [
      "100%|██████████| 793/793 [00:02<00:00, 362.68it/s]\n"
     ]
    }
   ],
   "source": [
    "new_df = pd.DataFrame({'project':[],\n",
    "                       '2001':[],'2002':[],'2003':[],'2004':[],'2005':[],\n",
    "                       '2006':[],'2007':[],'2008':[],'2009':[],'2010':[],\n",
    "                       '2011':[],'2012':[],'2013':[],'2014':[],'2015':[],\n",
    "                       '2016':[],'2017':[],'2018':[],'2019':[],'2020':[]})\n",
    "for i in tqdm(range(len(df))):\n",
    "    temp_series = df.iloc[i]\n",
    "    t = temp_series.to_list()[1:]\n",
    "    ratio = [(t[i+20]/t[i])*100 if t[i]!=0 else np.nan for i in range(20)]\n",
    "    new_df.loc[len(new_df)] = {'project':temp_series['prj'],\n",
    "                       '2001':ratio[0],'2002':ratio[1],'2003':ratio[2],'2004':ratio[3],'2005':ratio[4],\n",
    "                       '2006':ratio[5],'2007':ratio[6],'2008':ratio[7],'2009':ratio[8],'2010':ratio[9],\n",
    "                       '2011':ratio[10],'2012':ratio[11],'2013':ratio[12],'2014':ratio[13],'2015':ratio[14],\n",
    "                       '2016':ratio[15],'2017':ratio[16],'2018':ratio[17],'2019':ratio[18],'2020':ratio[19]}\n",
    "\n"
   ],
   "metadata": {
    "collapsed": false,
    "pycharm": {
     "name": "#%%\n"
    }
   }
  },
  {
   "cell_type": "code",
   "execution_count": 9,
   "outputs": [],
   "source": [
    "new_df.to_excel('./code reuse ratio in each year of the project.xlsx',index=False)\n",
    "\n"
   ],
   "metadata": {
    "collapsed": false,
    "pycharm": {
     "name": "#%%\n"
    }
   }
  },
  {
   "cell_type": "code",
   "execution_count": 10,
   "outputs": [
    {
     "name": "stdout",
     "output_type": "stream",
     "text": [
      "<class 'pandas.core.frame.DataFrame'>\n",
      "Int64Index: 793 entries, 0 to 792\n",
      "Data columns (total 21 columns):\n",
      " #   Column   Non-Null Count  Dtype  \n",
      "---  ------   --------------  -----  \n",
      " 0   project  793 non-null    object \n",
      " 1   2001     1 non-null      float64\n",
      " 2   2002     2 non-null      float64\n",
      " 3   2003     3 non-null      float64\n",
      " 4   2004     5 non-null      float64\n",
      " 5   2005     4 non-null      float64\n",
      " 6   2006     9 non-null      float64\n",
      " 7   2007     13 non-null     float64\n",
      " 8   2008     22 non-null     float64\n",
      " 9   2009     29 non-null     float64\n",
      " 10  2010     54 non-null     float64\n",
      " 11  2011     81 non-null     float64\n",
      " 12  2012     128 non-null    float64\n",
      " 13  2013     188 non-null    float64\n",
      " 14  2014     261 non-null    float64\n",
      " 15  2015     376 non-null    float64\n",
      " 16  2016     452 non-null    float64\n",
      " 17  2017     466 non-null    float64\n",
      " 18  2018     411 non-null    float64\n",
      " 19  2019     377 non-null    float64\n",
      " 20  2020     304 non-null    float64\n",
      "dtypes: float64(20), object(1)\n",
      "memory usage: 136.3+ KB\n"
     ]
    }
   ],
   "source": [
    "new_df.info()"
   ],
   "metadata": {
    "collapsed": false,
    "pycharm": {
     "name": "#%%\n"
    }
   }
  },
  {
   "cell_type": "code",
   "execution_count": 11,
   "outputs": [
    {
     "data": {
      "text/plain": "22"
     },
     "execution_count": 11,
     "metadata": {},
     "output_type": "execute_result"
    }
   ],
   "source": [
    "len(new_df['2008'].dropna())"
   ],
   "metadata": {
    "collapsed": false,
    "pycharm": {
     "name": "#%%\n"
    }
   }
  },
  {
   "cell_type": "code",
   "execution_count": 11,
   "outputs": [],
   "source": [],
   "metadata": {
    "collapsed": false,
    "pycharm": {
     "name": "#%%\n"
    }
   }
  },
  {
   "cell_type": "code",
   "execution_count": 5,
   "outputs": [
    {
     "name": "stdout",
     "output_type": "stream",
     "text": [
      "year mean:  [0.0, 1.0776238496452875, 1.1225483448368931, 2.7634768397886185, 5.158613150809979, 6.565639677259851, 6.506394432729098, 6.59944086474316, 7.859326568483938, 7.494368134361726, 7.86091248259049, 6.890769096711361, 8.403048135940825]\n"
     ]
    },
    {
     "data": {
      "text/plain": "<Figure size 1200x800 with 1 Axes>",
      "image/png": "[encoded data removed]"
     },
     "metadata": {
      "needs_background": "light"
     },
     "output_type": "display_data"
    }
   ],
   "source": [
    "year_info = []\n",
    "\n",
    "for i in range(2008, 2021):\n",
    "    year_info.append(new_df[str(i)].dropna().to_list())\n",
    "\n",
    "\n",
    "import math\n",
    "mean_year = []\n",
    "for year_list in year_info:\n",
    "    mean_year.append(np.mean(year_list))\n",
    "print('year mean: ', mean_year)\n",
    "\n",
    "plt.figure(dpi=200)\n",
    "\n",
    "pos = [i for i in range(13)]\n",
    "\n",
    "plt.boxplot(year_info,\n",
    "            labels = [i for i in range(2008, 2021)],\n",
    "            patch_artist=True,\n",
    "            showmeans=True,\n",
    "            boxprops = {'color':'black','facecolor':'#1E90FF'},\n",
    "            showfliers = False,\n",
    "            meanprops = {'marker':'o','markerfacecolor':'red','color':'black'},\n",
    "            medianprops = {'linestyle':'--','color':'black'},\n",
    "            positions=pos)\n",
    "plt.plot(pos,mean_year,color='red')\n",
    "plt.grid()\n",
    "plt.ylabel('Code Reuse Ratio (unit: %)')\n",
    "plt.xlabel(\"Time\")\n",
    "plt.xticks(rotation=45)\n",
    "\n",
    "plt.show()"
   ],
   "metadata": {
    "collapsed": false,
    "pycharm": {
     "name": "#%%\n"
    }
   }
  },
  {
   "cell_type": "code",
   "execution_count": 6,
   "outputs": [
    {
     "data": {
      "text/plain": "13"
     },
     "execution_count": 6,
     "metadata": {},
     "output_type": "execute_result"
    }
   ],
   "source": [
    "len(year_info)"
   ],
   "metadata": {
    "collapsed": false,
    "pycharm": {
     "name": "#%%\n"
    }
   }
  },
  {
   "cell_type": "code",
   "execution_count": 7,
   "outputs": [
    {
     "data": {
      "text/plain": "[0.0,\n 1.0776238496452875,\n 1.1225483448368931,\n 2.7634768397886185,\n 5.158613150809979,\n 6.565639677259851,\n 6.506394432729098,\n 6.59944086474316,\n 7.859326568483938,\n 7.494368134361726,\n 7.86091248259049,\n 6.890769096711361,\n 8.403048135940825]"
     },
     "execution_count": 7,
     "metadata": {},
     "output_type": "execute_result"
    }
   ],
   "source": [
    "mean_year"
   ],
   "metadata": {
    "collapsed": false,
    "pycharm": {
     "name": "#%%\n"
    }
   }
  },
  {
   "cell_type": "code",
   "execution_count": 12,
   "outputs": [
    {
     "data": {
      "text/plain": "(8.403048135940825, 5.254012429069325)"
     },
     "execution_count": 12,
     "metadata": {},
     "output_type": "execute_result"
    }
   ],
   "source": [
    "import numpy as np\n",
    "max(mean_year),np.mean(mean_year)"
   ],
   "metadata": {
    "collapsed": false,
    "pycharm": {
     "name": "#%%\n"
    }
   }
  },
  {
   "cell_type": "code",
   "execution_count": 62,
   "outputs": [],
   "source": [],
   "metadata": {
    "collapsed": false,
    "pycharm": {
     "name": "#%%\n"
    }
   }
  },
  {
   "cell_type": "code",
   "execution_count": 31,
   "outputs": [],
   "source": [
    "year_info = []\n",
    "\n",
    "for i in range(2001, 2021):\n",
    "    year_info.append(new_df[str(i)].to_list())\n"
   ],
   "metadata": {
    "collapsed": false,
    "pycharm": {
     "name": "#%%\n"
    }
   }
  },
  {
   "cell_type": "code",
   "execution_count": 45,
   "outputs": [
    {
     "data": {
      "text/plain": "[0.0,\n 0.0,\n 0.0,\n 37.5,\n 0.0,\n 0.0,\n 40.0,\n 2.5974025974025974,\n 16.666666666666664,\n 0.0,\n 0.0,\n 20.0,\n 2.564102564102564,\n 14.285714285714285,\n 50.0,\n 0.0,\n 0.0,\n 15.384615384615385,\n 0.0,\n 0.0,\n 0.0,\n 0.0,\n 0.0,\n 0.0,\n 0.0,\n 0.0,\n 12.5,\n 0.0,\n 7.4074074074074066,\n 0.0,\n 0.0,\n 0.0,\n 0.0,\n 0.0,\n 6.666666666666667,\n 8.333333333333332,\n 0.0,\n 0.0,\n 0.0,\n 0.0,\n 6.349206349206349,\n 0.0,\n 0.0,\n 0.0,\n 0.0,\n 0.0,\n 0.0,\n 3.1746031746031744,\n 6.666666666666667,\n 0.0,\n 0.0,\n 3.4482758620689653,\n 0.0,\n 8.078231292517007,\n 0.0,\n 0.0,\n 0.0,\n 0.0,\n 0.0,\n 12.5,\n 0.0,\n 0.0,\n 0.0,\n 0.0,\n 25.0,\n 0.0,\n 0.0,\n 0.0,\n 0.0,\n 6.666666666666667,\n 1.1764705882352942,\n 0.0,\n 0.0,\n 0.0,\n 0.0,\n 0.0,\n 4.444444444444445,\n 0.0,\n 3.8095238095238098,\n 0.0,\n 20.0,\n 36.666666666666664,\n 0.0,\n 0.6993006993006993,\n 0.0,\n 0.0,\n 0.0,\n 0.0,\n 0.0,\n 16.43835616438356,\n 27.302631578947366,\n 8.333333333333332,\n 0.0,\n 2.941176470588235,\n 14.285714285714285,\n 0.0,\n 0.0,\n 50.0,\n 0.0,\n 0.0,\n 0.0,\n 0.0,\n 0.0,\n 0.0,\n 0.0,\n 8.0,\n 9.67741935483871,\n 3.1578947368421053,\n 0.0,\n 20.0,\n 0.0,\n 0.0,\n 7.8125,\n 8.823529411764707,\n 50.0,\n 0.0,\n 7.086614173228346,\n 0.0,\n 0.0,\n 0.0,\n 0.0,\n 0.0,\n 0.0,\n 9.290187891440501,\n 33.33333333333333,\n 0.0,\n 25.0,\n 20.454545454545457,\n 0.0,\n 0.0,\n 0.0,\n 0.0,\n 0.0,\n 0.0,\n 0.0,\n 7.142857142857142,\n 9.090909090909092,\n 0.0,\n 0.0,\n 0.0,\n 0.0,\n 0.0,\n 0.0,\n 21.428571428571427,\n 0.0,\n 0.0,\n 0.0,\n 0.0,\n 6.25,\n 4.0,\n 0.0,\n 0.0,\n 19.230769230769234,\n 0.0,\n 16.666666666666664,\n 0.0,\n 0.0,\n 0.0,\n 0.0,\n 0.0,\n 0.0,\n 0.0,\n 0.0,\n 14.285714285714285,\n 0.0,\n 23.809523809523807,\n 0.0,\n 0.0,\n 0.0,\n 0.0,\n 0.0,\n 5.0,\n 0.0,\n 12.5,\n 0.0,\n 0.0,\n 0.0,\n 0.0,\n 4.718217562254259,\n 100.0,\n 0.0,\n 0.0,\n 0.0,\n 6.666666666666667,\n 0.0,\n 20.930232558139537,\n 0.0,\n 0.0,\n 0.0,\n 0.0,\n 0.0,\n 20.0,\n 1.4925373134328357,\n 0.0,\n 20.0,\n 6.451612903225806,\n 0.0,\n 0.0,\n 0.0,\n 6.349206349206349,\n 0.0,\n 0.0,\n 0.0,\n 7.2727272727272725,\n 0.0,\n 0.0,\n 0.0,\n 3.404255319148936,\n 0.0,\n 11.25,\n 18.6046511627907,\n 14.285714285714285,\n 0.0,\n 0.0,\n 2.631578947368421,\n 11.11111111111111,\n 0.0,\n 0.0,\n 3.4482758620689653,\n 0.7407407407407408,\n 3.4482758620689653,\n 7.246376811594203,\n 5.491698595146871,\n 0.0,\n 0.0,\n 0.0,\n 0.0,\n 7.6923076923076925,\n 5.729166666666666,\n 25.0,\n 0.0,\n 6.140350877192982,\n 0.0,\n 0.0,\n 0.0,\n 0.0,\n 0.0,\n 0.0,\n 11.11111111111111,\n 0.0,\n 0.0,\n 0.0,\n 0.0,\n 0.0,\n 11.904761904761903,\n 0.0,\n 0.0,\n 0.0,\n 0.0,\n 20.0,\n 0.0,\n 0.0,\n 0.0,\n 0.0,\n 0.0,\n 0.0,\n 0.0,\n 0.0,\n 0.0,\n 28.57142857142857,\n 0.0,\n 7.6923076923076925,\n 0.0,\n 0.0,\n 42.5,\n 7.142857142857142,\n 6.666666666666667,\n 0.0,\n 40.0,\n 0.0,\n 0.0,\n 17.391304347826086,\n 0.0,\n 0.0,\n 50.0,\n 0.0,\n 4.743083003952568,\n 0.0,\n 3.7735849056603774,\n 0.9523809523809524,\n 0.0,\n 0.0,\n 0.0,\n 100.0,\n 0.0,\n 0.0,\n 5.0,\n 0.0,\n 0.0,\n 0.0,\n 0.0,\n 0.0,\n 0.0,\n 0.0,\n 0.0,\n 0.0,\n 9.75609756097561,\n 0.0,\n 0.0,\n 25.0,\n 0.0,\n 0.0,\n 0.0,\n 3.571428571428571,\n 0.0,\n 1.7142857142857144,\n 13.333333333333334,\n 9.666233203294322,\n 0.0,\n 3.896103896103896,\n 0.0,\n 0.0,\n 11.11111111111111,\n 0.0,\n 8.333333333333332,\n 0.0,\n 10.344827586206897,\n 0.0,\n 4.232804232804233,\n 0.0,\n 0.0,\n 0.0,\n 0.0,\n 0.0,\n 0.0,\n 0.0,\n 14.285714285714285,\n 0.0,\n 0.0,\n 0.0,\n 0.0,\n 0.0,\n 0.0,\n 8.333333333333332,\n 0.0,\n 1.4285714285714286,\n 0.0,\n 9.615384615384617,\n 50.0,\n 0.0,\n 0.0,\n 6.475111290975313,\n 18.26086956521739,\n 0.0,\n 0.0,\n 0.0,\n 3.3333333333333335,\n 0.0,\n 0.0,\n 4.3478260869565215,\n 7.4074074074074066,\n 0.0,\n 0.0,\n 10.526315789473683,\n 20.0,\n 10.56338028169014,\n 5.128205128205128,\n 0.0,\n 14.285714285714285,\n 0.0,\n 0.0,\n 10.344827586206897,\n 0.0,\n 0.0,\n 0.0,\n 0.0,\n 0.0,\n 1.1764705882352942,\n 0.0,\n 0.0,\n 0.0,\n 0.0,\n 0.0,\n 5.7324840764331215,\n 0.0,\n 6.234413965087282,\n 8.0,\n 0.0,\n 3.488372093023256,\n 0.0,\n 0.0,\n 0.0,\n 0.0,\n 11.11111111111111,\n 0.0,\n 0.0,\n 0.0,\n 28.57142857142857,\n 7.609254498714653,\n 9.958217270194986,\n 0.0,\n 7.291666666666667,\n 0.0,\n 7.579365079365079,\n 0.0,\n 6.181818181818182,\n 0.0,\n 0.0,\n 0.0,\n 7.766990291262135,\n 8.0,\n 3.875968992248062,\n 0.0,\n 0.0,\n 100.0,\n 0.0,\n 0.0,\n 0.0,\n 0.0,\n 6.666666666666667,\n 0.0,\n 0.0,\n 0.0,\n 0.0,\n 0.0,\n 0.0,\n 5.0,\n 0.0,\n 0.0,\n 0.0,\n 0.0,\n 15.625,\n 7.6923076923076925,\n 0.0,\n 50.0,\n 5.185185185185185,\n 0.0,\n 0.0,\n 0.0,\n 8.223684210526317,\n 0.0,\n 0.0,\n 0.0,\n 18.367346938775512,\n 17.647058823529413,\n 0.0,\n 8.333333333333332,\n 8.333333333333332,\n 0.0,\n 0.0,\n 0.0,\n 15.306122448979592,\n 0.0,\n 0.0,\n 0.0,\n 4.545454545454546,\n 0.0,\n 4.545454545454546,\n 0.0,\n 2.8846153846153846,\n 0.0,\n 0.0,\n 0.0,\n 3.125,\n 3.8461538461538463,\n 3.9215686274509802,\n 0.0,\n 0.0,\n 0.0,\n 0.0,\n 0.0,\n 0.0,\n 0.0,\n 0.0,\n 0.0,\n 0.0,\n 0.0,\n 0.0,\n 0.0,\n 0.0,\n 0.0,\n 0.0,\n 0.0,\n 0.0,\n 0.0,\n 0.0,\n 0.0,\n 0.0,\n 0.0,\n 0.0,\n 0.0,\n 0.0,\n 0.0,\n 0.0,\n 0.0,\n 0.0,\n 4.611650485436893,\n 0.0,\n 0.0,\n 0.0,\n 0.0,\n 1.0033444816053512,\n 0.0,\n 0.0,\n 6.46900269541779,\n 0.0,\n 0.0,\n 0.0,\n 0.0,\n 0.0,\n 0.0,\n 0.0,\n 0.0,\n 0.0,\n 0.0,\n 0.0,\n 0.0,\n 0.0,\n 0.0,\n 0.0,\n 0.0,\n 0.0,\n 0.0,\n 0.0,\n 0.0,\n 0.0,\n 0.0,\n 0.0,\n 0.0,\n 7.6923076923076925,\n 0.0,\n 0.0,\n 0.0,\n 0.0,\n 0.0,\n 0.0,\n 0.0,\n 0.0,\n 0.0,\n 0.0,\n 2.941176470588235,\n 0.0,\n 0.0,\n 0.0,\n 33.33333333333333,\n 0.0,\n 5.9430716296528,\n 0.0,\n 7.142857142857142,\n 0.0,\n 0.0,\n 0.0,\n 0.0,\n 0.0,\n 0.0,\n 0.0,\n 9.525521207764198,\n 0.0,\n 0.0,\n 0.0,\n 0.0,\n 0.0,\n 0.0,\n 0.0,\n 0.0,\n 0.0,\n 0.0,\n 0.0,\n 0.0,\n 0.0,\n 0.0,\n 0.0,\n 0.0,\n 0.0,\n 0.0,\n 0.0,\n 0.0,\n 0.0,\n 0.0,\n 0.0,\n 0.0,\n 0.0,\n 0.0,\n 0.0,\n 0.0,\n 0.0,\n 0.0,\n 0.0,\n 0.0,\n 0.0,\n 0.0,\n 0.0,\n 0.0,\n 0.0,\n 0.0,\n 0.0,\n 0.0,\n 0.0,\n 0.0,\n 0.0,\n 0.0,\n 0.0,\n 0.0,\n 0.0,\n 0.0,\n 0.0,\n 0.0,\n 0.0,\n 0.0,\n 0.0,\n 0.0,\n 0.0,\n 0.0,\n 0.0,\n 3.258547008547009,\n 0.0,\n 0.0,\n 0.0,\n 0.7963988919667591,\n 0.0,\n 0.0,\n 0.0,\n 0.0,\n 0.0,\n 0.0,\n 0.0,\n 0.0,\n 4.545454545454546,\n 0.0,\n 0.0,\n 0.0,\n 0.0,\n 0.0,\n 0.0,\n 0.0,\n 22.22222222222222,\n 0.0,\n 0.0,\n 0.0,\n 0.0,\n 0.0,\n 0.0,\n 0.0,\n 0.0,\n 0.0,\n 0.0,\n 9.895833333333332,\n 0.0,\n 0.0,\n 0.0,\n 0.0,\n 0.0,\n 0.0,\n 0.0,\n 0.0,\n 0.0,\n 0.0,\n 0.0,\n 0.0,\n 0.0,\n 0.0,\n 0.0,\n 0.0,\n 0.0,\n 10.651340996168582,\n 0.0,\n 0.0,\n 0.0,\n 0.0,\n 10.714285714285714,\n 0.0,\n 0.0,\n 0.0,\n 0.0,\n 0.0,\n 12.21403644823575,\n 0.0,\n 0.0,\n 0.0,\n 0.0,\n 0.0,\n 15.0,\n 0.0,\n 0.0,\n 0.0,\n 0.0,\n 0.0,\n 0.0,\n 0.0,\n 0.0,\n 0.0,\n 0.0,\n 0.0,\n 0.0,\n 100.0,\n 0.0,\n 0.0,\n 0.0,\n 0.0,\n 0.0,\n 0.0,\n 4.253544620517098,\n 0.0,\n 0.0,\n 0.0,\n 0.0,\n 0.0,\n 0.0,\n 2.780191138140747,\n 0.0,\n 0.0,\n 0.0,\n 0.0,\n 0.0,\n 0.0,\n 0.0,\n 0.0,\n 0.0,\n 0.0,\n 0.0,\n 0.0,\n 0.0,\n 0.0,\n 0.0,\n 0.0,\n 0.0,\n 0.0,\n 0.0,\n 0.0,\n 0.0,\n 0.0,\n 0.0,\n 0.0,\n 0.0,\n 0.0,\n 0.0,\n 0.0,\n 0.0,\n 0.0,\n 0.0,\n 0.0,\n 0.0,\n 0.0,\n 0.0,\n 0.0,\n 0.0,\n 0.0,\n 0.0,\n 0.0,\n 0.0,\n 0.0,\n 0.0,\n 0.0,\n 0.0,\n 0.0,\n 0.0,\n 0.0,\n 0.0,\n 0.0,\n 0.0,\n 0.0,\n 0.0,\n 0.0,\n 0.0,\n 0.0,\n 0.0,\n 7.386363636363637,\n 0.0,\n 0.0,\n 0.0,\n 7.6923076923076925,\n 0.0,\n 0.0,\n 2.595758151313707,\n 21.428571428571427,\n 0.0,\n 0.0,\n 0.0,\n 0.0,\n 0.0,\n 0.0,\n 0.0,\n 0.0,\n 0.0,\n 0.0,\n 0.0,\n 0.0,\n 0.0,\n 0.0,\n 0.0,\n 0.0,\n 9.271249483399917,\n 0.0,\n 0.0,\n 0.0,\n 0.0,\n 0.0,\n 0.0,\n 0.0,\n 0.0,\n 0.0,\n 1.8867924528301887,\n 10.666666666666668]"
     },
     "execution_count": 45,
     "metadata": {},
     "output_type": "execute_result"
    }
   ],
   "source": [
    "year_info[-1]"
   ],
   "metadata": {
    "collapsed": false,
    "pycharm": {
     "name": "#%%\n"
    }
   }
  },
  {
   "cell_type": "code",
   "execution_count": 62,
   "outputs": [
    {
     "data": {
      "text/plain": "13"
     },
     "execution_count": 62,
     "metadata": {},
     "output_type": "execute_result"
    }
   ],
   "source": [
    "len([i for i in range(2008, 2021)])\n"
   ],
   "metadata": {
    "collapsed": false,
    "pycharm": {
     "name": "#%%\n"
    }
   }
  },
  {
   "cell_type": "code",
   "execution_count": 76,
   "outputs": [
    {
     "data": {
      "text/plain": "[0.0,\n 0.0,\n 0.0,\n 0.0,\n 0.0,\n 11.224489795918368,\n 6.25,\n 0.0,\n 9.375,\n 15.730337078651685,\n 0.0,\n 4.918032786885246,\n 0.0,\n 2.631578947368421,\n 25.0,\n 0.0,\n 30.412371134020617,\n 0.0,\n 0.0,\n 3.1578947368421053,\n 9.090909090909092,\n 0.0,\n 4.6875,\n 12.121212121212121,\n 0.0,\n 0.0,\n 42.857142857142854,\n 4.3478260869565215,\n 6.666666666666667,\n 0.0,\n 0.0,\n 16.216216216216218,\n 11.538461538461538,\n 3.061224489795918,\n 0.0,\n 7.6923076923076925,\n 7.042253521126761,\n 0.0,\n 5.087014725568943,\n 0.0,\n 0.0,\n 1.8518518518518516,\n 10.948140387637507,\n 2.4390243902439024,\n 0.0,\n 20.0,\n 3.9893617021276597,\n 15.517241379310345,\n 0.0,\n 3.8461538461538463,\n 0.0,\n 1.0752688172043012,\n 9.090909090909092,\n 0.0,\n 0.0,\n 10.465116279069768,\n 4.913294797687861,\n 0.0,\n 8.91089108910891,\n 10.526315789473683,\n 0.0,\n 6.25,\n 10.526315789473683,\n 0.0,\n 4.838709677419355,\n 23.076923076923077,\n 10.714285714285714,\n 0.0,\n 7.6923076923076925,\n 0.0,\n 5.660377358490567,\n 5.128205128205128,\n 0.0,\n 10.42128603104213,\n 0.0,\n 7.0588235294117645,\n 8.333333333333332,\n 4.411764705882353,\n 5.88235294117647,\n 0.0,\n 0.0,\n 0.0,\n 2.857142857142857,\n 12.121212121212121,\n 7.142857142857142,\n 0.0,\n 6.25,\n 0.0,\n 16.666666666666664,\n 0.0,\n 0.0,\n 0.0,\n 0.0,\n 0.0,\n 4.761904761904762,\n 8.695652173913043,\n 14.85148514851485,\n 0.0,\n 0.0,\n 0.0,\n 0.0,\n 0.9009009009009009,\n 0.0,\n 6.451612903225806,\n 0.0,\n 2.857142857142857,\n 6.948640483383686,\n 1.5151515151515151,\n 1.7857142857142856,\n 5.524861878453039,\n 0.0,\n 0.0,\n 0.0,\n 6.642066420664207,\n 33.33333333333333,\n 5.263157894736842,\n 0.0,\n 0.0,\n 10.0,\n 0.0,\n 0.0,\n 0.0,\n 3.4782608695652173,\n 0.0,\n 10.0,\n 0.0,\n 0.0,\n 9.701492537313433,\n 25.0,\n 9.375,\n 20.0,\n 0.0,\n 3.624733475479744,\n 5.555555555555555,\n 5.8679706601467,\n 0.0,\n 2.4875621890547266,\n 0.0,\n 25.0,\n 0.0,\n 2.033271719038817,\n 11.811023622047244,\n 17.159763313609467,\n 0.0,\n 0.0,\n 1.0204081632653061,\n 0.0,\n 5.511811023622047,\n 5.633802816901409,\n 0.0,\n 0.0,\n 7.741935483870968,\n 0.0,\n 0.0,\n 9.375,\n 20.27972027972028,\n 2.272727272727273,\n 17.391304347826086,\n 5.970149253731343,\n 4.132231404958678,\n 0.0,\n 5.263157894736842,\n 0.0,\n 0.0,\n 60.0,\n 3.1553398058252426,\n 22.727272727272727,\n 10.256410256410255,\n 0.0,\n 17.045454545454543,\n 9.090909090909092,\n 0.0,\n 0.0,\n 13.114754098360656,\n 0.0,\n 0.0,\n 75.0,\n 0.0,\n 4.964539007092199,\n 0.0,\n 4.395604395604396,\n 8.333333333333332,\n 0.0,\n 1.9417475728155338,\n 0.0,\n 2.277904328018223,\n 0.0,\n 0.0,\n 5.88235294117647,\n 0.0,\n 0.0,\n 3.9215686274509802,\n 0.0,\n 5.555555555555555,\n 3.1088082901554404,\n 11.612903225806452,\n 24.81203007518797,\n 10.768630511119781,\n 10.0,\n 1.5384615384615385,\n 6.8181818181818175,\n 12.5,\n 4.651162790697675,\n 0.0,\n 2.4193548387096775,\n 0.0,\n 7.246376811594203,\n 2.4390243902439024,\n 0.0,\n 10.0,\n 0.0,\n 0.0,\n 19.444444444444446,\n 0.0,\n 12.745098039215685,\n 2.941176470588235,\n 0.0,\n 10.0,\n 7.142857142857142,\n 0.0,\n 7.142857142857142,\n 0.0,\n 5.88235294117647,\n 2.380952380952381,\n 0.0,\n 10.0,\n 40.0,\n 0.0,\n 16.666666666666664,\n 0.0,\n 0.0,\n 1.2048192771084338,\n 0.0,\n 7.191780821917808,\n 12.5,\n 0.0,\n 27.536231884057973,\n 0.0,\n 0.0,\n 0.0,\n 1.0204081632653061,\n 1.9230769230769231,\n 5.932203389830509,\n 7.598784194528875,\n 1.1764705882352942,\n 0.0,\n 0.0,\n 0.0,\n 0.0,\n 0.0,\n 4.225352112676056,\n 3.918774492340577,\n 5.05050505050505,\n 4.761904761904762,\n 12.605042016806722,\n 8.016304347826086,\n 7.514450867052023,\n 0.0,\n 6.521739130434782,\n 0.0,\n 0.0,\n 0.0,\n 0.0,\n 0.0,\n 0.0,\n 10.72961373390558,\n 0.0,\n 6.521739130434782,\n 12.5,\n 10.0,\n 2.2222222222222223,\n 10.745891276864729,\n 66.66666666666666,\n 0.0,\n 0.0,\n 5.6558363417569195,\n 0.0,\n 0.0,\n 10.0,\n 10.0,\n 4.6938775510204085,\n 16.666666666666664,\n 50.0,\n 13.071895424836603,\n 7.4074074074074066,\n 8.264462809917356,\n 0.0,\n 9.090909090909092,\n 2.941176470588235,\n 3.896103896103896,\n 6.451612903225806,\n 14.349775784753364,\n 0.0,\n 0.0,\n 0.0,\n 50.0,\n 4.74537037037037,\n 2.998065764023211,\n 0.0,\n 5.993690851735016,\n 0.0,\n 100.0,\n 0.0,\n 0.0,\n 0.0,\n 0.0,\n 0.0,\n 0.0,\n 0.0,\n 21.428571428571427,\n 0.0,\n 100.0,\n 5.714285714285714,\n 6.875000000000001,\n 0.0,\n 5.0,\n 0.0,\n 0.0,\n 0.0,\n 0.0,\n 21.73913043478261,\n 0.0,\n 0.0,\n 11.11111111111111,\n 0.0,\n 0.0,\n 0.0,\n 0.0,\n 0.0,\n 25.0,\n 0.0,\n 0.0,\n 0.0,\n 0.0,\n 0.0,\n 0.0,\n 0.0,\n 0.0,\n 0.0,\n 0.0,\n 0.0,\n 0.0,\n 21.84311224489796,\n 0.0,\n 33.33333333333333,\n 0.0,\n 14.285714285714285,\n 0.0,\n 0.0,\n 50.0,\n 50.0,\n 0.0,\n 0.0,\n 26.666666666666668,\n 10.0,\n 0.0,\n 0.0,\n 0.0,\n 100.0,\n 0.0,\n 0.0,\n 37.5,\n 0.0,\n 0.0,\n 0.0,\n 50.0,\n 0.0,\n 40.0,\n 8.0,\n 0.0,\n 4.659014179608373,\n 0.0,\n 10.526315789473683,\n 33.33333333333333,\n 0.0,\n 4.545454545454546,\n 9.090909090909092]"
     },
     "execution_count": 76,
     "metadata": {},
     "output_type": "execute_result"
    }
   ],
   "source": [
    "new_df['2019'].dropna().to_list()"
   ],
   "metadata": {
    "collapsed": false,
    "pycharm": {
     "name": "#%%\n"
    }
   }
  },
  {
   "cell_type": "code",
   "execution_count": 0,
   "outputs": [],
   "source": [],
   "metadata": {
    "collapsed": false,
    "pycharm": {
     "name": "#%%\n"
    }
   }
  },
  {
   "cell_type": "code",
   "execution_count": null,
   "outputs": [],
   "source": [
    "\n"
   ],
   "metadata": {
    "collapsed": false,
    "pycharm": {
     "name": "#%%\n"
    }
   }
  }
 ],
 "metadata": {
  "kernelspec": {
   "display_name": "Python 3",
   "language": "python",
   "name": "python3"
  },
  "language_info": {
   "codemirror_mode": {
    "name": "ipython",
    "version": 2
   },
   "file_extension": ".py",
   "mimetype": "text/x-python",
   "name": "python",
   "nbconvert_exporter": "python",
   "pygments_lexer": "ipython2",
   "version": "2.7.6"
  }
 },
 "nbformat": 4,
 "nbformat_minor": 0
}