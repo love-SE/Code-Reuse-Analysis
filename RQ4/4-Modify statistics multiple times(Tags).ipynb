{
 "cells": [
  {
   "cell_type": "code",
   "execution_count": 1,
   "outputs": [],
   "source": [
    "from datetime import datetime\n",
    "import time\n",
    "import os\n",
    "from tqdm import tqdm\n",
    "import pandas as pd\n",
    "import re\n",
    "import matplotlib.pyplot as plt\n"
   ],
   "metadata": {
    "collapsed": false,
    "pycharm": {
     "name": "#%%\n"
    }
   }
  },
  {
   "cell_type": "code",
   "execution_count": 2,
   "outputs": [
    {
     "name": "stdout",
     "output_type": "stream",
     "text": [
      "<class 'pandas.core.frame.DataFrame'>\n",
      "RangeIndex: 1516 entries, 0 to 1515\n",
      "Data columns (total 8 columns):\n",
      " #   Column         Non-Null Count  Dtype  \n",
      "---  ------         --------------  -----  \n",
      " 0   Unnamed: 0     1516 non-null   int64  \n",
      " 1   CreationDate   1516 non-null   object \n",
      " 2   Title          1516 non-null   object \n",
      " 3   Tags           1516 non-null   object \n",
      " 4   Score          1516 non-null   int64  \n",
      " 5   AnswerCount    1516 non-null   int64  \n",
      " 6   CommentCount   1516 non-null   int64  \n",
      " 7   FavoriteCount  324 non-null    float64\n",
      "dtypes: float64(1), int64(4), object(3)\n",
      "memory usage: 94.9+ KB\n"
     ]
    },
    {
     "data": {
      "text/plain": "   Unnamed: 0             CreationDate  \\\n0           0  2018-08-06T01:49:50.053   \n1           1  2020-06-03T22:22:59.580   \n\n                                               Title  \\\n0  Inconsistency in Java's compareTo method on St...   \n1  Unable To Access Jar Published To Maven Centra...   \n\n                                        Tags  Score  AnswerCount  \\\n0                            java comparator      0            0   \n1  java maven jar maven-plugin maven-central      0            0   \n\n   CommentCount  FavoriteCount  \n0             3            NaN  \n1             4            NaN  ",
      "text/html": "<div>\n<style scoped>\n    .dataframe tbody tr th:only-of-type {\n        vertical-align: middle;\n    }\n\n    .dataframe tbody tr th {\n        vertical-align: top;\n    }\n\n    .dataframe thead th {\n        text-align: right;\n    }\n</style>\n<table border=\"1\" class=\"dataframe\">\n  <thead>\n    <tr style=\"text-align: right;\">\n      <th></th>\n      <th>Unnamed: 0</th>\n      <th>CreationDate</th>\n      <th>Title</th>\n      <th>Tags</th>\n      <th>Score</th>\n      <th>AnswerCount</th>\n      <th>CommentCount</th>\n      <th>FavoriteCount</th>\n    </tr>\n  </thead>\n  <tbody>\n    <tr>\n      <th>0</th>\n      <td>0</td>\n      <td>2018-08-06T01:49:50.053</td>\n      <td>Inconsistency in Java's compareTo method on St...</td>\n      <td>java comparator</td>\n      <td>0</td>\n      <td>0</td>\n      <td>3</td>\n      <td>NaN</td>\n    </tr>\n    <tr>\n      <th>1</th>\n      <td>1</td>\n      <td>2020-06-03T22:22:59.580</td>\n      <td>Unable To Access Jar Published To Maven Centra...</td>\n      <td>java maven jar maven-plugin maven-central</td>\n      <td>0</td>\n      <td>0</td>\n      <td>4</td>\n      <td>NaN</td>\n    </tr>\n  </tbody>\n</table>\n</div>"
     },
     "execution_count": 2,
     "metadata": {},
     "output_type": "execute_result"
    }
   ],
   "source": [
    "bug_df = pd.read_csv('./Modify various indicators of posts that have been reused multiple times.txt')\n",
    "bug_df.info()\n",
    "bug_df.head(2)"
   ],
   "metadata": {
    "collapsed": false,
    "pycharm": {
     "name": "#%%\n"
    }
   }
  },
  {
   "cell_type": "code",
   "execution_count": 3,
   "outputs": [
    {
     "name": "stdout",
     "output_type": "stream",
     "text": [
      "<class 'pandas.core.frame.DataFrame'>\n",
      "RangeIndex: 1355616 entries, 0 to 1355615\n",
      "Data columns (total 7 columns):\n",
      " #   Column         Non-Null Count    Dtype  \n",
      "---  ------         --------------    -----  \n",
      " 0   CreationDate   1355616 non-null  object \n",
      " 1   Title          1355614 non-null  object \n",
      " 2   Tags           1355616 non-null  object \n",
      " 3   Score          1355616 non-null  int64  \n",
      " 4   AnswerCount    1355616 non-null  int64  \n",
      " 5   CommentCount   1355616 non-null  int64  \n",
      " 6   FavoriteCount  306473 non-null   float64\n",
      "dtypes: float64(1), int64(3), object(3)\n",
      "memory usage: 72.4+ MB\n"
     ]
    },
    {
     "data": {
      "text/plain": "              CreationDate                                              Title  \\\n0  2008-08-01T16:10:30.337  How would you access Object properties from wi...   \n1  2008-08-02T08:58:27.540  What is the meaning of the type safety warning...   \n\n                                         Tags  Score  AnswerCount  \\\n0                         java php oop theory     97           18   \n1  java generics warnings casting type-safety     75            1   \n\n   CommentCount  FavoriteCount  \n0             0            6.0  \n1             1            9.0  ",
      "text/html": "<div>\n<style scoped>\n    .dataframe tbody tr th:only-of-type {\n        vertical-align: middle;\n    }\n\n    .dataframe tbody tr th {\n        vertical-align: top;\n    }\n\n    .dataframe thead th {\n        text-align: right;\n    }\n</style>\n<table border=\"1\" class=\"dataframe\">\n  <thead>\n    <tr style=\"text-align: right;\">\n      <th></th>\n      <th>CreationDate</th>\n      <th>Title</th>\n      <th>Tags</th>\n      <th>Score</th>\n      <th>AnswerCount</th>\n      <th>CommentCount</th>\n      <th>FavoriteCount</th>\n    </tr>\n  </thead>\n  <tbody>\n    <tr>\n      <th>0</th>\n      <td>2008-08-01T16:10:30.337</td>\n      <td>How would you access Object properties from wi...</td>\n      <td>java php oop theory</td>\n      <td>97</td>\n      <td>18</td>\n      <td>0</td>\n      <td>6.0</td>\n    </tr>\n    <tr>\n      <th>1</th>\n      <td>2008-08-02T08:58:27.540</td>\n      <td>What is the meaning of the type safety warning...</td>\n      <td>java generics warnings casting type-safety</td>\n      <td>75</td>\n      <td>1</td>\n      <td>1</td>\n      <td>9.0</td>\n    </tr>\n  </tbody>\n</table>\n</div>"
     },
     "execution_count": 3,
     "metadata": {},
     "output_type": "execute_result"
    }
   ],
   "source": [
    "non_bug_df = pd.read_csv('./all post/so details.txt')\n",
    "non_bug_df.info()\n",
    "non_bug_df.head(2)\n",
    "\n"
   ],
   "metadata": {
    "collapsed": false,
    "pycharm": {
     "name": "#%%\n"
    }
   }
  },
  {
   "cell_type": "code",
   "execution_count": 4,
   "outputs": [],
   "source": [
    "df_list = [bug_df, non_bug_df]\n",
    "Tags = [[],[]]\n",
    "for idx, temp_df in enumerate(df_list):\n",
    "    for i in range(len(temp_df)):\n",
    "        Tags[idx].extend(temp_df['Tags'][i].split(' '))\n",
    "\n"
   ],
   "metadata": {
    "collapsed": false,
    "pycharm": {
     "name": "#%%\n"
    }
   }
  },
  {
   "cell_type": "code",
   "execution_count": 5,
   "outputs": [],
   "source": [
    "tag_dict_list = [dict(),dict()]\n",
    "for idx, tag in enumerate(Tags):\n",
    "    for t in tag:\n",
    "        if t in tag_dict_list[idx].keys():\n",
    "            tag_dict_list[idx][t] += 1\n",
    "        else:\n",
    "            tag_dict_list[idx][t] = 0\n"
   ],
   "metadata": {
    "collapsed": false,
    "pycharm": {
     "name": "#%%\n"
    }
   }
  },
  {
   "cell_type": "code",
   "execution_count": 6,
   "outputs": [],
   "source": [
    "tag_dict1, tag_dict2 = tag_dict_list\n"
   ],
   "metadata": {
    "collapsed": false,
    "pycharm": {
     "name": "#%%\n"
    }
   }
  },
  {
   "cell_type": "code",
   "execution_count": 7,
   "outputs": [
    {
     "data": {
      "text/plain": "[('android', 223),\n ('spring', 98),\n ('swing', 57),\n ('hibernate', 44),\n ('maven', 42),\n ('json', 42),\n ('spring-boot', 37),\n ('multithreading', 36),\n ('jpa', 32)]"
     },
     "execution_count": 7,
     "metadata": {},
     "output_type": "execute_result"
    }
   ],
   "source": [
    "sorted(tag_dict1.items(), key=lambda x: x[1],reverse=True)[1:10]\n"
   ],
   "metadata": {
    "collapsed": false,
    "pycharm": {
     "name": "#%%\n"
    }
   }
  },
  {
   "cell_type": "code",
   "execution_count": 8,
   "outputs": [
    {
     "data": {
      "text/plain": "[('android', 213686),\n ('spring', 92221),\n ('swing', 58541),\n ('hibernate', 45877),\n ('arrays', 43032),\n ('spring-boot', 42895),\n ('eclipse', 34584),\n ('json', 32633),\n ('maven', 31371)]"
     },
     "execution_count": 8,
     "metadata": {},
     "output_type": "execute_result"
    }
   ],
   "source": [
    "sorted(tag_dict2.items(), key=lambda x: x[1],reverse=True)[1:10]\n",
    "\n"
   ],
   "metadata": {
    "collapsed": false,
    "pycharm": {
     "name": "#%%\n"
    }
   }
  },
  {
   "cell_type": "code",
   "execution_count": 8,
   "outputs": [],
   "source": [],
   "metadata": {
    "collapsed": false,
    "pycharm": {
     "name": "#%%\n"
    }
   }
  },
  {
   "cell_type": "code",
   "execution_count": 11,
   "outputs": [],
   "source": [],
   "metadata": {
    "collapsed": false,
    "pycharm": {
     "name": "#%%\n"
    }
   }
  },
  {
   "cell_type": "code",
   "execution_count": 1,
   "outputs": [],
   "source": [],
   "metadata": {
    "collapsed": false,
    "pycharm": {
     "name": "#%%\n"
    }
   }
  },
  {
   "cell_type": "code",
   "execution_count": 1,
   "outputs": [],
   "source": [],
   "metadata": {
    "collapsed": false,
    "pycharm": {
     "name": "#%%\n"
    }
   }
  },
  {
   "cell_type": "code",
   "execution_count": 1,
   "outputs": [],
   "source": [],
   "metadata": {
    "collapsed": false,
    "pycharm": {
     "name": "#%%\n"
    }
   }
  },
  {
   "cell_type": "code",
   "execution_count": 1,
   "outputs": [],
   "source": [],
   "metadata": {
    "collapsed": false,
    "pycharm": {
     "name": "#%%\n"
    }
   }
  },
  {
   "cell_type": "code",
   "execution_count": 1,
   "outputs": [],
   "source": [],
   "metadata": {
    "collapsed": false,
    "pycharm": {
     "name": "#%%\n"
    }
   }
  },
  {
   "cell_type": "code",
   "execution_count": 1,
   "outputs": [],
   "source": [],
   "metadata": {
    "collapsed": false,
    "pycharm": {
     "name": "#%%\n"
    }
   }
  },
  {
   "cell_type": "code",
   "execution_count": 1,
   "outputs": [],
   "source": [],
   "metadata": {
    "collapsed": false,
    "pycharm": {
     "name": "#%%\n"
    }
   }
  },
  {
   "cell_type": "code",
   "execution_count": 1,
   "outputs": [],
   "source": [],
   "metadata": {
    "collapsed": false,
    "pycharm": {
     "name": "#%%\n"
    }
   }
  },
  {
   "cell_type": "code",
   "execution_count": 1,
   "outputs": [],
   "source": [],
   "metadata": {
    "collapsed": false,
    "pycharm": {
     "name": "#%%\n"
    }
   }
  },
  {
   "cell_type": "code",
   "execution_count": 1,
   "outputs": [],
   "source": [],
   "metadata": {
    "collapsed": false,
    "pycharm": {
     "name": "#%%\n"
    }
   }
  },
  {
   "cell_type": "code",
   "execution_count": 1,
   "outputs": [],
   "source": [],
   "metadata": {
    "collapsed": false,
    "pycharm": {
     "name": "#%%\n"
    }
   }
  },
  {
   "cell_type": "code",
   "execution_count": null,
   "outputs": [],
   "source": [
    "\n"
   ],
   "metadata": {
    "collapsed": false,
    "pycharm": {
     "name": "#%%\n"
    }
   }
  }
 ],
 "metadata": {
  "kernelspec": {
   "display_name": "Python 3",
   "language": "python",
   "name": "python3"
  },
  "language_info": {
   "codemirror_mode": {
    "name": "ipython",
    "version": 2
   },
   "file_extension": ".py",
   "mimetype": "text/x-python",
   "name": "python",
   "nbconvert_exporter": "python",
   "pygments_lexer": "ipython2",
   "version": "2.7.6"
  }
 },
 "nbformat": 4,
 "nbformat_minor": 0
}