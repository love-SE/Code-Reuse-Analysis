{
 "cells": [
  {
   "cell_type": "code",
   "execution_count": 1,
   "outputs": [],
   "source": [
    "from datetime import datetime\n",
    "import time\n",
    "import os\n",
    "from tqdm import tqdm\n",
    "import pandas as pd\n",
    "import re\n",
    "import matplotlib.pyplot as plt\n",
    "import numpy as np\n",
    "\n"
   ],
   "metadata": {
    "collapsed": false,
    "pycharm": {
     "name": "#%%\n"
    }
   }
  },
  {
   "cell_type": "code",
   "execution_count": 6,
   "outputs": [],
   "source": [],
   "metadata": {
    "collapsed": false,
    "pycharm": {
     "name": "#%%\n"
    }
   }
  },
  {
   "cell_type": "code",
   "execution_count": 11,
   "outputs": [],
   "source": [
    "so_post = '//CreationDate = 2019-01-15T05:49:12.343//Tags = <java><jtable><rowfilter>//Score = 1//Title = How to print specific Column values of the filtered Row//AnswerCount = 0//CommentCount = 0\\n'\n",
    "\n",
    "\n",
    "\n",
    "\n"
   ],
   "metadata": {
    "collapsed": false,
    "pycharm": {
     "name": "#%%\n"
    }
   }
  },
  {
   "cell_type": "code",
   "execution_count": 12,
   "outputs": [
    {
     "name": "stdout",
     "output_type": "stream",
     "text": [
      "file nums:  5217\n"
     ]
    },
    {
     "data": {
      "text/plain": "['code_0.java',\n 'code_1.java',\n 'code_10.java',\n 'code_100.java',\n 'code_1000.java']"
     },
     "execution_count": 12,
     "metadata": {},
     "output_type": "execute_result"
    }
   ],
   "source": [
    "file_list = os.listdir('D:/CCFinder/CodeData/')\n",
    "print('file nums: ', len(file_list))\n",
    "file_list[:5]"
   ],
   "metadata": {
    "collapsed": false,
    "pycharm": {
     "name": "#%%\n"
    }
   }
  },
  {
   "cell_type": "code",
   "execution_count": 13,
   "outputs": [
    {
     "name": "stderr",
     "output_type": "stream",
     "text": [
      " 70%|██████▉   | 3638/5217 [00:35<00:15, 103.02it/s]\n"
     ]
    },
    {
     "name": "stdout",
     "output_type": "stream",
     "text": [
      "code_4272.java\n"
     ]
    }
   ],
   "source": [
    "flag = False\n",
    "for file in tqdm(file_list):\n",
    "    with open('D:/CCFinder/CodeData/'+file, 'r',encoding='utf-8') as f:\n",
    "        lines = f.readlines()\n",
    "        for line in lines:\n",
    "            if line==so_post:\n",
    "                flag = True\n",
    "                print(file)\n",
    "                break\n",
    "    if flag==True:\n",
    "        break\n",
    "\n"
   ],
   "metadata": {
    "collapsed": false,
    "pycharm": {
     "name": "#%%\n"
    }
   }
  },
  {
   "cell_type": "code",
   "execution_count": null,
   "outputs": [],
   "source": [],
   "metadata": {
    "collapsed": false,
    "pycharm": {
     "name": "#%%\n",
     "is_executing": true
    }
   }
  },
  {
   "cell_type": "code",
   "execution_count": null,
   "outputs": [],
   "source": [],
   "metadata": {
    "collapsed": false,
    "pycharm": {
     "name": "#%%\n",
     "is_executing": true
    }
   }
  },
  {
   "cell_type": "markdown",
   "source": [
    "# Find classes that have been modified multiple times\n",
    "# 'javassist-StringL.java'\n",
    "\n",
    "# 'linuxdeploy-AppCompatPreferenceActivity.java'\n",
    "\n",
    "\n",
    "# 'junit4-TextListener.java'\n",
    "\n",
    "# 'maxwell-StringColumnDef.java'\n",
    "\n",
    "# 'dubbo-LoggerAdapterTest.java'"
   ],
   "metadata": {
    "collapsed": false,
    "pycharm": {
     "name": "#%% md\n",
     "is_executing": true
    }
   }
  },
  {
   "cell_type": "code",
   "execution_count": 24,
   "outputs": [],
   "source": [
    "path = 'D:/CCFinder/NewData/dubbo/'\n"
   ],
   "metadata": {
    "collapsed": false,
    "pycharm": {
     "name": "#%%\n"
    }
   }
  },
  {
   "cell_type": "code",
   "execution_count": 25,
   "outputs": [
    {
     "name": "stderr",
     "output_type": "stream",
     "text": [
      "100%|██████████| 9/9 [00:11<00:00,  1.31s/it]\n"
     ]
    },
    {
     "name": "stdout",
     "output_type": "stream",
     "text": [
      "D:/CCFinder/NewData/dubbo/6/53819.java\n",
      "D:/CCFinder/NewData/dubbo/6/54023.java\n",
      "D:/CCFinder/NewData/dubbo/6/54371.java\n",
      "D:/CCFinder/NewData/dubbo/6/54905.java\n",
      "D:/CCFinder/NewData/dubbo/6/55340.java\n"
     ]
    }
   ],
   "source": [
    "for i in tqdm(os.listdir(path)):\n",
    "    java_file_path = path + i + '/'\n",
    "    java_file_list = os.listdir(java_file_path)\n",
    "    for file in java_file_list:\n",
    "        with open(java_file_path+file, 'r', encoding='utf-8') as f:\n",
    "            content = f.read()\n",
    "            if 'LoggerAdapterTest.java' in content:\n",
    "                print(java_file_path+file)"
   ],
   "metadata": {
    "collapsed": false,
    "pycharm": {
     "name": "#%%\n"
    }
   }
  },
  {
   "cell_type": "code",
   "execution_count": 4,
   "outputs": [
    {
     "data": {
      "text/plain": "['1010.java',\n '1016.java',\n '1019.java',\n '1025.java',\n '1049.java',\n '1064.java',\n '1067.java',\n '1076.java',\n '1079.java',\n '1094.java',\n '1097.java',\n '110.java',\n '1106.java',\n '1109.java',\n '1112.java',\n '1115.java',\n '1121.java',\n '1127.java',\n '32.java',\n '755.java',\n '758.java',\n '767.java',\n '773.java',\n '788.java',\n '806.java',\n '821.java',\n '827.java',\n '830.java',\n '836.java',\n '839.java',\n '842.java',\n '845.java',\n '863.java',\n '866.java',\n '875.java',\n '932.java',\n '941.java',\n '944.java',\n '947.java',\n '971.java',\n '986.java']"
     },
     "execution_count": 4,
     "metadata": {},
     "output_type": "execute_result"
    }
   ],
   "source": [
    "java_file_list\n"
   ],
   "metadata": {
    "collapsed": false,
    "pycharm": {
     "name": "#%%\n"
    }
   }
  },
  {
   "cell_type": "code",
   "execution_count": null,
   "outputs": [],
   "source": [],
   "metadata": {
    "collapsed": false,
    "pycharm": {
     "name": "#%%\n",
     "is_executing": true
    }
   }
  },
  {
   "cell_type": "code",
   "execution_count": null,
   "outputs": [],
   "source": [],
   "metadata": {
    "collapsed": false,
    "pycharm": {
     "name": "#%%\n",
     "is_executing": true
    }
   }
  },
  {
   "cell_type": "code",
   "execution_count": null,
   "outputs": [],
   "source": [],
   "metadata": {
    "collapsed": false,
    "pycharm": {
     "name": "#%%\n",
     "is_executing": true
    }
   }
  },
  {
   "cell_type": "code",
   "execution_count": null,
   "outputs": [],
   "source": [
    "\n"
   ],
   "metadata": {
    "collapsed": false,
    "pycharm": {
     "name": "#%%\n"
    }
   }
  }
 ],
 "metadata": {
  "kernelspec": {
   "display_name": "Python 3",
   "language": "python",
   "name": "python3"
  },
  "language_info": {
   "codemirror_mode": {
    "name": "ipython",
    "version": 2
   },
   "file_extension": ".py",
   "mimetype": "text/x-python",
   "name": "python",
   "nbconvert_exporter": "python",
   "pygments_lexer": "ipython2",
   "version": "2.7.6"
  }
 },
 "nbformat": 4,
 "nbformat_minor": 0
}