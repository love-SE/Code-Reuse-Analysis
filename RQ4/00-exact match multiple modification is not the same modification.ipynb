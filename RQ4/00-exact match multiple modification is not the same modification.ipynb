{
 "cells": [
  {
   "cell_type": "code",
   "execution_count": 36,
   "metadata": {
    "collapsed": true
   },
   "outputs": [],
   "source": [
    "from datetime import datetime\n",
    "import time\n",
    "import os\n",
    "from tqdm import tqdm\n",
    "import pandas as pd\n",
    "import re\n",
    "import matplotlib.pyplot as plt\n",
    "import numpy as np"
   ]
  },
  {
   "cell_type": "code",
   "execution_count": 37,
   "outputs": [
    {
     "name": "stdout",
     "output_type": "stream",
     "text": [
      "<class 'pandas.core.frame.DataFrame'>\n",
      "RangeIndex: 6720 entries, 0 to 6719\n",
      "Data columns (total 2 columns):\n",
      " #   Column      Non-Null Count  Dtype \n",
      "---  ------      --------------  ----- \n",
      " 0   class_name  6720 non-null   object\n",
      " 1   commit      6720 non-null   object\n",
      "dtypes: object(2)\n",
      "memory usage: 105.1+ KB\n"
     ]
    },
    {
     "data": {
      "text/plain": "                           class_name  \\\n0  AarogyaSetu/RegisterationData.java   \n1        ActiveAndroid/ModelInfo.java   \n2    ActivityRouter/MainActivity.java   \n\n                                              commit             prj  \n0  [D-CCFinder-NewData-AarogyaSetu-0-104.java.txt...     AarogyaSetu  \n1  [D-CCFinder-NewData-ActiveAndroid-2-746.java.t...   ActiveAndroid  \n2   [D-CCFinder-NewData-ActivityRouter-0-8.java.txt]  ActivityRouter  ",
      "text/html": "<div>\n<style scoped>\n    .dataframe tbody tr th:only-of-type {\n        vertical-align: middle;\n    }\n\n    .dataframe tbody tr th {\n        vertical-align: top;\n    }\n\n    .dataframe thead th {\n        text-align: right;\n    }\n</style>\n<table border=\"1\" class=\"dataframe\">\n  <thead>\n    <tr style=\"text-align: right;\">\n      <th></th>\n      <th>class_name</th>\n      <th>commit</th>\n      <th>prj</th>\n    </tr>\n  </thead>\n  <tbody>\n    <tr>\n      <th>0</th>\n      <td>AarogyaSetu/RegisterationData.java</td>\n      <td>[D-CCFinder-NewData-AarogyaSetu-0-104.java.txt...</td>\n      <td>AarogyaSetu</td>\n    </tr>\n    <tr>\n      <th>1</th>\n      <td>ActiveAndroid/ModelInfo.java</td>\n      <td>[D-CCFinder-NewData-ActiveAndroid-2-746.java.t...</td>\n      <td>ActiveAndroid</td>\n    </tr>\n    <tr>\n      <th>2</th>\n      <td>ActivityRouter/MainActivity.java</td>\n      <td>[D-CCFinder-NewData-ActivityRouter-0-8.java.txt]</td>\n      <td>ActivityRouter</td>\n    </tr>\n  </tbody>\n</table>\n</div>"
     },
     "execution_count": 37,
     "metadata": {},
     "output_type": "execute_result"
    }
   ],
   "source": [
    "df = pd.read_csv('./The commit corresponding to the reused class.txt')\n",
    "df.info()\n",
    "df['commit'] = df['commit'].apply(lambda x: eval(x))\n",
    "df['prj'] = df['class_name'].apply(lambda x: x.split('/')[0])\n",
    "df.head(3)"
   ],
   "metadata": {
    "collapsed": false,
    "pycharm": {
     "name": "#%%\n"
    }
   }
  },
  {
   "cell_type": "code",
   "execution_count": 24,
   "outputs": [],
   "source": [],
   "metadata": {
    "collapsed": false,
    "pycharm": {
     "name": "#%%\n"
    }
   }
  },
  {
   "cell_type": "code",
   "execution_count": 38,
   "outputs": [
    {
     "data": {
      "text/plain": "['D-CCFinder-NewData-ActiveAndroid-2-746.java.txt',\n 'D-CCFinder-NewData-ActiveAndroid-3-893.java.txt']"
     },
     "execution_count": 38,
     "metadata": {},
     "output_type": "execute_result"
    }
   ],
   "source": [
    "cc = df['commit'][1].copy()\n",
    "cc"
   ],
   "metadata": {
    "collapsed": false,
    "pycharm": {
     "name": "#%%\n"
    }
   }
  },
  {
   "cell_type": "code",
   "execution_count": 38,
   "outputs": [],
   "source": [],
   "metadata": {
    "collapsed": false,
    "pycharm": {
     "name": "#%%\n"
    }
   }
  },
  {
   "cell_type": "code",
   "execution_count": 39,
   "outputs": [
    {
     "name": "stderr",
     "output_type": "stream",
     "text": [
      "100%|██████████| 6720/6720 [13:21<00:00,  8.38it/s]  \n"
     ]
    }
   ],
   "source": [
    "path1 = 'D:/CCFinder/testAns/'\n",
    "for idx in tqdm(range(len(df))):\n",
    "    project = df['prj'][idx]\n",
    "\n",
    "    fileName = []\n",
    "    clonePairs = []\n",
    "\n",
    "\n",
    "    with open (path1 + '\\\\' + project + \".txt\") as file:\n",
    "\n",
    "        while 1:\n",
    "            line = file.readline()\n",
    "            if not line:\n",
    "                break\n",
    "\n",
    "            if line == 'source_files {\\n':\n",
    "                while 1:\n",
    "                    fileLine = file.readline()\n",
    "                    if fileLine == '}\\n':\n",
    "                        break\n",
    "                    listName = fileLine.split('\\t')\n",
    "                    fileName.append(listName[1])\n",
    "\n",
    "            if line == 'clone_pairs {\\n':\n",
    "                while 1:\n",
    "                    PairsLine = file.readline()\n",
    "                    if PairsLine == '}\\n':\n",
    "                        break\n",
    "                    clonePairs.append(PairsLine)\n",
    "\n",
    "    def readCommit(fileInfo):\n",
    "        sp1 = fileInfo.split('.')\n",
    "        fileIndex = int(sp1[0]) - 1\n",
    "        fileName[fileIndex] = fileName[fileIndex].replace('F:\\\\', 'D:\\\\')\n",
    "        return fileName[fileIndex]\n",
    "    import collections\n",
    "    hashTable = collections.defaultdict(list)\n",
    "\n",
    "    for i in range(len(clonePairs)//2):\n",
    "\n",
    "        listPair = clonePairs[i].split('\\t')\n",
    "\n",
    "\n",
    "        # listPair[1] = listPair[1].replace('F:\\\\', 'D:\\\\')\n",
    "        Commitfile1 = readCommit(listPair[1])\n",
    "        Commitfile2 = readCommit(listPair[2])\n",
    "        Commitfile1 = Commitfile1.replace('\\\\', '-').replace(':','')+'.txt'\n",
    "        Commitfile2 = Commitfile2.replace('\\\\', '-').replace(':','')+'.txt'\n",
    "\n",
    "        if hashTable. __contains__(Commitfile1):\n",
    "            # hashTable[SOfile] = hashTable[SOfile] + 1\n",
    "            hashTable[Commitfile1][0] = hashTable[Commitfile1][0] + 1\n",
    "            hashTable[Commitfile1].append(Commitfile2)\n",
    "        else:\n",
    "            # hashTable[SOfile] = 1\n",
    "            hashTable[Commitfile1].append(1)\n",
    "            hashTable[Commitfile1].append(Commitfile2)\n",
    "\n",
    "\n",
    "\n",
    "    for commit in df['commit'][idx]:\n",
    "        clone_list = hashTable[commit][1:]\n",
    "\n",
    "        while commit in clone_list:\n",
    "            clone_list.remove(commit)\n",
    "        for clone_commit in clone_list:\n",
    "            if clone_commit in df['commit'][idx]:\n",
    "                df['commit'][idx].remove(clone_commit)\n",
    "\n"
   ],
   "metadata": {
    "collapsed": false,
    "pycharm": {
     "name": "#%%\n"
    }
   }
  },
  {
   "cell_type": "code",
   "execution_count": 23,
   "outputs": [
    {
     "data": {
      "text/plain": "[10,\n 'D-CCFinder-NewData-ActiveAndroid-2-746.java.txt',\n 'D-CCFinder-NewData-ActiveAndroid-2-746.java.txt',\n 'D-CCFinder-NewData-ActiveAndroid-2-746.java.txt',\n 'D-CCFinder-NewData-ActiveAndroid-2-746.java.txt',\n 'D-CCFinder-NewData-ActiveAndroid-2-746.java.txt',\n 'D-CCFinder-NewData-ActiveAndroid-3-893.java.txt',\n 'D-CCFinder-NewData-ActiveAndroid-3-893.java.txt',\n 'D-CCFinder-NewData-ActiveAndroid-3-893.java.txt',\n 'D-CCFinder-NewData-ActiveAndroid-3-893.java.txt',\n 'D-CCFinder-NewData-ActiveAndroid-3-893.java.txt']"
     },
     "execution_count": 23,
     "metadata": {},
     "output_type": "execute_result"
    }
   ],
   "source": [
    "hashTable[cc[0]]"
   ],
   "metadata": {
    "collapsed": false,
    "pycharm": {
     "name": "#%%\n"
    }
   }
  },
  {
   "cell_type": "code",
   "execution_count": 31,
   "outputs": [
    {
     "data": {
      "text/plain": "1"
     },
     "execution_count": 31,
     "metadata": {},
     "output_type": "execute_result"
    }
   ],
   "source": [
    "idx"
   ],
   "metadata": {
    "collapsed": false,
    "pycharm": {
     "name": "#%%\n"
    }
   }
  },
  {
   "cell_type": "code",
   "execution_count": 32,
   "outputs": [
    {
     "data": {
      "text/plain": "['D-CCFinder-NewData-ActiveAndroid-2-746.java.txt']"
     },
     "execution_count": 32,
     "metadata": {},
     "output_type": "execute_result"
    }
   ],
   "source": [
    "df['commit'][idx]"
   ],
   "metadata": {
    "collapsed": false,
    "pycharm": {
     "name": "#%%\n"
    }
   }
  },
  {
   "cell_type": "code",
   "execution_count": 1,
   "outputs": [],
   "source": [],
   "metadata": {
    "collapsed": false,
    "pycharm": {
     "name": "#%%\n"
    }
   }
  },
  {
   "cell_type": "code",
   "execution_count": 21,
   "outputs": [
    {
     "data": {
      "text/plain": "['D-CCFinder-NewData-ActiveAndroid-2-746.java.txt',\n 'D-CCFinder-NewData-ActiveAndroid-3-893.java.txt']"
     },
     "execution_count": 21,
     "metadata": {},
     "output_type": "execute_result"
    }
   ],
   "source": [
    "cc"
   ],
   "metadata": {
    "collapsed": false,
    "pycharm": {
     "name": "#%%\n"
    }
   }
  },
  {
   "cell_type": "code",
   "execution_count": 40,
   "outputs": [],
   "source": [
    "\n",
    "df.to_csv('./Commit corresponding to the reused class (exact).txt',index=False)\n"
   ],
   "metadata": {
    "collapsed": false,
    "pycharm": {
     "name": "#%%\n"
    }
   }
  },
  {
   "cell_type": "code",
   "execution_count": 41,
   "outputs": [],
   "source": [
    "df['len'] = df['commit'].apply(lambda x: len(x))"
   ],
   "metadata": {
    "collapsed": false,
    "pycharm": {
     "name": "#%%\n"
    }
   }
  },
  {
   "cell_type": "code",
   "execution_count": 42,
   "outputs": [
    {
     "data": {
      "text/plain": "                                    class_name  \\\n7            AgentWeb/DefaultChromeClient.java   \n9            AgentWeb/DefaultUIController.java   \n34                        algs4/StdRandom.java   \n53              AmazeFileManager/AppsList.java   \n61              AmazeFileManager/Preffrag.java   \n...                                        ...   \n6626         zeppelin/InterpreterProperty.java   \n6663            zookeeper/NettyServerCnxn.java   \n6685         zookeeper/SessionTrackerImpl.java   \n6706                  zxing/CameraManager.java   \n6718  zxing-android-embedded/MainActivity.java   \n\n                                                 commit  \\\n7     [D-CCFinder-NewData-AgentWeb-0-1220.java.txt, ...   \n9     [D-CCFinder-NewData-AgentWeb-0-2261.java.txt, ...   \n34    [D-CCFinder-NewData-algs4-1-2762.java.txt, D-C...   \n53    [D-CCFinder-NewData-AmazeFileManager-0-1808.ja...   \n61    [D-CCFinder-NewData-AmazeFileManager-0-992.jav...   \n...                                                 ...   \n6626  [D-CCFinder-NewData-zeppelin-4-25013.java.txt,...   \n6663  [D-CCFinder-NewData-zookeeper-11-15203.java.tx...   \n6685  [D-CCFinder-NewData-zookeeper-6-10667.java.txt...   \n6706  [D-CCFinder-NewData-zxing-5-10445.java.txt, D-...   \n6718  [D-CCFinder-NewData-zxing-android-embedded-7-2...   \n\n                         prj  len  \n7                   AgentWeb    2  \n9                   AgentWeb    3  \n34                     algs4    2  \n53          AmazeFileManager    2  \n61          AmazeFileManager    2  \n...                      ...  ...  \n6626                zeppelin    2  \n6663               zookeeper    2  \n6685               zookeeper    2  \n6706                   zxing    2  \n6718  zxing-android-embedded    3  \n\n[757 rows x 4 columns]",
      "text/html": "<div>\n<style scoped>\n    .dataframe tbody tr th:only-of-type {\n        vertical-align: middle;\n    }\n\n    .dataframe tbody tr th {\n        vertical-align: top;\n    }\n\n    .dataframe thead th {\n        text-align: right;\n    }\n</style>\n<table border=\"1\" class=\"dataframe\">\n  <thead>\n    <tr style=\"text-align: right;\">\n      <th></th>\n      <th>class_name</th>\n      <th>commit</th>\n      <th>prj</th>\n      <th>len</th>\n    </tr>\n  </thead>\n  <tbody>\n    <tr>\n      <th>7</th>\n      <td>AgentWeb/DefaultChromeClient.java</td>\n      <td>[D-CCFinder-NewData-AgentWeb-0-1220.java.txt, ...</td>\n      <td>AgentWeb</td>\n      <td>2</td>\n    </tr>\n    <tr>\n      <th>9</th>\n      <td>AgentWeb/DefaultUIController.java</td>\n      <td>[D-CCFinder-NewData-AgentWeb-0-2261.java.txt, ...</td>\n      <td>AgentWeb</td>\n      <td>3</td>\n    </tr>\n    <tr>\n      <th>34</th>\n      <td>algs4/StdRandom.java</td>\n      <td>[D-CCFinder-NewData-algs4-1-2762.java.txt, D-C...</td>\n      <td>algs4</td>\n      <td>2</td>\n    </tr>\n    <tr>\n      <th>53</th>\n      <td>AmazeFileManager/AppsList.java</td>\n      <td>[D-CCFinder-NewData-AmazeFileManager-0-1808.ja...</td>\n      <td>AmazeFileManager</td>\n      <td>2</td>\n    </tr>\n    <tr>\n      <th>61</th>\n      <td>AmazeFileManager/Preffrag.java</td>\n      <td>[D-CCFinder-NewData-AmazeFileManager-0-992.jav...</td>\n      <td>AmazeFileManager</td>\n      <td>2</td>\n    </tr>\n    <tr>\n      <th>...</th>\n      <td>...</td>\n      <td>...</td>\n      <td>...</td>\n      <td>...</td>\n    </tr>\n    <tr>\n      <th>6626</th>\n      <td>zeppelin/InterpreterProperty.java</td>\n      <td>[D-CCFinder-NewData-zeppelin-4-25013.java.txt,...</td>\n      <td>zeppelin</td>\n      <td>2</td>\n    </tr>\n    <tr>\n      <th>6663</th>\n      <td>zookeeper/NettyServerCnxn.java</td>\n      <td>[D-CCFinder-NewData-zookeeper-11-15203.java.tx...</td>\n      <td>zookeeper</td>\n      <td>2</td>\n    </tr>\n    <tr>\n      <th>6685</th>\n      <td>zookeeper/SessionTrackerImpl.java</td>\n      <td>[D-CCFinder-NewData-zookeeper-6-10667.java.txt...</td>\n      <td>zookeeper</td>\n      <td>2</td>\n    </tr>\n    <tr>\n      <th>6706</th>\n      <td>zxing/CameraManager.java</td>\n      <td>[D-CCFinder-NewData-zxing-5-10445.java.txt, D-...</td>\n      <td>zxing</td>\n      <td>2</td>\n    </tr>\n    <tr>\n      <th>6718</th>\n      <td>zxing-android-embedded/MainActivity.java</td>\n      <td>[D-CCFinder-NewData-zxing-android-embedded-7-2...</td>\n      <td>zxing-android-embedded</td>\n      <td>3</td>\n    </tr>\n  </tbody>\n</table>\n<p>757 rows × 4 columns</p>\n</div>"
     },
     "execution_count": 42,
     "metadata": {},
     "output_type": "execute_result"
    }
   ],
   "source": [
    "df[df['len']>=2]"
   ],
   "metadata": {
    "collapsed": false,
    "pycharm": {
     "name": "#%%\n"
    }
   }
  },
  {
   "cell_type": "code",
   "execution_count": 24,
   "outputs": [],
   "source": [
    "x = ['D-CCFinder-NewData-ActiveAndroid-2-746.java.txt',\n",
    " 'D-CCFinder-NewData-ActiveAndroid-2-746.java.txt',\n",
    " 'D-CCFinder-NewData-ActiveAndroid-2-746.java.txt',\n",
    " 'D-CCFinder-NewData-ActiveAndroid-2-746.java.txt',\n",
    " 'D-CCFinder-NewData-ActiveAndroid-2-746.java.txt',\n",
    " 'D-CCFinder-NewData-ActiveAndroid-3-893.java.txt',\n",
    " 'D-CCFinder-NewData-ActiveAndroid-3-893.java.txt',\n",
    " 'D-CCFinder-NewData-ActiveAndroid-3-893.java.txt',\n",
    " 'D-CCFinder-NewData-ActiveAndroid-3-893.java.txt',\n",
    " 'D-CCFinder-NewData-ActiveAndroid-3-893.java.txt']\n",
    "\n"
   ],
   "metadata": {
    "collapsed": false,
    "pycharm": {
     "name": "#%%\n"
    }
   }
  },
  {
   "cell_type": "code",
   "execution_count": 25,
   "outputs": [],
   "source": [
    "x.remove('D-CCFinder-NewData-ActiveAndroid-2-746.java.txt')"
   ],
   "metadata": {
    "collapsed": false,
    "pycharm": {
     "name": "#%%\n"
    }
   }
  },
  {
   "cell_type": "code",
   "execution_count": 26,
   "outputs": [
    {
     "data": {
      "text/plain": "['D-CCFinder-NewData-ActiveAndroid-2-746.java.txt',\n 'D-CCFinder-NewData-ActiveAndroid-2-746.java.txt',\n 'D-CCFinder-NewData-ActiveAndroid-2-746.java.txt',\n 'D-CCFinder-NewData-ActiveAndroid-2-746.java.txt',\n 'D-CCFinder-NewData-ActiveAndroid-3-893.java.txt',\n 'D-CCFinder-NewData-ActiveAndroid-3-893.java.txt',\n 'D-CCFinder-NewData-ActiveAndroid-3-893.java.txt',\n 'D-CCFinder-NewData-ActiveAndroid-3-893.java.txt',\n 'D-CCFinder-NewData-ActiveAndroid-3-893.java.txt']"
     },
     "execution_count": 26,
     "metadata": {},
     "output_type": "execute_result"
    }
   ],
   "source": [
    "x\n"
   ],
   "metadata": {
    "collapsed": false,
    "pycharm": {
     "name": "#%%\n"
    }
   }
  },
  {
   "cell_type": "code",
   "execution_count": 0,
   "outputs": [],
   "source": [],
   "metadata": {
    "collapsed": false,
    "pycharm": {
     "name": "#%%\n"
    }
   }
  },
  {
   "cell_type": "code",
   "execution_count": 0,
   "outputs": [],
   "source": [],
   "metadata": {
    "collapsed": false,
    "pycharm": {
     "name": "#%%\n"
    }
   }
  },
  {
   "cell_type": "code",
   "execution_count": 0,
   "outputs": [],
   "source": [],
   "metadata": {
    "collapsed": false,
    "pycharm": {
     "name": "#%%\n"
    }
   }
  },
  {
   "cell_type": "code",
   "execution_count": null,
   "outputs": [],
   "source": [
    "\n"
   ],
   "metadata": {
    "collapsed": false,
    "pycharm": {
     "name": "#%%\n"
    }
   }
  }
 ],
 "metadata": {
  "kernelspec": {
   "display_name": "Python 3",
   "language": "python",
   "name": "python3"
  },
  "language_info": {
   "codemirror_mode": {
    "name": "ipython",
    "version": 2
   },
   "file_extension": ".py",
   "mimetype": "text/x-python",
   "name": "python",
   "nbconvert_exporter": "python",
   "pygments_lexer": "ipython2",
   "version": "2.7.6"
  }
 },
 "nbformat": 4,
 "nbformat_minor": 0
}