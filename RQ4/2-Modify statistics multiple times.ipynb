{
 "cells": [
  {
   "cell_type": "code",
   "execution_count": 1,
   "metadata": {
    "collapsed": true
   },
   "outputs": [],
   "source": [
    "from datetime import datetime\n",
    "import time\n",
    "import os\n",
    "from tqdm import tqdm\n",
    "import pandas as pd\n",
    "import re\n",
    "import matplotlib.pyplot as plt\n",
    "import numpy as np\n",
    "\n"
   ]
  },
  {
   "cell_type": "code",
   "execution_count": 2,
   "outputs": [
    {
     "data": {
      "text/plain": "(757, 'AgentWeb-DefaultChromeClient.java.txt')"
     },
     "execution_count": 2,
     "metadata": {},
     "output_type": "execute_result"
    }
   ],
   "source": [
    "path1 = './A class that has been modified multiple times and has been reused multiple times/'\n",
    "list1 = os.listdir(path1)\n",
    "len(list1),list1[0]"
   ],
   "metadata": {
    "collapsed": false,
    "pycharm": {
     "name": "#%%\n"
    }
   }
  },
  {
   "cell_type": "code",
   "execution_count": 1,
   "outputs": [
    {
     "ename": "NameError",
     "evalue": "name 'tqdm' is not defined",
     "output_type": "error",
     "traceback": [
      "\u001B[1;31m---------------------------------------------------------------------------\u001B[0m",
      "\u001B[1;31mNameError\u001B[0m                                 Traceback (most recent call last)",
      "\u001B[1;32mC:\\Users\\MACHEN~1\\AppData\\Local\\Temp/ipykernel_13952/1182512076.py\u001B[0m in \u001B[0;36m<module>\u001B[1;34m\u001B[0m\n\u001B[0;32m      2\u001B[0m \u001B[0msum\u001B[0m \u001B[1;33m=\u001B[0m \u001B[1;36m0\u001B[0m\u001B[1;33m\u001B[0m\u001B[1;33m\u001B[0m\u001B[0m\n\u001B[0;32m      3\u001B[0m \u001B[0mexist_reuse_same_post_class_list\u001B[0m \u001B[1;33m=\u001B[0m \u001B[1;33m[\u001B[0m\u001B[1;33m]\u001B[0m\u001B[1;33m\u001B[0m\u001B[1;33m\u001B[0m\u001B[0m\n\u001B[1;32m----> 4\u001B[1;33m \u001B[1;32mfor\u001B[0m \u001B[0mfile\u001B[0m \u001B[1;32min\u001B[0m \u001B[0mtqdm\u001B[0m\u001B[1;33m(\u001B[0m\u001B[0mlist1\u001B[0m\u001B[1;33m)\u001B[0m\u001B[1;33m:\u001B[0m\u001B[1;33m\u001B[0m\u001B[1;33m\u001B[0m\u001B[0m\n\u001B[0m\u001B[0;32m      5\u001B[0m     \u001B[1;32mwith\u001B[0m \u001B[0mopen\u001B[0m\u001B[1;33m(\u001B[0m\u001B[0mpath1\u001B[0m\u001B[1;33m+\u001B[0m\u001B[0mfile\u001B[0m\u001B[1;33m,\u001B[0m \u001B[1;34m'r'\u001B[0m\u001B[1;33m,\u001B[0m \u001B[0mencoding\u001B[0m\u001B[1;33m=\u001B[0m\u001B[1;34m'utf-8'\u001B[0m\u001B[1;33m)\u001B[0m \u001B[1;32mas\u001B[0m \u001B[0mf\u001B[0m\u001B[1;33m:\u001B[0m\u001B[1;33m\u001B[0m\u001B[1;33m\u001B[0m\u001B[0m\n\u001B[0;32m      6\u001B[0m         \u001B[0mlines\u001B[0m \u001B[1;33m=\u001B[0m \u001B[0mf\u001B[0m\u001B[1;33m.\u001B[0m\u001B[0mreadlines\u001B[0m\u001B[1;33m(\u001B[0m\u001B[1;33m)\u001B[0m\u001B[1;33m\u001B[0m\u001B[1;33m\u001B[0m\u001B[0m\n",
      "\u001B[1;31mNameError\u001B[0m: name 'tqdm' is not defined"
     ]
    }
   ],
   "source": [
    "all_rereuse_post = []\n",
    "sum = 0\n",
    "exist_reuse_same_post_class_list = []\n",
    "for file in tqdm(list1):\n",
    "    with open(path1+file, 'r', encoding='utf-8') as f:\n",
    "        lines = f.readlines()\n",
    "        set_lines = list(set(lines))\n",
    "        if len(set_lines) != len(lines):\n",
    "            sum+=1\n",
    "            exist_reuse_same_post_class_list.append(file)\n",
    "        for line in set_lines:\n",
    "            if lines.count(line)>=2:\n",
    "                all_rereuse_post.append(line)\n",
    "print('Modify and reuse the class of the same post multiple times：', sum)\n",
    "print('proportion：', sum/len(list1))"
   ],
   "metadata": {
    "collapsed": false,
    "pycharm": {
     "name": "#%%\n"
    }
   }
  },
  {
   "cell_type": "code",
   "execution_count": 4,
   "outputs": [
    {
     "data": {
      "text/plain": "55"
     },
     "execution_count": 4,
     "metadata": {},
     "output_type": "execute_result"
    }
   ],
   "source": [
    "len(all_rereuse_post)"
   ],
   "metadata": {
    "collapsed": false,
    "pycharm": {
     "name": "#%%\n"
    }
   }
  },
  {
   "cell_type": "code",
   "execution_count": 5,
   "outputs": [
    {
     "data": {
      "text/plain": "54"
     },
     "execution_count": 5,
     "metadata": {},
     "output_type": "execute_result"
    }
   ],
   "source": [
    "len(exist_reuse_same_post_class_list)\n"
   ],
   "metadata": {
    "collapsed": false,
    "pycharm": {
     "name": "#%%\n"
    }
   }
  },
  {
   "cell_type": "code",
   "execution_count": 6,
   "outputs": [
    {
     "data": {
      "text/plain": "['androidannotations-ClicksHandledActivity.java.txt',\n 'androidannotations-LongClicksHandledActivity.java.txt',\n 'Aria-DLoadExecutePool.java.txt',\n 'canal-SpringInstanceConfigMonitor.java.txt',\n 'DependencyCheck-CentralSearchTest.java.txt',\n 'DependencyCheck-NuspecAnalyzerTest.java.txt',\n 'DependencyCheck-NvdCveUpdaterIntegrationTest.java.txt',\n 'dubbo-LoggerAdapterTest.java.txt',\n 'dubbo-NettyTransporterTest.java.txt',\n 'epoxy-ModelWithConstructors_.java.txt',\n 'epoxy-ModelWithFinalField_.java.txt',\n 'epoxy-ModelWithIntDef_.java.txt',\n 'epoxy-ModelWithoutHash_.java.txt',\n 'epoxy-ModelWithSuperAttributes_.java.txt',\n 'epoxy-ModelWithSuper_.java.txt',\n 'epoxy-ModelWithType_.java.txt',\n 'facebook-android-sdk-AppEventTest.java.txt',\n 'facebook-android-sdk-FileLruCacheTest.java.txt',\n 'facebook-android-sdk-ProfileManagerTest.java.txt',\n 'fastjson-MapDeserializer.java.txt',\n 'FileDownloader-FileDownloadServiceUIGuard.java.txt',\n 'FirebaseUI-Android-FirebaseAuthWrapperImplShadow.java.txt',\n 'Hystrix-HystrixCircuitBreaker.java.txt',\n 'Hystrix-HystrixCommandBuilderFactory.java.txt',\n 'Hystrix-HystrixCommandTest.java.txt',\n 'Hystrix-HystrixCommandTimeoutConcurrencyTesting.java.txt',\n 'Hystrix-HystrixObservableCollapser.java.txt',\n 'Hystrix-HystrixPropertiesManager.java.txt',\n 'Hystrix-HystrixRequestCache.java.txt',\n 'Hystrix-HystrixTimer.java.txt',\n 'ignite-GridCachePartitionedOptimisticTxNodeRestartTest.java.txt',\n 'immutables-NullabilityAnnotationInfo.java.txt',\n 'jackson-databind-JsonLocationInstantiator.java.txt',\n 'javassist-StringL.java.txt',\n 'junit4-TextListener.java.txt',\n 'lettuce-core-ReadOnlyCommandsUnitTests.java.txt',\n 'linuxdeploy-AppCompatPreferenceActivity.java.txt',\n 'lombok-intellij-plugin-DataTestCase.java.txt',\n 'lombok-intellij-plugin-FieldDefaultsModifierProcessor.java.txt',\n 'lombok-intellij-plugin-GetterTestCase.java.txt',\n 'lombok-intellij-plugin-IntelliJLombokPluginTestCase.java.txt',\n 'lombok-intellij-plugin-PsiAnnotationUtil.java.txt',\n 'lombok-intellij-plugin-SneakyTest.java.txt',\n 'lombok-intellij-plugin-WitherTestCase.java.txt',\n 'maxwell-StringColumnDef.java.txt',\n 'mpush-LastBoot.java.txt',\n 'mybatis-3-ColumnPrefixNestedQueryTest.java.txt',\n 'mybatis-3-Sequence.java.txt',\n 'PermissionsDispatcher-Source.java.txt',\n 'spring-boot-AnotherExampleRestClient.java.txt',\n 'spring-boot-EncodePasswordCommandTests.java.txt',\n 'wildfly-LogFactory.java.txt',\n 'wildfly-ModelPersistenceTestCase.java.txt',\n 'wiremock-RequestQueryAcceptanceTest.java.txt']"
     },
     "execution_count": 6,
     "metadata": {},
     "output_type": "execute_result"
    }
   ],
   "source": [
    "exist_reuse_same_post_class_list"
   ],
   "metadata": {
    "collapsed": false,
    "pycharm": {
     "name": "#%%\n"
    }
   }
  },
  {
   "cell_type": "code",
   "execution_count": 17,
   "outputs": [
    {
     "data": {
      "text/plain": "'//CreationDate = 2014-08-04T17:21:29.407//Tags = <java><android><json><android-layout><android-activity>//Score = 0//Title = Selecting an item from a listview//AnswerCount = 2//CommentCount = 0\\n'"
     },
     "execution_count": 17,
     "metadata": {},
     "output_type": "execute_result"
    }
   ],
   "source": [
    "all_rereuse_post[-1]"
   ],
   "metadata": {
    "collapsed": false,
    "pycharm": {
     "name": "#%%\n"
    }
   }
  },
  {
   "cell_type": "code",
   "execution_count": 18,
   "outputs": [],
   "source": [
    "len(all_rereuse_post)"
   ],
   "metadata": {
    "collapsed": false,
    "pycharm": {
     "name": "#%%\n"
    }
   }
  },
  {
   "cell_type": "code",
   "execution_count": 5,
   "outputs": [],
   "source": [
    "with open('./Modify multiple posts that have been reused multiple times.txt', 'w', encoding='utf-8') as f:\n",
    "    for i in all_rereuse_post:\n",
    "        f.write(i)"
   ],
   "metadata": {
    "collapsed": false,
    "pycharm": {
     "name": "#%%\n"
    }
   }
  },
  {
   "cell_type": "code",
   "execution_count": 9,
   "outputs": [
    {
     "data": {
      "text/plain": "3"
     },
     "execution_count": 9,
     "metadata": {},
     "output_type": "execute_result"
    }
   ],
   "source": [
    "x = [1,1,1,34,2]\n",
    "x.count(1)"
   ],
   "metadata": {
    "collapsed": false,
    "pycharm": {
     "name": "#%%\n"
    }
   }
  },
  {
   "cell_type": "code",
   "execution_count": 6,
   "outputs": [],
   "source": [
    "def extract_info(x):\n",
    "    CreationDate = re.findall(r'CreationDate = (.*?)//',x)[0]\n",
    "\n",
    "    Title = re.findall(r'Title = (.*?)//',x)[0]\n",
    "\n",
    "    Tags = re.findall(r'Tags = (.*?)//',x)[0]\n",
    "    Tags = Tags.split('><')\n",
    "    Tags[0] = Tags[0].lstrip('<')\n",
    "    Tags[-1] = Tags[-1].rstrip('>')\n",
    "    Tags = ' '.join(Tags)\n",
    "\n",
    "    Score = re.findall(r'Score = (.*?)//',x)[0]\n",
    "\n",
    "\n",
    "    AnswerCount = re.findall(r'AnswerCount = (.*?)//',x)\n",
    "    if AnswerCount==[] or AnswerCount==['']:\n",
    "        AnswerCount = re.findall(r'AnswerCount = (.*?)\\n',x)\n",
    "        if AnswerCount == [] or AnswerCount==['']:\n",
    "            AnswerCount = None\n",
    "        else:\n",
    "            AnswerCount = AnswerCount[0]\n",
    "    else:\n",
    "        AnswerCount = AnswerCount[0]\n",
    "\n",
    "\n",
    "    CommentCount = re.findall(r'CommentCount = (.*?)//',x)\n",
    "    if CommentCount==[] or CommentCount==['']:\n",
    "        CommentCount = re.findall(r'CommentCount = (.*?)\\n',x)\n",
    "        if CommentCount==[] or CommentCount==['']:\n",
    "            CommentCount = None\n",
    "        else:\n",
    "            CommentCount = CommentCount[0]\n",
    "    else:\n",
    "        CommentCount = CommentCount[0]\n",
    "\n",
    "    FavoriteCount = re.findall(r'FavoriteCount = (.*?)//',x)\n",
    "    if FavoriteCount==[] or FavoriteCount==['']:\n",
    "        FavoriteCount = re.findall(r'FavoriteCount = (.*?)\\n',x)\n",
    "        if FavoriteCount==[] or FavoriteCount==['']:\n",
    "            FavoriteCount = None\n",
    "        else:\n",
    "            FavoriteCount = FavoriteCount[0]\n",
    "    else:\n",
    "        FavoriteCount = FavoriteCount[0]\n",
    "\n",
    "\n",
    "\n",
    "    return CreationDate, Title, Tags, Score, AnswerCount, CommentCount, FavoriteCount\n",
    "new_df = pd.DataFrame({'CreationDate':[],'Title':[], 'Tags':[],\n",
    "                          'Score':[],'AnswerCount':[], 'CommentCount':[],\n",
    "                          'FavoriteCount':[]})\n",
    "\n",
    "CreationDate_list = []\n",
    "Title_list = []\n",
    "Tags_list = []\n",
    "Score_list = []\n",
    "AnswerCount_list = []\n",
    "CommentCount_list = []\n",
    "FavoriteCount_list = []\n",
    "\n",
    "\n",
    "with open('./Modify multiple posts that have been reused multiple times.txt', 'r', encoding='utf-8') as f:\n",
    "    lines = f.readlines()\n",
    "    # lines = list(set(lines))\n",
    "    for l in lines:\n",
    "        CreationDate, Title, Tags, Score, AnswerCount, CommentCount, FavoriteCount = extract_info(l)\n",
    "        CreationDate_list.append(CreationDate)\n",
    "        Title_list.append(Title)\n",
    "        Tags_list.append(Tags)\n",
    "        Score_list.append(Score)\n",
    "        AnswerCount_list.append(AnswerCount)\n",
    "        CommentCount_list.append(CommentCount)\n",
    "        FavoriteCount_list.append(FavoriteCount)\n",
    "new_df['CreationDate'] = CreationDate_list\n",
    "new_df['Title'] = Title_list\n",
    "new_df['Tags'] = Tags_list\n",
    "new_df['Score'] = Score_list\n",
    "new_df['AnswerCount'] = AnswerCount_list\n",
    "new_df['CommentCount'] = CommentCount_list\n",
    "new_df['FavoriteCount'] =FavoriteCount_list"
   ],
   "metadata": {
    "collapsed": false,
    "pycharm": {
     "name": "#%%\n"
    }
   }
  },
  {
   "cell_type": "code",
   "execution_count": 7,
   "outputs": [],
   "source": [
    "new_df.to_csv('./Modify various indicators of posts that have been reused multiple times.txt')"
   ],
   "metadata": {
    "collapsed": false,
    "pycharm": {
     "name": "#%%\n"
    }
   }
  },
  {
   "cell_type": "code",
   "execution_count": 8,
   "outputs": [
    {
     "name": "stdout",
     "output_type": "stream",
     "text": [
      "<class 'pandas.core.frame.DataFrame'>\n",
      "RangeIndex: 55 entries, 0 to 54\n",
      "Data columns (total 8 columns):\n",
      " #   Column         Non-Null Count  Dtype  \n",
      "---  ------         --------------  -----  \n",
      " 0   Unnamed: 0     55 non-null     int64  \n",
      " 1   CreationDate   55 non-null     object \n",
      " 2   Title          55 non-null     object \n",
      " 3   Tags           55 non-null     object \n",
      " 4   Score          55 non-null     int64  \n",
      " 5   AnswerCount    55 non-null     int64  \n",
      " 6   CommentCount   55 non-null     int64  \n",
      " 7   FavoriteCount  14 non-null     float64\n",
      "dtypes: float64(1), int64(4), object(3)\n",
      "memory usage: 3.6+ KB\n"
     ]
    }
   ],
   "source": [
    "new_df = pd.read_csv('./Modify various indicators of posts that have been reused multiple times.txt')\n",
    "new_df.info()\n"
   ],
   "metadata": {
    "collapsed": false,
    "pycharm": {
     "name": "#%%\n"
    }
   }
  },
  {
   "cell_type": "code",
   "execution_count": 19,
   "outputs": [],
   "source": [],
   "metadata": {
    "collapsed": false,
    "pycharm": {
     "name": "#%%\n"
    }
   }
  },
  {
   "cell_type": "code",
   "execution_count": 19,
   "outputs": [],
   "source": [],
   "metadata": {
    "collapsed": false,
    "pycharm": {
     "name": "#%%\n"
    }
   }
  },
  {
   "cell_type": "code",
   "execution_count": 19,
   "outputs": [],
   "source": [],
   "metadata": {
    "collapsed": false,
    "pycharm": {
     "name": "#%%\n"
    }
   }
  },
  {
   "cell_type": "code",
   "execution_count": null,
   "outputs": [],
   "source": [
    "\n"
   ],
   "metadata": {
    "collapsed": false,
    "pycharm": {
     "name": "#%%\n"
    }
   }
  }
 ],
 "metadata": {
  "kernelspec": {
   "display_name": "Python 3",
   "language": "python",
   "name": "python3"
  },
  "language_info": {
   "codemirror_mode": {
    "name": "ipython",
    "version": 2
   },
   "file_extension": ".py",
   "mimetype": "text/x-python",
   "name": "python",
   "nbconvert_exporter": "python",
   "pygments_lexer": "ipython2",
   "version": "2.7.6"
  }
 },
 "nbformat": 4,
 "nbformat_minor": 0
}